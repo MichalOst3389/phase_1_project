{
 "cells": [
  {
   "cell_type": "markdown",
   "metadata": {},
   "source": [
    "## Final Project Submission\n",
    "\n",
    "Please fill out:\n",
    "* Student name: \n",
    "* Student pace: self paced / part time / full time\n",
    "* Scheduled project review date/time: \n",
    "* Instructor name: \n",
    "* Blog post URL:\n"
   ]
  },
  {
   "cell_type": "code",
   "execution_count": 1,
   "metadata": {},
   "outputs": [],
   "source": [
    "#importing libraries"
   ]
  },
  {
   "cell_type": "code",
   "execution_count": 2,
   "metadata": {},
   "outputs": [],
   "source": [
    "import pandas as pd\n",
    "import sqlite3 as sql\n",
    "import numpy as np\n",
    "from matplotlib import pyplot as plt\n",
    "import seaborn as sns\n",
    "%matplotlib inline\n",
    "from sklearn.linear_model import LinearRegression\n",
    "from matplotlib.ticker import FormatStrFormatter"
   ]
  },
  {
   "cell_type": "code",
   "execution_count": 3,
   "metadata": {},
   "outputs": [],
   "source": [
    "#importing csv, tsv files"
   ]
  },
  {
   "cell_type": "code",
   "execution_count": 4,
   "metadata": {},
   "outputs": [],
   "source": [
    "bom_movie_gross_df = pd.read_csv(r'C:\\Users\\micha\\coursematerials\\phase_1_project\\UnzippedData\\bom.movie_gross.csv')\n",
    "rt_movie_info_df = pd.read_csv(r'C:\\Users\\micha\\coursematerials\\phase_1_project\\UnzippedData\\rt.movie_info.tsv', sep='\\t')\n",
    "rt_reviews_df = pd.read_csv(r'C:\\Users\\micha\\coursematerials\\phase_1_project\\UnzippedData\\rt.reviews.tsv', sep='\\t', encoding = 'unicode_escape')\n",
    "tmbd_movies_df = pd.read_csv(r'C:\\Users\\micha\\coursematerials\\phase_1_project\\UnzippedData\\tmdb.movies.csv')\n",
    "tn_movie_budgets_df = pd.read_csv(r'C:\\Users\\micha\\coursematerials\\phase_1_project\\UnzippedData\\tn.movie_budgets.csv')"
   ]
  },
  {
   "cell_type": "markdown",
   "metadata": {},
   "source": [
    "### Exploratory analysis"
   ]
  },
  {
   "cell_type": "code",
   "execution_count": 5,
   "metadata": {},
   "outputs": [],
   "source": [
    "#viewing first 5 rows of bom_movie_gross_df"
   ]
  },
  {
   "cell_type": "code",
   "execution_count": 6,
   "metadata": {},
   "outputs": [
    {
     "data": {
      "text/html": [
       "<div>\n",
       "<style scoped>\n",
       "    .dataframe tbody tr th:only-of-type {\n",
       "        vertical-align: middle;\n",
       "    }\n",
       "\n",
       "    .dataframe tbody tr th {\n",
       "        vertical-align: top;\n",
       "    }\n",
       "\n",
       "    .dataframe thead th {\n",
       "        text-align: right;\n",
       "    }\n",
       "</style>\n",
       "<table border=\"1\" class=\"dataframe\">\n",
       "  <thead>\n",
       "    <tr style=\"text-align: right;\">\n",
       "      <th></th>\n",
       "      <th>title</th>\n",
       "      <th>studio</th>\n",
       "      <th>domestic_gross</th>\n",
       "      <th>foreign_gross</th>\n",
       "      <th>year</th>\n",
       "    </tr>\n",
       "  </thead>\n",
       "  <tbody>\n",
       "    <tr>\n",
       "      <th>0</th>\n",
       "      <td>Toy Story 3</td>\n",
       "      <td>BV</td>\n",
       "      <td>415000000.0</td>\n",
       "      <td>652000000</td>\n",
       "      <td>2010</td>\n",
       "    </tr>\n",
       "    <tr>\n",
       "      <th>1</th>\n",
       "      <td>Alice in Wonderland (2010)</td>\n",
       "      <td>BV</td>\n",
       "      <td>334200000.0</td>\n",
       "      <td>691300000</td>\n",
       "      <td>2010</td>\n",
       "    </tr>\n",
       "    <tr>\n",
       "      <th>2</th>\n",
       "      <td>Harry Potter and the Deathly Hallows Part 1</td>\n",
       "      <td>WB</td>\n",
       "      <td>296000000.0</td>\n",
       "      <td>664300000</td>\n",
       "      <td>2010</td>\n",
       "    </tr>\n",
       "    <tr>\n",
       "      <th>3</th>\n",
       "      <td>Inception</td>\n",
       "      <td>WB</td>\n",
       "      <td>292600000.0</td>\n",
       "      <td>535700000</td>\n",
       "      <td>2010</td>\n",
       "    </tr>\n",
       "    <tr>\n",
       "      <th>4</th>\n",
       "      <td>Shrek Forever After</td>\n",
       "      <td>P/DW</td>\n",
       "      <td>238700000.0</td>\n",
       "      <td>513900000</td>\n",
       "      <td>2010</td>\n",
       "    </tr>\n",
       "  </tbody>\n",
       "</table>\n",
       "</div>"
      ],
      "text/plain": [
       "                                         title studio  domestic_gross  \\\n",
       "0                                  Toy Story 3     BV     415000000.0   \n",
       "1                   Alice in Wonderland (2010)     BV     334200000.0   \n",
       "2  Harry Potter and the Deathly Hallows Part 1     WB     296000000.0   \n",
       "3                                    Inception     WB     292600000.0   \n",
       "4                          Shrek Forever After   P/DW     238700000.0   \n",
       "\n",
       "  foreign_gross  year  \n",
       "0     652000000  2010  \n",
       "1     691300000  2010  \n",
       "2     664300000  2010  \n",
       "3     535700000  2010  \n",
       "4     513900000  2010  "
      ]
     },
     "execution_count": 6,
     "metadata": {},
     "output_type": "execute_result"
    }
   ],
   "source": [
    "bom_movie_gross_df.head()"
   ]
  },
  {
   "cell_type": "code",
   "execution_count": 7,
   "metadata": {},
   "outputs": [],
   "source": [
    "#printing a summary of bom_movie_gross_df"
   ]
  },
  {
   "cell_type": "code",
   "execution_count": 8,
   "metadata": {},
   "outputs": [
    {
     "name": "stdout",
     "output_type": "stream",
     "text": [
      "<class 'pandas.core.frame.DataFrame'>\n",
      "RangeIndex: 3387 entries, 0 to 3386\n",
      "Data columns (total 5 columns):\n",
      " #   Column          Non-Null Count  Dtype  \n",
      "---  ------          --------------  -----  \n",
      " 0   title           3387 non-null   object \n",
      " 1   studio          3382 non-null   object \n",
      " 2   domestic_gross  3359 non-null   float64\n",
      " 3   foreign_gross   2037 non-null   object \n",
      " 4   year            3387 non-null   int64  \n",
      "dtypes: float64(1), int64(1), object(3)\n",
      "memory usage: 132.4+ KB\n"
     ]
    }
   ],
   "source": [
    "bom_movie_gross_df.info()"
   ]
  },
  {
   "cell_type": "code",
   "execution_count": 9,
   "metadata": {},
   "outputs": [],
   "source": [
    "#printing descriptive statistics of bom_movie_gross_df"
   ]
  },
  {
   "cell_type": "code",
   "execution_count": 10,
   "metadata": {},
   "outputs": [
    {
     "data": {
      "text/html": [
       "<div>\n",
       "<style scoped>\n",
       "    .dataframe tbody tr th:only-of-type {\n",
       "        vertical-align: middle;\n",
       "    }\n",
       "\n",
       "    .dataframe tbody tr th {\n",
       "        vertical-align: top;\n",
       "    }\n",
       "\n",
       "    .dataframe thead th {\n",
       "        text-align: right;\n",
       "    }\n",
       "</style>\n",
       "<table border=\"1\" class=\"dataframe\">\n",
       "  <thead>\n",
       "    <tr style=\"text-align: right;\">\n",
       "      <th></th>\n",
       "      <th>domestic_gross</th>\n",
       "      <th>year</th>\n",
       "    </tr>\n",
       "  </thead>\n",
       "  <tbody>\n",
       "    <tr>\n",
       "      <th>count</th>\n",
       "      <td>3.359000e+03</td>\n",
       "      <td>3387.000000</td>\n",
       "    </tr>\n",
       "    <tr>\n",
       "      <th>mean</th>\n",
       "      <td>2.874585e+07</td>\n",
       "      <td>2013.958075</td>\n",
       "    </tr>\n",
       "    <tr>\n",
       "      <th>std</th>\n",
       "      <td>6.698250e+07</td>\n",
       "      <td>2.478141</td>\n",
       "    </tr>\n",
       "    <tr>\n",
       "      <th>min</th>\n",
       "      <td>1.000000e+02</td>\n",
       "      <td>2010.000000</td>\n",
       "    </tr>\n",
       "    <tr>\n",
       "      <th>25%</th>\n",
       "      <td>1.200000e+05</td>\n",
       "      <td>2012.000000</td>\n",
       "    </tr>\n",
       "    <tr>\n",
       "      <th>50%</th>\n",
       "      <td>1.400000e+06</td>\n",
       "      <td>2014.000000</td>\n",
       "    </tr>\n",
       "    <tr>\n",
       "      <th>75%</th>\n",
       "      <td>2.790000e+07</td>\n",
       "      <td>2016.000000</td>\n",
       "    </tr>\n",
       "    <tr>\n",
       "      <th>max</th>\n",
       "      <td>9.367000e+08</td>\n",
       "      <td>2018.000000</td>\n",
       "    </tr>\n",
       "  </tbody>\n",
       "</table>\n",
       "</div>"
      ],
      "text/plain": [
       "       domestic_gross         year\n",
       "count    3.359000e+03  3387.000000\n",
       "mean     2.874585e+07  2013.958075\n",
       "std      6.698250e+07     2.478141\n",
       "min      1.000000e+02  2010.000000\n",
       "25%      1.200000e+05  2012.000000\n",
       "50%      1.400000e+06  2014.000000\n",
       "75%      2.790000e+07  2016.000000\n",
       "max      9.367000e+08  2018.000000"
      ]
     },
     "execution_count": 10,
     "metadata": {},
     "output_type": "execute_result"
    }
   ],
   "source": [
    "bom_movie_gross_df.describe()"
   ]
  },
  {
   "cell_type": "code",
   "execution_count": 11,
   "metadata": {},
   "outputs": [],
   "source": [
    "#viewing first 5 rows of rt_movie_info_df"
   ]
  },
  {
   "cell_type": "code",
   "execution_count": 12,
   "metadata": {},
   "outputs": [
    {
     "data": {
      "text/html": [
       "<div>\n",
       "<style scoped>\n",
       "    .dataframe tbody tr th:only-of-type {\n",
       "        vertical-align: middle;\n",
       "    }\n",
       "\n",
       "    .dataframe tbody tr th {\n",
       "        vertical-align: top;\n",
       "    }\n",
       "\n",
       "    .dataframe thead th {\n",
       "        text-align: right;\n",
       "    }\n",
       "</style>\n",
       "<table border=\"1\" class=\"dataframe\">\n",
       "  <thead>\n",
       "    <tr style=\"text-align: right;\">\n",
       "      <th></th>\n",
       "      <th>id</th>\n",
       "      <th>synopsis</th>\n",
       "      <th>rating</th>\n",
       "      <th>genre</th>\n",
       "      <th>director</th>\n",
       "      <th>writer</th>\n",
       "      <th>theater_date</th>\n",
       "      <th>dvd_date</th>\n",
       "      <th>currency</th>\n",
       "      <th>box_office</th>\n",
       "      <th>runtime</th>\n",
       "      <th>studio</th>\n",
       "    </tr>\n",
       "  </thead>\n",
       "  <tbody>\n",
       "    <tr>\n",
       "      <th>0</th>\n",
       "      <td>1</td>\n",
       "      <td>This gritty, fast-paced, and innovative police...</td>\n",
       "      <td>R</td>\n",
       "      <td>Action and Adventure|Classics|Drama</td>\n",
       "      <td>William Friedkin</td>\n",
       "      <td>Ernest Tidyman</td>\n",
       "      <td>Oct 9, 1971</td>\n",
       "      <td>Sep 25, 2001</td>\n",
       "      <td>NaN</td>\n",
       "      <td>NaN</td>\n",
       "      <td>104 minutes</td>\n",
       "      <td>NaN</td>\n",
       "    </tr>\n",
       "    <tr>\n",
       "      <th>1</th>\n",
       "      <td>3</td>\n",
       "      <td>New York City, not-too-distant-future: Eric Pa...</td>\n",
       "      <td>R</td>\n",
       "      <td>Drama|Science Fiction and Fantasy</td>\n",
       "      <td>David Cronenberg</td>\n",
       "      <td>David Cronenberg|Don DeLillo</td>\n",
       "      <td>Aug 17, 2012</td>\n",
       "      <td>Jan 1, 2013</td>\n",
       "      <td>$</td>\n",
       "      <td>600,000</td>\n",
       "      <td>108 minutes</td>\n",
       "      <td>Entertainment One</td>\n",
       "    </tr>\n",
       "    <tr>\n",
       "      <th>2</th>\n",
       "      <td>5</td>\n",
       "      <td>Illeana Douglas delivers a superb performance ...</td>\n",
       "      <td>R</td>\n",
       "      <td>Drama|Musical and Performing Arts</td>\n",
       "      <td>Allison Anders</td>\n",
       "      <td>Allison Anders</td>\n",
       "      <td>Sep 13, 1996</td>\n",
       "      <td>Apr 18, 2000</td>\n",
       "      <td>NaN</td>\n",
       "      <td>NaN</td>\n",
       "      <td>116 minutes</td>\n",
       "      <td>NaN</td>\n",
       "    </tr>\n",
       "    <tr>\n",
       "      <th>3</th>\n",
       "      <td>6</td>\n",
       "      <td>Michael Douglas runs afoul of a treacherous su...</td>\n",
       "      <td>R</td>\n",
       "      <td>Drama|Mystery and Suspense</td>\n",
       "      <td>Barry Levinson</td>\n",
       "      <td>Paul Attanasio|Michael Crichton</td>\n",
       "      <td>Dec 9, 1994</td>\n",
       "      <td>Aug 27, 1997</td>\n",
       "      <td>NaN</td>\n",
       "      <td>NaN</td>\n",
       "      <td>128 minutes</td>\n",
       "      <td>NaN</td>\n",
       "    </tr>\n",
       "    <tr>\n",
       "      <th>4</th>\n",
       "      <td>7</td>\n",
       "      <td>NaN</td>\n",
       "      <td>NR</td>\n",
       "      <td>Drama|Romance</td>\n",
       "      <td>Rodney Bennett</td>\n",
       "      <td>Giles Cooper</td>\n",
       "      <td>NaN</td>\n",
       "      <td>NaN</td>\n",
       "      <td>NaN</td>\n",
       "      <td>NaN</td>\n",
       "      <td>200 minutes</td>\n",
       "      <td>NaN</td>\n",
       "    </tr>\n",
       "  </tbody>\n",
       "</table>\n",
       "</div>"
      ],
      "text/plain": [
       "   id                                           synopsis rating  \\\n",
       "0   1  This gritty, fast-paced, and innovative police...      R   \n",
       "1   3  New York City, not-too-distant-future: Eric Pa...      R   \n",
       "2   5  Illeana Douglas delivers a superb performance ...      R   \n",
       "3   6  Michael Douglas runs afoul of a treacherous su...      R   \n",
       "4   7                                                NaN     NR   \n",
       "\n",
       "                                 genre          director  \\\n",
       "0  Action and Adventure|Classics|Drama  William Friedkin   \n",
       "1    Drama|Science Fiction and Fantasy  David Cronenberg   \n",
       "2    Drama|Musical and Performing Arts    Allison Anders   \n",
       "3           Drama|Mystery and Suspense    Barry Levinson   \n",
       "4                        Drama|Romance    Rodney Bennett   \n",
       "\n",
       "                            writer  theater_date      dvd_date currency  \\\n",
       "0                   Ernest Tidyman   Oct 9, 1971  Sep 25, 2001      NaN   \n",
       "1     David Cronenberg|Don DeLillo  Aug 17, 2012   Jan 1, 2013        $   \n",
       "2                   Allison Anders  Sep 13, 1996  Apr 18, 2000      NaN   \n",
       "3  Paul Attanasio|Michael Crichton   Dec 9, 1994  Aug 27, 1997      NaN   \n",
       "4                     Giles Cooper           NaN           NaN      NaN   \n",
       "\n",
       "  box_office      runtime             studio  \n",
       "0        NaN  104 minutes                NaN  \n",
       "1    600,000  108 minutes  Entertainment One  \n",
       "2        NaN  116 minutes                NaN  \n",
       "3        NaN  128 minutes                NaN  \n",
       "4        NaN  200 minutes                NaN  "
      ]
     },
     "execution_count": 12,
     "metadata": {},
     "output_type": "execute_result"
    }
   ],
   "source": [
    "rt_movie_info_df.head()"
   ]
  },
  {
   "cell_type": "code",
   "execution_count": 13,
   "metadata": {},
   "outputs": [],
   "source": [
    "#printing a summary of rt_movie_info_df"
   ]
  },
  {
   "cell_type": "code",
   "execution_count": 14,
   "metadata": {},
   "outputs": [
    {
     "name": "stdout",
     "output_type": "stream",
     "text": [
      "<class 'pandas.core.frame.DataFrame'>\n",
      "RangeIndex: 1560 entries, 0 to 1559\n",
      "Data columns (total 12 columns):\n",
      " #   Column        Non-Null Count  Dtype \n",
      "---  ------        --------------  ----- \n",
      " 0   id            1560 non-null   int64 \n",
      " 1   synopsis      1498 non-null   object\n",
      " 2   rating        1557 non-null   object\n",
      " 3   genre         1552 non-null   object\n",
      " 4   director      1361 non-null   object\n",
      " 5   writer        1111 non-null   object\n",
      " 6   theater_date  1201 non-null   object\n",
      " 7   dvd_date      1201 non-null   object\n",
      " 8   currency      340 non-null    object\n",
      " 9   box_office    340 non-null    object\n",
      " 10  runtime       1530 non-null   object\n",
      " 11  studio        494 non-null    object\n",
      "dtypes: int64(1), object(11)\n",
      "memory usage: 146.4+ KB\n"
     ]
    }
   ],
   "source": [
    "rt_movie_info_df.info()"
   ]
  },
  {
   "cell_type": "code",
   "execution_count": 15,
   "metadata": {},
   "outputs": [],
   "source": [
    "#printing descriptive statistics of rt_movie_info_df"
   ]
  },
  {
   "cell_type": "code",
   "execution_count": 16,
   "metadata": {},
   "outputs": [
    {
     "data": {
      "text/html": [
       "<div>\n",
       "<style scoped>\n",
       "    .dataframe tbody tr th:only-of-type {\n",
       "        vertical-align: middle;\n",
       "    }\n",
       "\n",
       "    .dataframe tbody tr th {\n",
       "        vertical-align: top;\n",
       "    }\n",
       "\n",
       "    .dataframe thead th {\n",
       "        text-align: right;\n",
       "    }\n",
       "</style>\n",
       "<table border=\"1\" class=\"dataframe\">\n",
       "  <thead>\n",
       "    <tr style=\"text-align: right;\">\n",
       "      <th></th>\n",
       "      <th>id</th>\n",
       "    </tr>\n",
       "  </thead>\n",
       "  <tbody>\n",
       "    <tr>\n",
       "      <th>count</th>\n",
       "      <td>1560.000000</td>\n",
       "    </tr>\n",
       "    <tr>\n",
       "      <th>mean</th>\n",
       "      <td>1007.303846</td>\n",
       "    </tr>\n",
       "    <tr>\n",
       "      <th>std</th>\n",
       "      <td>579.164527</td>\n",
       "    </tr>\n",
       "    <tr>\n",
       "      <th>min</th>\n",
       "      <td>1.000000</td>\n",
       "    </tr>\n",
       "    <tr>\n",
       "      <th>25%</th>\n",
       "      <td>504.750000</td>\n",
       "    </tr>\n",
       "    <tr>\n",
       "      <th>50%</th>\n",
       "      <td>1007.500000</td>\n",
       "    </tr>\n",
       "    <tr>\n",
       "      <th>75%</th>\n",
       "      <td>1503.250000</td>\n",
       "    </tr>\n",
       "    <tr>\n",
       "      <th>max</th>\n",
       "      <td>2000.000000</td>\n",
       "    </tr>\n",
       "  </tbody>\n",
       "</table>\n",
       "</div>"
      ],
      "text/plain": [
       "                id\n",
       "count  1560.000000\n",
       "mean   1007.303846\n",
       "std     579.164527\n",
       "min       1.000000\n",
       "25%     504.750000\n",
       "50%    1007.500000\n",
       "75%    1503.250000\n",
       "max    2000.000000"
      ]
     },
     "execution_count": 16,
     "metadata": {},
     "output_type": "execute_result"
    }
   ],
   "source": [
    "rt_movie_info_df.describe()"
   ]
  },
  {
   "cell_type": "code",
   "execution_count": 17,
   "metadata": {},
   "outputs": [],
   "source": [
    "# printing the first 5 rows of rt_reviews_df"
   ]
  },
  {
   "cell_type": "code",
   "execution_count": 18,
   "metadata": {},
   "outputs": [
    {
     "data": {
      "text/html": [
       "<div>\n",
       "<style scoped>\n",
       "    .dataframe tbody tr th:only-of-type {\n",
       "        vertical-align: middle;\n",
       "    }\n",
       "\n",
       "    .dataframe tbody tr th {\n",
       "        vertical-align: top;\n",
       "    }\n",
       "\n",
       "    .dataframe thead th {\n",
       "        text-align: right;\n",
       "    }\n",
       "</style>\n",
       "<table border=\"1\" class=\"dataframe\">\n",
       "  <thead>\n",
       "    <tr style=\"text-align: right;\">\n",
       "      <th></th>\n",
       "      <th>id</th>\n",
       "      <th>review</th>\n",
       "      <th>rating</th>\n",
       "      <th>fresh</th>\n",
       "      <th>critic</th>\n",
       "      <th>top_critic</th>\n",
       "      <th>publisher</th>\n",
       "      <th>date</th>\n",
       "    </tr>\n",
       "  </thead>\n",
       "  <tbody>\n",
       "    <tr>\n",
       "      <th>0</th>\n",
       "      <td>3</td>\n",
       "      <td>A distinctly gallows take on contemporary fina...</td>\n",
       "      <td>3/5</td>\n",
       "      <td>fresh</td>\n",
       "      <td>PJ Nabarro</td>\n",
       "      <td>0</td>\n",
       "      <td>Patrick Nabarro</td>\n",
       "      <td>November 10, 2018</td>\n",
       "    </tr>\n",
       "    <tr>\n",
       "      <th>1</th>\n",
       "      <td>3</td>\n",
       "      <td>It's an allegory in search of a meaning that n...</td>\n",
       "      <td>NaN</td>\n",
       "      <td>rotten</td>\n",
       "      <td>Annalee Newitz</td>\n",
       "      <td>0</td>\n",
       "      <td>io9.com</td>\n",
       "      <td>May 23, 2018</td>\n",
       "    </tr>\n",
       "    <tr>\n",
       "      <th>2</th>\n",
       "      <td>3</td>\n",
       "      <td>... life lived in a bubble in financial dealin...</td>\n",
       "      <td>NaN</td>\n",
       "      <td>fresh</td>\n",
       "      <td>Sean Axmaker</td>\n",
       "      <td>0</td>\n",
       "      <td>Stream on Demand</td>\n",
       "      <td>January 4, 2018</td>\n",
       "    </tr>\n",
       "    <tr>\n",
       "      <th>3</th>\n",
       "      <td>3</td>\n",
       "      <td>Continuing along a line introduced in last yea...</td>\n",
       "      <td>NaN</td>\n",
       "      <td>fresh</td>\n",
       "      <td>Daniel Kasman</td>\n",
       "      <td>0</td>\n",
       "      <td>MUBI</td>\n",
       "      <td>November 16, 2017</td>\n",
       "    </tr>\n",
       "    <tr>\n",
       "      <th>4</th>\n",
       "      <td>3</td>\n",
       "      <td>... a perverse twist on neorealism...</td>\n",
       "      <td>NaN</td>\n",
       "      <td>fresh</td>\n",
       "      <td>NaN</td>\n",
       "      <td>0</td>\n",
       "      <td>Cinema Scope</td>\n",
       "      <td>October 12, 2017</td>\n",
       "    </tr>\n",
       "  </tbody>\n",
       "</table>\n",
       "</div>"
      ],
      "text/plain": [
       "   id                                             review rating   fresh  \\\n",
       "0   3  A distinctly gallows take on contemporary fina...    3/5   fresh   \n",
       "1   3  It's an allegory in search of a meaning that n...    NaN  rotten   \n",
       "2   3  ... life lived in a bubble in financial dealin...    NaN   fresh   \n",
       "3   3  Continuing along a line introduced in last yea...    NaN   fresh   \n",
       "4   3             ... a perverse twist on neorealism...     NaN   fresh   \n",
       "\n",
       "           critic  top_critic         publisher               date  \n",
       "0      PJ Nabarro           0   Patrick Nabarro  November 10, 2018  \n",
       "1  Annalee Newitz           0           io9.com       May 23, 2018  \n",
       "2    Sean Axmaker           0  Stream on Demand    January 4, 2018  \n",
       "3   Daniel Kasman           0              MUBI  November 16, 2017  \n",
       "4             NaN           0      Cinema Scope   October 12, 2017  "
      ]
     },
     "execution_count": 18,
     "metadata": {},
     "output_type": "execute_result"
    }
   ],
   "source": [
    "rt_reviews_df.head()"
   ]
  },
  {
   "cell_type": "code",
   "execution_count": 19,
   "metadata": {},
   "outputs": [],
   "source": [
    "# printing a summary of rt_reviews_df"
   ]
  },
  {
   "cell_type": "code",
   "execution_count": 20,
   "metadata": {},
   "outputs": [
    {
     "name": "stdout",
     "output_type": "stream",
     "text": [
      "<class 'pandas.core.frame.DataFrame'>\n",
      "RangeIndex: 54432 entries, 0 to 54431\n",
      "Data columns (total 8 columns):\n",
      " #   Column      Non-Null Count  Dtype \n",
      "---  ------      --------------  ----- \n",
      " 0   id          54432 non-null  int64 \n",
      " 1   review      48869 non-null  object\n",
      " 2   rating      40915 non-null  object\n",
      " 3   fresh       54432 non-null  object\n",
      " 4   critic      51710 non-null  object\n",
      " 5   top_critic  54432 non-null  int64 \n",
      " 6   publisher   54123 non-null  object\n",
      " 7   date        54432 non-null  object\n",
      "dtypes: int64(2), object(6)\n",
      "memory usage: 3.3+ MB\n"
     ]
    }
   ],
   "source": [
    "rt_reviews_df.info()"
   ]
  },
  {
   "cell_type": "code",
   "execution_count": 21,
   "metadata": {},
   "outputs": [],
   "source": [
    "# printing descriptive statistics of rt_reviews_df"
   ]
  },
  {
   "cell_type": "code",
   "execution_count": 22,
   "metadata": {},
   "outputs": [
    {
     "data": {
      "text/html": [
       "<div>\n",
       "<style scoped>\n",
       "    .dataframe tbody tr th:only-of-type {\n",
       "        vertical-align: middle;\n",
       "    }\n",
       "\n",
       "    .dataframe tbody tr th {\n",
       "        vertical-align: top;\n",
       "    }\n",
       "\n",
       "    .dataframe thead th {\n",
       "        text-align: right;\n",
       "    }\n",
       "</style>\n",
       "<table border=\"1\" class=\"dataframe\">\n",
       "  <thead>\n",
       "    <tr style=\"text-align: right;\">\n",
       "      <th></th>\n",
       "      <th>id</th>\n",
       "      <th>top_critic</th>\n",
       "    </tr>\n",
       "  </thead>\n",
       "  <tbody>\n",
       "    <tr>\n",
       "      <th>count</th>\n",
       "      <td>54432.000000</td>\n",
       "      <td>54432.000000</td>\n",
       "    </tr>\n",
       "    <tr>\n",
       "      <th>mean</th>\n",
       "      <td>1045.706882</td>\n",
       "      <td>0.240594</td>\n",
       "    </tr>\n",
       "    <tr>\n",
       "      <th>std</th>\n",
       "      <td>586.657046</td>\n",
       "      <td>0.427448</td>\n",
       "    </tr>\n",
       "    <tr>\n",
       "      <th>min</th>\n",
       "      <td>3.000000</td>\n",
       "      <td>0.000000</td>\n",
       "    </tr>\n",
       "    <tr>\n",
       "      <th>25%</th>\n",
       "      <td>542.000000</td>\n",
       "      <td>0.000000</td>\n",
       "    </tr>\n",
       "    <tr>\n",
       "      <th>50%</th>\n",
       "      <td>1083.000000</td>\n",
       "      <td>0.000000</td>\n",
       "    </tr>\n",
       "    <tr>\n",
       "      <th>75%</th>\n",
       "      <td>1541.000000</td>\n",
       "      <td>0.000000</td>\n",
       "    </tr>\n",
       "    <tr>\n",
       "      <th>max</th>\n",
       "      <td>2000.000000</td>\n",
       "      <td>1.000000</td>\n",
       "    </tr>\n",
       "  </tbody>\n",
       "</table>\n",
       "</div>"
      ],
      "text/plain": [
       "                 id    top_critic\n",
       "count  54432.000000  54432.000000\n",
       "mean    1045.706882      0.240594\n",
       "std      586.657046      0.427448\n",
       "min        3.000000      0.000000\n",
       "25%      542.000000      0.000000\n",
       "50%     1083.000000      0.000000\n",
       "75%     1541.000000      0.000000\n",
       "max     2000.000000      1.000000"
      ]
     },
     "execution_count": 22,
     "metadata": {},
     "output_type": "execute_result"
    }
   ],
   "source": [
    "rt_reviews_df.describe()"
   ]
  },
  {
   "cell_type": "code",
   "execution_count": 23,
   "metadata": {},
   "outputs": [],
   "source": [
    "#printing first 5 rows of tmbd_movies_df"
   ]
  },
  {
   "cell_type": "code",
   "execution_count": 24,
   "metadata": {},
   "outputs": [
    {
     "data": {
      "text/html": [
       "<div>\n",
       "<style scoped>\n",
       "    .dataframe tbody tr th:only-of-type {\n",
       "        vertical-align: middle;\n",
       "    }\n",
       "\n",
       "    .dataframe tbody tr th {\n",
       "        vertical-align: top;\n",
       "    }\n",
       "\n",
       "    .dataframe thead th {\n",
       "        text-align: right;\n",
       "    }\n",
       "</style>\n",
       "<table border=\"1\" class=\"dataframe\">\n",
       "  <thead>\n",
       "    <tr style=\"text-align: right;\">\n",
       "      <th></th>\n",
       "      <th>Unnamed: 0</th>\n",
       "      <th>genre_ids</th>\n",
       "      <th>id</th>\n",
       "      <th>original_language</th>\n",
       "      <th>original_title</th>\n",
       "      <th>popularity</th>\n",
       "      <th>release_date</th>\n",
       "      <th>title</th>\n",
       "      <th>vote_average</th>\n",
       "      <th>vote_count</th>\n",
       "    </tr>\n",
       "  </thead>\n",
       "  <tbody>\n",
       "    <tr>\n",
       "      <th>0</th>\n",
       "      <td>0</td>\n",
       "      <td>[12, 14, 10751]</td>\n",
       "      <td>12444</td>\n",
       "      <td>en</td>\n",
       "      <td>Harry Potter and the Deathly Hallows: Part 1</td>\n",
       "      <td>33.533</td>\n",
       "      <td>2010-11-19</td>\n",
       "      <td>Harry Potter and the Deathly Hallows: Part 1</td>\n",
       "      <td>7.7</td>\n",
       "      <td>10788</td>\n",
       "    </tr>\n",
       "    <tr>\n",
       "      <th>1</th>\n",
       "      <td>1</td>\n",
       "      <td>[14, 12, 16, 10751]</td>\n",
       "      <td>10191</td>\n",
       "      <td>en</td>\n",
       "      <td>How to Train Your Dragon</td>\n",
       "      <td>28.734</td>\n",
       "      <td>2010-03-26</td>\n",
       "      <td>How to Train Your Dragon</td>\n",
       "      <td>7.7</td>\n",
       "      <td>7610</td>\n",
       "    </tr>\n",
       "    <tr>\n",
       "      <th>2</th>\n",
       "      <td>2</td>\n",
       "      <td>[12, 28, 878]</td>\n",
       "      <td>10138</td>\n",
       "      <td>en</td>\n",
       "      <td>Iron Man 2</td>\n",
       "      <td>28.515</td>\n",
       "      <td>2010-05-07</td>\n",
       "      <td>Iron Man 2</td>\n",
       "      <td>6.8</td>\n",
       "      <td>12368</td>\n",
       "    </tr>\n",
       "    <tr>\n",
       "      <th>3</th>\n",
       "      <td>3</td>\n",
       "      <td>[16, 35, 10751]</td>\n",
       "      <td>862</td>\n",
       "      <td>en</td>\n",
       "      <td>Toy Story</td>\n",
       "      <td>28.005</td>\n",
       "      <td>1995-11-22</td>\n",
       "      <td>Toy Story</td>\n",
       "      <td>7.9</td>\n",
       "      <td>10174</td>\n",
       "    </tr>\n",
       "    <tr>\n",
       "      <th>4</th>\n",
       "      <td>4</td>\n",
       "      <td>[28, 878, 12]</td>\n",
       "      <td>27205</td>\n",
       "      <td>en</td>\n",
       "      <td>Inception</td>\n",
       "      <td>27.920</td>\n",
       "      <td>2010-07-16</td>\n",
       "      <td>Inception</td>\n",
       "      <td>8.3</td>\n",
       "      <td>22186</td>\n",
       "    </tr>\n",
       "  </tbody>\n",
       "</table>\n",
       "</div>"
      ],
      "text/plain": [
       "   Unnamed: 0            genre_ids     id original_language  \\\n",
       "0           0      [12, 14, 10751]  12444                en   \n",
       "1           1  [14, 12, 16, 10751]  10191                en   \n",
       "2           2        [12, 28, 878]  10138                en   \n",
       "3           3      [16, 35, 10751]    862                en   \n",
       "4           4        [28, 878, 12]  27205                en   \n",
       "\n",
       "                                 original_title  popularity release_date  \\\n",
       "0  Harry Potter and the Deathly Hallows: Part 1      33.533   2010-11-19   \n",
       "1                      How to Train Your Dragon      28.734   2010-03-26   \n",
       "2                                    Iron Man 2      28.515   2010-05-07   \n",
       "3                                     Toy Story      28.005   1995-11-22   \n",
       "4                                     Inception      27.920   2010-07-16   \n",
       "\n",
       "                                          title  vote_average  vote_count  \n",
       "0  Harry Potter and the Deathly Hallows: Part 1           7.7       10788  \n",
       "1                      How to Train Your Dragon           7.7        7610  \n",
       "2                                    Iron Man 2           6.8       12368  \n",
       "3                                     Toy Story           7.9       10174  \n",
       "4                                     Inception           8.3       22186  "
      ]
     },
     "execution_count": 24,
     "metadata": {},
     "output_type": "execute_result"
    }
   ],
   "source": [
    "tmbd_movies_df.head()"
   ]
  },
  {
   "cell_type": "code",
   "execution_count": 25,
   "metadata": {},
   "outputs": [],
   "source": [
    "# printing a summary of tmbd_movies_df"
   ]
  },
  {
   "cell_type": "code",
   "execution_count": 26,
   "metadata": {},
   "outputs": [
    {
     "name": "stdout",
     "output_type": "stream",
     "text": [
      "<class 'pandas.core.frame.DataFrame'>\n",
      "RangeIndex: 26517 entries, 0 to 26516\n",
      "Data columns (total 10 columns):\n",
      " #   Column             Non-Null Count  Dtype  \n",
      "---  ------             --------------  -----  \n",
      " 0   Unnamed: 0         26517 non-null  int64  \n",
      " 1   genre_ids          26517 non-null  object \n",
      " 2   id                 26517 non-null  int64  \n",
      " 3   original_language  26517 non-null  object \n",
      " 4   original_title     26517 non-null  object \n",
      " 5   popularity         26517 non-null  float64\n",
      " 6   release_date       26517 non-null  object \n",
      " 7   title              26517 non-null  object \n",
      " 8   vote_average       26517 non-null  float64\n",
      " 9   vote_count         26517 non-null  int64  \n",
      "dtypes: float64(2), int64(3), object(5)\n",
      "memory usage: 2.0+ MB\n"
     ]
    }
   ],
   "source": [
    "tmbd_movies_df.info()"
   ]
  },
  {
   "cell_type": "code",
   "execution_count": 27,
   "metadata": {},
   "outputs": [],
   "source": [
    "#printing descriptive statistics of tmbd_movies_df"
   ]
  },
  {
   "cell_type": "code",
   "execution_count": 28,
   "metadata": {},
   "outputs": [
    {
     "data": {
      "text/html": [
       "<div>\n",
       "<style scoped>\n",
       "    .dataframe tbody tr th:only-of-type {\n",
       "        vertical-align: middle;\n",
       "    }\n",
       "\n",
       "    .dataframe tbody tr th {\n",
       "        vertical-align: top;\n",
       "    }\n",
       "\n",
       "    .dataframe thead th {\n",
       "        text-align: right;\n",
       "    }\n",
       "</style>\n",
       "<table border=\"1\" class=\"dataframe\">\n",
       "  <thead>\n",
       "    <tr style=\"text-align: right;\">\n",
       "      <th></th>\n",
       "      <th>Unnamed: 0</th>\n",
       "      <th>id</th>\n",
       "      <th>popularity</th>\n",
       "      <th>vote_average</th>\n",
       "      <th>vote_count</th>\n",
       "    </tr>\n",
       "  </thead>\n",
       "  <tbody>\n",
       "    <tr>\n",
       "      <th>count</th>\n",
       "      <td>26517.00000</td>\n",
       "      <td>26517.000000</td>\n",
       "      <td>26517.000000</td>\n",
       "      <td>26517.000000</td>\n",
       "      <td>26517.000000</td>\n",
       "    </tr>\n",
       "    <tr>\n",
       "      <th>mean</th>\n",
       "      <td>13258.00000</td>\n",
       "      <td>295050.153260</td>\n",
       "      <td>3.130912</td>\n",
       "      <td>5.991281</td>\n",
       "      <td>194.224837</td>\n",
       "    </tr>\n",
       "    <tr>\n",
       "      <th>std</th>\n",
       "      <td>7654.94288</td>\n",
       "      <td>153661.615648</td>\n",
       "      <td>4.355229</td>\n",
       "      <td>1.852946</td>\n",
       "      <td>960.961095</td>\n",
       "    </tr>\n",
       "    <tr>\n",
       "      <th>min</th>\n",
       "      <td>0.00000</td>\n",
       "      <td>27.000000</td>\n",
       "      <td>0.600000</td>\n",
       "      <td>0.000000</td>\n",
       "      <td>1.000000</td>\n",
       "    </tr>\n",
       "    <tr>\n",
       "      <th>25%</th>\n",
       "      <td>6629.00000</td>\n",
       "      <td>157851.000000</td>\n",
       "      <td>0.600000</td>\n",
       "      <td>5.000000</td>\n",
       "      <td>2.000000</td>\n",
       "    </tr>\n",
       "    <tr>\n",
       "      <th>50%</th>\n",
       "      <td>13258.00000</td>\n",
       "      <td>309581.000000</td>\n",
       "      <td>1.374000</td>\n",
       "      <td>6.000000</td>\n",
       "      <td>5.000000</td>\n",
       "    </tr>\n",
       "    <tr>\n",
       "      <th>75%</th>\n",
       "      <td>19887.00000</td>\n",
       "      <td>419542.000000</td>\n",
       "      <td>3.694000</td>\n",
       "      <td>7.000000</td>\n",
       "      <td>28.000000</td>\n",
       "    </tr>\n",
       "    <tr>\n",
       "      <th>max</th>\n",
       "      <td>26516.00000</td>\n",
       "      <td>608444.000000</td>\n",
       "      <td>80.773000</td>\n",
       "      <td>10.000000</td>\n",
       "      <td>22186.000000</td>\n",
       "    </tr>\n",
       "  </tbody>\n",
       "</table>\n",
       "</div>"
      ],
      "text/plain": [
       "        Unnamed: 0             id    popularity  vote_average    vote_count\n",
       "count  26517.00000   26517.000000  26517.000000  26517.000000  26517.000000\n",
       "mean   13258.00000  295050.153260      3.130912      5.991281    194.224837\n",
       "std     7654.94288  153661.615648      4.355229      1.852946    960.961095\n",
       "min        0.00000      27.000000      0.600000      0.000000      1.000000\n",
       "25%     6629.00000  157851.000000      0.600000      5.000000      2.000000\n",
       "50%    13258.00000  309581.000000      1.374000      6.000000      5.000000\n",
       "75%    19887.00000  419542.000000      3.694000      7.000000     28.000000\n",
       "max    26516.00000  608444.000000     80.773000     10.000000  22186.000000"
      ]
     },
     "execution_count": 28,
     "metadata": {},
     "output_type": "execute_result"
    }
   ],
   "source": [
    "tmbd_movies_df.describe()"
   ]
  },
  {
   "cell_type": "code",
   "execution_count": 29,
   "metadata": {},
   "outputs": [],
   "source": [
    "#printing first 5 rows of tn_movie_budgets_df"
   ]
  },
  {
   "cell_type": "code",
   "execution_count": 30,
   "metadata": {},
   "outputs": [
    {
     "data": {
      "text/html": [
       "<div>\n",
       "<style scoped>\n",
       "    .dataframe tbody tr th:only-of-type {\n",
       "        vertical-align: middle;\n",
       "    }\n",
       "\n",
       "    .dataframe tbody tr th {\n",
       "        vertical-align: top;\n",
       "    }\n",
       "\n",
       "    .dataframe thead th {\n",
       "        text-align: right;\n",
       "    }\n",
       "</style>\n",
       "<table border=\"1\" class=\"dataframe\">\n",
       "  <thead>\n",
       "    <tr style=\"text-align: right;\">\n",
       "      <th></th>\n",
       "      <th>id</th>\n",
       "      <th>release_date</th>\n",
       "      <th>movie</th>\n",
       "      <th>production_budget</th>\n",
       "      <th>domestic_gross</th>\n",
       "      <th>worldwide_gross</th>\n",
       "    </tr>\n",
       "  </thead>\n",
       "  <tbody>\n",
       "    <tr>\n",
       "      <th>0</th>\n",
       "      <td>1</td>\n",
       "      <td>Dec 18, 2009</td>\n",
       "      <td>Avatar</td>\n",
       "      <td>$425,000,000</td>\n",
       "      <td>$760,507,625</td>\n",
       "      <td>$2,776,345,279</td>\n",
       "    </tr>\n",
       "    <tr>\n",
       "      <th>1</th>\n",
       "      <td>2</td>\n",
       "      <td>May 20, 2011</td>\n",
       "      <td>Pirates of the Caribbean: On Stranger Tides</td>\n",
       "      <td>$410,600,000</td>\n",
       "      <td>$241,063,875</td>\n",
       "      <td>$1,045,663,875</td>\n",
       "    </tr>\n",
       "    <tr>\n",
       "      <th>2</th>\n",
       "      <td>3</td>\n",
       "      <td>Jun 7, 2019</td>\n",
       "      <td>Dark Phoenix</td>\n",
       "      <td>$350,000,000</td>\n",
       "      <td>$42,762,350</td>\n",
       "      <td>$149,762,350</td>\n",
       "    </tr>\n",
       "    <tr>\n",
       "      <th>3</th>\n",
       "      <td>4</td>\n",
       "      <td>May 1, 2015</td>\n",
       "      <td>Avengers: Age of Ultron</td>\n",
       "      <td>$330,600,000</td>\n",
       "      <td>$459,005,868</td>\n",
       "      <td>$1,403,013,963</td>\n",
       "    </tr>\n",
       "    <tr>\n",
       "      <th>4</th>\n",
       "      <td>5</td>\n",
       "      <td>Dec 15, 2017</td>\n",
       "      <td>Star Wars Ep. VIII: The Last Jedi</td>\n",
       "      <td>$317,000,000</td>\n",
       "      <td>$620,181,382</td>\n",
       "      <td>$1,316,721,747</td>\n",
       "    </tr>\n",
       "  </tbody>\n",
       "</table>\n",
       "</div>"
      ],
      "text/plain": [
       "   id  release_date                                        movie  \\\n",
       "0   1  Dec 18, 2009                                       Avatar   \n",
       "1   2  May 20, 2011  Pirates of the Caribbean: On Stranger Tides   \n",
       "2   3   Jun 7, 2019                                 Dark Phoenix   \n",
       "3   4   May 1, 2015                      Avengers: Age of Ultron   \n",
       "4   5  Dec 15, 2017            Star Wars Ep. VIII: The Last Jedi   \n",
       "\n",
       "  production_budget domestic_gross worldwide_gross  \n",
       "0      $425,000,000   $760,507,625  $2,776,345,279  \n",
       "1      $410,600,000   $241,063,875  $1,045,663,875  \n",
       "2      $350,000,000    $42,762,350    $149,762,350  \n",
       "3      $330,600,000   $459,005,868  $1,403,013,963  \n",
       "4      $317,000,000   $620,181,382  $1,316,721,747  "
      ]
     },
     "execution_count": 30,
     "metadata": {},
     "output_type": "execute_result"
    }
   ],
   "source": [
    "tn_movie_budgets_df.head()"
   ]
  },
  {
   "cell_type": "code",
   "execution_count": 31,
   "metadata": {},
   "outputs": [],
   "source": [
    "# printing a summary of tn_movie_budgets_df"
   ]
  },
  {
   "cell_type": "code",
   "execution_count": 32,
   "metadata": {},
   "outputs": [
    {
     "name": "stdout",
     "output_type": "stream",
     "text": [
      "<class 'pandas.core.frame.DataFrame'>\n",
      "RangeIndex: 5782 entries, 0 to 5781\n",
      "Data columns (total 6 columns):\n",
      " #   Column             Non-Null Count  Dtype \n",
      "---  ------             --------------  ----- \n",
      " 0   id                 5782 non-null   int64 \n",
      " 1   release_date       5782 non-null   object\n",
      " 2   movie              5782 non-null   object\n",
      " 3   production_budget  5782 non-null   object\n",
      " 4   domestic_gross     5782 non-null   object\n",
      " 5   worldwide_gross    5782 non-null   object\n",
      "dtypes: int64(1), object(5)\n",
      "memory usage: 271.2+ KB\n"
     ]
    }
   ],
   "source": [
    "tn_movie_budgets_df.info()"
   ]
  },
  {
   "cell_type": "code",
   "execution_count": 33,
   "metadata": {},
   "outputs": [],
   "source": [
    "#printing descriptive statistics of tn_movie_budgets_df"
   ]
  },
  {
   "cell_type": "code",
   "execution_count": 34,
   "metadata": {},
   "outputs": [
    {
     "data": {
      "text/html": [
       "<div>\n",
       "<style scoped>\n",
       "    .dataframe tbody tr th:only-of-type {\n",
       "        vertical-align: middle;\n",
       "    }\n",
       "\n",
       "    .dataframe tbody tr th {\n",
       "        vertical-align: top;\n",
       "    }\n",
       "\n",
       "    .dataframe thead th {\n",
       "        text-align: right;\n",
       "    }\n",
       "</style>\n",
       "<table border=\"1\" class=\"dataframe\">\n",
       "  <thead>\n",
       "    <tr style=\"text-align: right;\">\n",
       "      <th></th>\n",
       "      <th>id</th>\n",
       "    </tr>\n",
       "  </thead>\n",
       "  <tbody>\n",
       "    <tr>\n",
       "      <th>count</th>\n",
       "      <td>5782.000000</td>\n",
       "    </tr>\n",
       "    <tr>\n",
       "      <th>mean</th>\n",
       "      <td>50.372363</td>\n",
       "    </tr>\n",
       "    <tr>\n",
       "      <th>std</th>\n",
       "      <td>28.821076</td>\n",
       "    </tr>\n",
       "    <tr>\n",
       "      <th>min</th>\n",
       "      <td>1.000000</td>\n",
       "    </tr>\n",
       "    <tr>\n",
       "      <th>25%</th>\n",
       "      <td>25.000000</td>\n",
       "    </tr>\n",
       "    <tr>\n",
       "      <th>50%</th>\n",
       "      <td>50.000000</td>\n",
       "    </tr>\n",
       "    <tr>\n",
       "      <th>75%</th>\n",
       "      <td>75.000000</td>\n",
       "    </tr>\n",
       "    <tr>\n",
       "      <th>max</th>\n",
       "      <td>100.000000</td>\n",
       "    </tr>\n",
       "  </tbody>\n",
       "</table>\n",
       "</div>"
      ],
      "text/plain": [
       "                id\n",
       "count  5782.000000\n",
       "mean     50.372363\n",
       "std      28.821076\n",
       "min       1.000000\n",
       "25%      25.000000\n",
       "50%      50.000000\n",
       "75%      75.000000\n",
       "max     100.000000"
      ]
     },
     "execution_count": 34,
     "metadata": {},
     "output_type": "execute_result"
    }
   ],
   "source": [
    "tn_movie_budgets_df.describe()"
   ]
  },
  {
   "cell_type": "markdown",
   "metadata": {},
   "source": [
    "### tn_movie_budgets_df cleaning"
   ]
  },
  {
   "cell_type": "code",
   "execution_count": 35,
   "metadata": {},
   "outputs": [],
   "source": [
    "tn_movie_budgets_df['production_budget'] = tn_movie_budgets_df['production_budget'].str.replace(',', '')#removing commas in column"
   ]
  },
  {
   "cell_type": "code",
   "execution_count": 36,
   "metadata": {},
   "outputs": [],
   "source": [
    "tn_movie_budgets_df['production_budget'] = tn_movie_budgets_df['production_budget'].str.replace('$', '')#removing $ in column"
   ]
  },
  {
   "cell_type": "code",
   "execution_count": 37,
   "metadata": {},
   "outputs": [],
   "source": [
    "tn_movie_budgets_df['domestic_gross'] = tn_movie_budgets_df['domestic_gross'].str.replace(',', '')#removing commas in column"
   ]
  },
  {
   "cell_type": "code",
   "execution_count": 38,
   "metadata": {},
   "outputs": [],
   "source": [
    "tn_movie_budgets_df['domestic_gross'] = tn_movie_budgets_df['domestic_gross'].str.replace('$', '')#removing $ in column"
   ]
  },
  {
   "cell_type": "code",
   "execution_count": 39,
   "metadata": {},
   "outputs": [],
   "source": [
    "tn_movie_budgets_df['worldwide_gross'] = tn_movie_budgets_df['worldwide_gross'].str.replace(',', '')#removing commas in column"
   ]
  },
  {
   "cell_type": "code",
   "execution_count": 40,
   "metadata": {},
   "outputs": [],
   "source": [
    "tn_movie_budgets_df['worldwide_gross'] = tn_movie_budgets_df['worldwide_gross'].str.replace('$', '')#removing $ from column"
   ]
  },
  {
   "cell_type": "code",
   "execution_count": 41,
   "metadata": {},
   "outputs": [],
   "source": [
    "tn_movie_budgets_df['worldwide_gross'] = tn_movie_budgets_df['worldwide_gross'].astype('int64')#converting values to type integer in column"
   ]
  },
  {
   "cell_type": "code",
   "execution_count": 42,
   "metadata": {},
   "outputs": [],
   "source": [
    "tn_movie_budgets_df['production_budget'] = tn_movie_budgets_df['production_budget'].astype('int')#converting values in column to integer type"
   ]
  },
  {
   "cell_type": "code",
   "execution_count": 43,
   "metadata": {},
   "outputs": [],
   "source": [
    "tn_movie_budgets_df['release_date'] = tn_movie_budgets_df['release_date'].str.replace('\\d+', '') #removing digit chars from release date to convert to month only"
   ]
  },
  {
   "cell_type": "code",
   "execution_count": 44,
   "metadata": {},
   "outputs": [],
   "source": [
    "tn_movie_budgets_df['release_date'] = tn_movie_budgets_df['release_date'].str.replace(',', '')#removing commas from release date column values"
   ]
  },
  {
   "cell_type": "code",
   "execution_count": 45,
   "metadata": {},
   "outputs": [],
   "source": [
    "tn_movie_budgets_df['release_date'] = tn_movie_budgets_df['release_date'].str.replace(' ', '')#removing empty space from release date column values"
   ]
  },
  {
   "cell_type": "code",
   "execution_count": 46,
   "metadata": {},
   "outputs": [],
   "source": [
    "tn_movie_budgets_df['release_date'] = tn_movie_budgets_df['release_date'].astype('str')#changing release date to string type"
   ]
  },
  {
   "cell_type": "code",
   "execution_count": 47,
   "metadata": {},
   "outputs": [],
   "source": [
    "tn_movie_budgets_df.drop(tn_movie_budgets_df[tn_movie_budgets_df['worldwide_gross'] == 0].index, inplace = True)#dropping rows with 0 ww gross"
   ]
  },
  {
   "cell_type": "code",
   "execution_count": 48,
   "metadata": {},
   "outputs": [],
   "source": [
    "tn_movie_gross_head = tn_movie_budgets_df.sort_values(by=['worldwide_gross'], ascending=False).head(10)#sorting values of worldwide gross by descending"
   ]
  },
  {
   "cell_type": "markdown",
   "metadata": {},
   "source": [
    "### Graphing top ten worldwide gross"
   ]
  },
  {
   "cell_type": "code",
   "execution_count": 49,
   "metadata": {},
   "outputs": [
    {
     "data": {
      "text/plain": [
       "Text(0.5, 1.0, 'Movie Vs Worldwide Gross (Top Ten)')"
      ]
     },
     "execution_count": 49,
     "metadata": {},
     "output_type": "execute_result"
    },
    {
     "data": {
      "image/png": "[encoded data removed]",
      "text/plain": [
       "<Figure size 432x288 with 1 Axes>"
      ]
     },
     "metadata": {
      "needs_background": "light"
     },
     "output_type": "display_data"
    }
   ],
   "source": [
    "sns.barplot(x = 'worldwide_gross', y = 'movie', data = tn_movie_gross_head, color = 'Blue')\n",
    "\n",
    "plt.xlabel('Worldwide Gross in Billions')\n",
    "plt.ylabel('Movie')\n",
    "plt.title('Movie Vs Worldwide Gross (Top Ten)')"
   ]
  },
  {
   "cell_type": "markdown",
   "metadata": {},
   "source": [
    "### Graphing production budget of top ten gross"
   ]
  },
  {
   "cell_type": "code",
   "execution_count": 50,
   "metadata": {},
   "outputs": [
    {
     "data": {
      "text/plain": [
       "Text(0.5, 1.0, 'Movie Vs Production Budget (Top Ten)')"
      ]
     },
     "execution_count": 50,
     "metadata": {},
     "output_type": "execute_result"
    },
    {
     "data": {
      "image/png": "[encoded data removed]",
      "text/plain": [
       "<Figure size 432x288 with 1 Axes>"
      ]
     },
     "metadata": {
      "needs_background": "light"
     },
     "output_type": "display_data"
    }
   ],
   "source": [
    "sns.barplot(x = 'production_budget', y = 'movie', data = tn_movie_gross_head, color = 'Blue')\n",
    "\n",
    "plt.xlabel('Production Budget in Millions')\n",
    "plt.ylabel('Movie')\n",
    "plt.title('Movie Vs Production Budget (Top Ten)')"
   ]
  },
  {
   "cell_type": "markdown",
   "metadata": {},
   "source": [
    "### Starting Graphs for bottom ten gross"
   ]
  },
  {
   "cell_type": "code",
   "execution_count": 51,
   "metadata": {},
   "outputs": [],
   "source": [
    "tn_movie_gross_tail = tn_movie_budgets_df.sort_values(by=['worldwide_gross'], ascending=True).head(10)#sorting values of worldwide gross by ascending"
   ]
  },
  {
   "cell_type": "code",
   "execution_count": 52,
   "metadata": {},
   "outputs": [],
   "source": [
    "#graphing bottom ten worldwide gross"
   ]
  },
  {
   "cell_type": "code",
   "execution_count": 53,
   "metadata": {},
   "outputs": [
    {
     "data": {
      "text/plain": [
       "Text(0.5, 1.0, 'Movie Vs Worldwide Gross Bottom Ten')"
      ]
     },
     "execution_count": 53,
     "metadata": {},
     "output_type": "execute_result"
    },
    {
     "name": "stderr",
     "output_type": "stream",
     "text": [
      "C:\\Users\\micha\\anaconda3\\envs\\learn-env\\lib\\site-packages\\matplotlib\\backends\\backend_agg.py:238: RuntimeWarning: Glyph 128 missing from current font.\n",
      "  font.set_text(s, 0.0, flags=flags)\n",
      "C:\\Users\\micha\\anaconda3\\envs\\learn-env\\lib\\site-packages\\matplotlib\\backends\\backend_agg.py:238: RuntimeWarning: Glyph 153 missing from current font.\n",
      "  font.set_text(s, 0.0, flags=flags)\n",
      "C:\\Users\\micha\\anaconda3\\envs\\learn-env\\lib\\site-packages\\matplotlib\\backends\\backend_agg.py:201: RuntimeWarning: Glyph 128 missing from current font.\n",
      "  font.set_text(s, 0, flags=flags)\n",
      "C:\\Users\\micha\\anaconda3\\envs\\learn-env\\lib\\site-packages\\matplotlib\\backends\\backend_agg.py:201: RuntimeWarning: Glyph 153 missing from current font.\n",
      "  font.set_text(s, 0, flags=flags)\n"
     ]
    },
    {
     "data": {
      "image/png": "[encoded data removed]",
      "text/plain": [
       "<Figure size 432x288 with 1 Axes>"
      ]
     },
     "metadata": {
      "needs_background": "light"
     },
     "output_type": "display_data"
    }
   ],
   "source": [
    "sns.barplot(x = 'worldwide_gross', y = 'movie', data = tn_movie_gross_tail, color = 'Red')\n",
    "\n",
    "plt.xlabel('Worldwide Gross in Hundreds')\n",
    "plt.ylabel('Movie')\n",
    "plt.title('Movie Vs Worldwide Gross Bottom Ten')"
   ]
  },
  {
   "cell_type": "code",
   "execution_count": 54,
   "metadata": {},
   "outputs": [
    {
     "data": {
      "text/plain": [
       "Text(0.5, 1.0, 'Movie Vs Production Budget (Bottom Ten)')"
      ]
     },
     "execution_count": 54,
     "metadata": {},
     "output_type": "execute_result"
    },
    {
     "name": "stderr",
     "output_type": "stream",
     "text": [
      "C:\\Users\\micha\\anaconda3\\envs\\learn-env\\lib\\site-packages\\matplotlib\\backends\\backend_agg.py:238: RuntimeWarning: Glyph 128 missing from current font.\n",
      "  font.set_text(s, 0.0, flags=flags)\n",
      "C:\\Users\\micha\\anaconda3\\envs\\learn-env\\lib\\site-packages\\matplotlib\\backends\\backend_agg.py:238: RuntimeWarning: Glyph 153 missing from current font.\n",
      "  font.set_text(s, 0.0, flags=flags)\n",
      "C:\\Users\\micha\\anaconda3\\envs\\learn-env\\lib\\site-packages\\matplotlib\\backends\\backend_agg.py:201: RuntimeWarning: Glyph 128 missing from current font.\n",
      "  font.set_text(s, 0, flags=flags)\n",
      "C:\\Users\\micha\\anaconda3\\envs\\learn-env\\lib\\site-packages\\matplotlib\\backends\\backend_agg.py:201: RuntimeWarning: Glyph 153 missing from current font.\n",
      "  font.set_text(s, 0, flags=flags)\n"
     ]
    },
    {
     "data": {
      "image/png": "[encoded data removed]",
      "text/plain": [
       "<Figure size 432x288 with 1 Axes>"
      ]
     },
     "metadata": {
      "needs_background": "light"
     },
     "output_type": "display_data"
    }
   ],
   "source": [
    "#making barplot for production budget of bottom ten gross\n",
    "\n",
    "sns.barplot(x = 'production_budget', y = 'movie', data = tn_movie_gross_tail, color = 'Red')\n",
    "\n",
    "plt.xlabel('Production Budget in Millions')\n",
    "plt.ylabel('Movie')\n",
    "plt.title('Movie Vs Production Budget (Bottom Ten)')"
   ]
  },
  {
   "cell_type": "code",
   "execution_count": 55,
   "metadata": {},
   "outputs": [],
   "source": [
    "# Scatter plot to show relation between money put in and money gotten out"
   ]
  },
  {
   "cell_type": "code",
   "execution_count": 56,
   "metadata": {},
   "outputs": [
    {
     "data": {
      "text/plain": [
       "Text(0.5, 1.0, 'Takes money to make money')"
      ]
     },
     "execution_count": 56,
     "metadata": {},
     "output_type": "execute_result"
    },
    {
     "data": {
      "image/png": "[encoded data removed]",
      "text/plain": [
       "<Figure size 360x360 with 1 Axes>"
      ]
     },
     "metadata": {
      "needs_background": "light"
     },
     "output_type": "display_data"
    }
   ],
   "source": [
    "sns.lmplot(data=tn_movie_budgets_df, x='production_budget', y='worldwide_gross', line_kws={\"color\":\"r\",\"alpha\":0.7,\"lw\":5})\n",
    "sns.set_style('whitegrid')\n",
    "\n",
    "\n",
    "plt.xlabel(\"Production Budget (100mil)\")\n",
    "plt.ylabel(\"Worldwide Gross (billion)\")\n",
    "plt.title('Takes money to make money')"
   ]
  },
  {
   "cell_type": "markdown",
   "metadata": {},
   "source": [
    "### Starting Release Month VS average Gross"
   ]
  },
  {
   "cell_type": "code",
   "execution_count": 57,
   "metadata": {},
   "outputs": [],
   "source": [
    "release_date_group = tn_movie_budgets_df.groupby('release_date')#creating group of release date(month)"
   ]
  },
  {
   "cell_type": "code",
   "execution_count": 58,
   "metadata": {},
   "outputs": [],
   "source": [
    "month_group_world = release_date_group.sum(['worldwide_gross'])#finding sum of worldwide gross in release date(month)"
   ]
  },
  {
   "cell_type": "code",
   "execution_count": 59,
   "metadata": {},
   "outputs": [],
   "source": [
    "monthly_gross_avg = tn_movie_budgets_df.groupby('release_date')['worldwide_gross'].mean().astype('int64')#finding average of worldwide gross from releasedate group, setting to integer type"
   ]
  },
  {
   "cell_type": "code",
   "execution_count": 60,
   "metadata": {},
   "outputs": [],
   "source": [
    "month_group_world['month_gross_avg'] = monthly_gross_avg.astype('int64')#setting month_group_world ti integer"
   ]
  },
  {
   "cell_type": "code",
   "execution_count": 61,
   "metadata": {},
   "outputs": [],
   "source": [
    "month_group_world.reset_index(inplace=True)#resettting index of month group world"
   ]
  },
  {
   "cell_type": "code",
   "execution_count": 62,
   "metadata": {},
   "outputs": [
    {
     "data": {
      "text/plain": [
       "release_date          object\n",
       "id                     int64\n",
       "production_budget    float64\n",
       "worldwide_gross        int64\n",
       "month_gross_avg        int64\n",
       "dtype: object"
      ]
     },
     "execution_count": 62,
     "metadata": {},
     "output_type": "execute_result"
    }
   ],
   "source": [
    "month_group_world.dtypes# checking datatypes "
   ]
  },
  {
   "cell_type": "code",
   "execution_count": 63,
   "metadata": {},
   "outputs": [],
   "source": [
    "#graphing average gross vs month of release"
   ]
  },
  {
   "cell_type": "code",
   "execution_count": 64,
   "metadata": {},
   "outputs": [
    {
     "data": {
      "image/png": "[encoded data removed]",
      "text/plain": [
       "<Figure size 432x288 with 1 Axes>"
      ]
     },
     "metadata": {},
     "output_type": "display_data"
    }
   ],
   "source": [
    "sns.barplot(x = 'release_date',\n",
    "            y = 'month_gross_avg',\n",
    "            data = month_group_world,\n",
    "            order = ['Jan', 'Feb', 'Mar', 'Apr', 'May', 'Jun', 'Jul', 'Aug', 'Sep', 'Oct', 'Nov', 'Dec'],\n",
    "            color = 'Blue')\n",
    "\n",
    "plt.xlabel('Month of release')\n",
    "plt.ylabel('Average gross in millions')\n",
    "plt.title('Month of release VS Average gross')\n",
    "plt.ticklabel_format(style='sci', axis='y', scilimits=(6,6))"
   ]
  },
  {
   "cell_type": "code",
   "execution_count": 65,
   "metadata": {},
   "outputs": [],
   "source": [
    "#graphing total worldwide gross vs month of release"
   ]
  },
  {
   "cell_type": "code",
   "execution_count": 66,
   "metadata": {},
   "outputs": [
    {
     "data": {
      "image/png": "[encoded data removed]",
      "text/plain": [
       "<Figure size 432x288 with 1 Axes>"
      ]
     },
     "metadata": {},
     "output_type": "display_data"
    }
   ],
   "source": [
    "sns.barplot(x = 'release_date',\n",
    "            y = 'worldwide_gross',\n",
    "            data = month_group_world,\n",
    "            order = ['Jan', 'Feb', 'Mar', 'Apr', 'May', 'Jun', 'Jul', 'Aug', 'Sep', 'Oct', 'Nov', 'Dec'],\n",
    "            color = 'Blue')\n",
    "\n",
    "plt.xlabel('Month of release')\n",
    "plt.ylabel('Total worldwide gross in billions')\n",
    "plt.title('Month of release VS total worldwide gross')\n",
    "plt.ticklabel_format(style='sci', axis='y', scilimits=(9,9))"
   ]
  },
  {
   "cell_type": "code",
   "execution_count": 67,
   "metadata": {},
   "outputs": [
    {
     "name": "stdout",
     "output_type": "stream",
     "text": [
      "CONTRIBUTING.md\n",
      "LICENSE.md\n",
      "README.md\n",
      "Unzipped Data\n",
      "UnzippedData\n",
      "awesome.gif\n",
      "dsc-phase-1-project-v2-4\n",
      "im.db\n",
      "movie_data_erd.jpeg\n",
      "my work-Copy1.ipynb\n",
      "my work.ipynb\n",
      "student.ipynb\n",
      "zippedData\n"
     ]
    }
   ],
   "source": [
    "!ls"
   ]
  },
  {
   "cell_type": "code",
   "execution_count": 68,
   "metadata": {},
   "outputs": [],
   "source": [
    "#importing SQL db"
   ]
  },
  {
   "cell_type": "code",
   "execution_count": 69,
   "metadata": {},
   "outputs": [],
   "source": [
    "conn = sql.connect(\"im.db\")"
   ]
  },
  {
   "cell_type": "code",
   "execution_count": 70,
   "metadata": {},
   "outputs": [
    {
     "data": {
      "text/plain": [
       "sqlite3.Connection"
      ]
     },
     "execution_count": 70,
     "metadata": {},
     "output_type": "execute_result"
    }
   ],
   "source": [
    "type(conn)"
   ]
  },
  {
   "cell_type": "code",
   "execution_count": 71,
   "metadata": {},
   "outputs": [],
   "source": [
    "cur = conn.cursor()"
   ]
  },
  {
   "cell_type": "code",
   "execution_count": 72,
   "metadata": {},
   "outputs": [
    {
     "data": {
      "text/html": [
       "<div>\n",
       "<style scoped>\n",
       "    .dataframe tbody tr th:only-of-type {\n",
       "        vertical-align: middle;\n",
       "    }\n",
       "\n",
       "    .dataframe tbody tr th {\n",
       "        vertical-align: top;\n",
       "    }\n",
       "\n",
       "    .dataframe thead th {\n",
       "        text-align: right;\n",
       "    }\n",
       "</style>\n",
       "<table border=\"1\" class=\"dataframe\">\n",
       "  <thead>\n",
       "    <tr style=\"text-align: right;\">\n",
       "      <th></th>\n",
       "      <th>type</th>\n",
       "      <th>name</th>\n",
       "      <th>tbl_name</th>\n",
       "      <th>rootpage</th>\n",
       "      <th>sql</th>\n",
       "    </tr>\n",
       "  </thead>\n",
       "  <tbody>\n",
       "    <tr>\n",
       "      <th>0</th>\n",
       "      <td>table</td>\n",
       "      <td>movie_basics</td>\n",
       "      <td>movie_basics</td>\n",
       "      <td>2</td>\n",
       "      <td>CREATE TABLE \"movie_basics\" (\\n\"movie_id\" TEXT...</td>\n",
       "    </tr>\n",
       "    <tr>\n",
       "      <th>1</th>\n",
       "      <td>table</td>\n",
       "      <td>directors</td>\n",
       "      <td>directors</td>\n",
       "      <td>3</td>\n",
       "      <td>CREATE TABLE \"directors\" (\\n\"movie_id\" TEXT,\\n...</td>\n",
       "    </tr>\n",
       "    <tr>\n",
       "      <th>2</th>\n",
       "      <td>table</td>\n",
       "      <td>known_for</td>\n",
       "      <td>known_for</td>\n",
       "      <td>4</td>\n",
       "      <td>CREATE TABLE \"known_for\" (\\n\"person_id\" TEXT,\\...</td>\n",
       "    </tr>\n",
       "    <tr>\n",
       "      <th>3</th>\n",
       "      <td>table</td>\n",
       "      <td>movie_akas</td>\n",
       "      <td>movie_akas</td>\n",
       "      <td>5</td>\n",
       "      <td>CREATE TABLE \"movie_akas\" (\\n\"movie_id\" TEXT,\\...</td>\n",
       "    </tr>\n",
       "    <tr>\n",
       "      <th>4</th>\n",
       "      <td>table</td>\n",
       "      <td>movie_ratings</td>\n",
       "      <td>movie_ratings</td>\n",
       "      <td>6</td>\n",
       "      <td>CREATE TABLE \"movie_ratings\" (\\n\"movie_id\" TEX...</td>\n",
       "    </tr>\n",
       "    <tr>\n",
       "      <th>5</th>\n",
       "      <td>table</td>\n",
       "      <td>persons</td>\n",
       "      <td>persons</td>\n",
       "      <td>7</td>\n",
       "      <td>CREATE TABLE \"persons\" (\\n\"person_id\" TEXT,\\n ...</td>\n",
       "    </tr>\n",
       "    <tr>\n",
       "      <th>6</th>\n",
       "      <td>table</td>\n",
       "      <td>principals</td>\n",
       "      <td>principals</td>\n",
       "      <td>8</td>\n",
       "      <td>CREATE TABLE \"principals\" (\\n\"movie_id\" TEXT,\\...</td>\n",
       "    </tr>\n",
       "    <tr>\n",
       "      <th>7</th>\n",
       "      <td>table</td>\n",
       "      <td>writers</td>\n",
       "      <td>writers</td>\n",
       "      <td>9</td>\n",
       "      <td>CREATE TABLE \"writers\" (\\n\"movie_id\" TEXT,\\n  ...</td>\n",
       "    </tr>\n",
       "    <tr>\n",
       "      <th>8</th>\n",
       "      <td>table</td>\n",
       "      <td>movie_budgets</td>\n",
       "      <td>movie_budgets</td>\n",
       "      <td>41369</td>\n",
       "      <td>CREATE TABLE movie_budgets(\\n  \"id\" TEXT,\\n  \"...</td>\n",
       "    </tr>\n",
       "    <tr>\n",
       "      <th>9</th>\n",
       "      <td>table</td>\n",
       "      <td>tmdb_movies</td>\n",
       "      <td>tmdb_movies</td>\n",
       "      <td>41472</td>\n",
       "      <td>CREATE TABLE tmdb_movies(\\n  \"\" TEXT,\\n  \"genr...</td>\n",
       "    </tr>\n",
       "  </tbody>\n",
       "</table>\n",
       "</div>"
      ],
      "text/plain": [
       "    type           name       tbl_name  rootpage  \\\n",
       "0  table   movie_basics   movie_basics         2   \n",
       "1  table      directors      directors         3   \n",
       "2  table      known_for      known_for         4   \n",
       "3  table     movie_akas     movie_akas         5   \n",
       "4  table  movie_ratings  movie_ratings         6   \n",
       "5  table        persons        persons         7   \n",
       "6  table     principals     principals         8   \n",
       "7  table        writers        writers         9   \n",
       "8  table  movie_budgets  movie_budgets     41369   \n",
       "9  table    tmdb_movies    tmdb_movies     41472   \n",
       "\n",
       "                                                 sql  \n",
       "0  CREATE TABLE \"movie_basics\" (\\n\"movie_id\" TEXT...  \n",
       "1  CREATE TABLE \"directors\" (\\n\"movie_id\" TEXT,\\n...  \n",
       "2  CREATE TABLE \"known_for\" (\\n\"person_id\" TEXT,\\...  \n",
       "3  CREATE TABLE \"movie_akas\" (\\n\"movie_id\" TEXT,\\...  \n",
       "4  CREATE TABLE \"movie_ratings\" (\\n\"movie_id\" TEX...  \n",
       "5  CREATE TABLE \"persons\" (\\n\"person_id\" TEXT,\\n ...  \n",
       "6  CREATE TABLE \"principals\" (\\n\"movie_id\" TEXT,\\...  \n",
       "7  CREATE TABLE \"writers\" (\\n\"movie_id\" TEXT,\\n  ...  \n",
       "8  CREATE TABLE movie_budgets(\\n  \"id\" TEXT,\\n  \"...  \n",
       "9  CREATE TABLE tmdb_movies(\\n  \"\" TEXT,\\n  \"genr...  "
      ]
     },
     "execution_count": 72,
     "metadata": {},
     "output_type": "execute_result"
    }
   ],
   "source": [
    "pd.read_sql_query(\"SELECT * from sqlite_master;\", conn)"
   ]
  },
  {
   "cell_type": "code",
   "execution_count": 73,
   "metadata": {},
   "outputs": [],
   "source": [
    "#query of the average number of votes from SQL db movie_ratings"
   ]
  },
  {
   "cell_type": "code",
   "execution_count": 74,
   "metadata": {},
   "outputs": [],
   "source": [
    "avg_votes = pd.read_sql(\"\"\"\n",
    "SELECT avg(numvotes)\n",
    "FROM movie_ratings\n",
    "\"\"\", conn)"
   ]
  },
  {
   "cell_type": "code",
   "execution_count": 75,
   "metadata": {},
   "outputs": [
    {
     "data": {
      "text/html": [
       "<div>\n",
       "<style scoped>\n",
       "    .dataframe tbody tr th:only-of-type {\n",
       "        vertical-align: middle;\n",
       "    }\n",
       "\n",
       "    .dataframe tbody tr th {\n",
       "        vertical-align: top;\n",
       "    }\n",
       "\n",
       "    .dataframe thead th {\n",
       "        text-align: right;\n",
       "    }\n",
       "</style>\n",
       "<table border=\"1\" class=\"dataframe\">\n",
       "  <thead>\n",
       "    <tr style=\"text-align: right;\">\n",
       "      <th></th>\n",
       "      <th>avg(numvotes)</th>\n",
       "    </tr>\n",
       "  </thead>\n",
       "  <tbody>\n",
       "    <tr>\n",
       "      <th>0</th>\n",
       "      <td>3523.662167</td>\n",
       "    </tr>\n",
       "  </tbody>\n",
       "</table>\n",
       "</div>"
      ],
      "text/plain": [
       "   avg(numvotes)\n",
       "0    3523.662167"
      ]
     },
     "execution_count": 75,
     "metadata": {},
     "output_type": "execute_result"
    }
   ],
   "source": [
    "avg_votes"
   ]
  },
  {
   "cell_type": "code",
   "execution_count": 76,
   "metadata": {},
   "outputs": [],
   "source": [
    "#query of average ratings above 9 for writers"
   ]
  },
  {
   "cell_type": "code",
   "execution_count": 77,
   "metadata": {},
   "outputs": [],
   "source": [
    "query1 = pd.read_sql(\"\"\"\n",
    "SELECT DISTINCT averagerating, primary_name, numvotes\n",
    "FROM movie_ratings\n",
    "INNER JOIN movie_basics\n",
    "    ON movie_ratings.movie_id = movie_basics.movie_id\n",
    "INNER JOIN writers\n",
    "    ON movie_basics.movie_id = writers.movie_id\n",
    "INNER JOIN persons\n",
    "    ON writers.person_id = persons.person_id\n",
    "WHERE death_year is null AND numvotes > 3500 AND averagerating >= 9.0\n",
    "\"\"\", conn)"
   ]
  },
  {
   "cell_type": "code",
   "execution_count": 78,
   "metadata": {},
   "outputs": [
    {
     "data": {
      "text/html": [
       "<div>\n",
       "<style scoped>\n",
       "    .dataframe tbody tr th:only-of-type {\n",
       "        vertical-align: middle;\n",
       "    }\n",
       "\n",
       "    .dataframe tbody tr th {\n",
       "        vertical-align: top;\n",
       "    }\n",
       "\n",
       "    .dataframe thead th {\n",
       "        text-align: right;\n",
       "    }\n",
       "</style>\n",
       "<table border=\"1\" class=\"dataframe\">\n",
       "  <thead>\n",
       "    <tr style=\"text-align: right;\">\n",
       "      <th></th>\n",
       "      <th>averagerating</th>\n",
       "      <th>primary_name</th>\n",
       "      <th>numvotes</th>\n",
       "    </tr>\n",
       "  </thead>\n",
       "  <tbody>\n",
       "    <tr>\n",
       "      <th>0</th>\n",
       "      <td>9.4</td>\n",
       "      <td>Ram</td>\n",
       "      <td>9629</td>\n",
       "    </tr>\n",
       "    <tr>\n",
       "      <th>1</th>\n",
       "      <td>9.4</td>\n",
       "      <td>Anjana Krishnakumar</td>\n",
       "      <td>9629</td>\n",
       "    </tr>\n",
       "    <tr>\n",
       "      <th>2</th>\n",
       "      <td>9.0</td>\n",
       "      <td>Mari Selvaraj</td>\n",
       "      <td>4854</td>\n",
       "    </tr>\n",
       "    <tr>\n",
       "      <th>3</th>\n",
       "      <td>9.3</td>\n",
       "      <td>Alper Caglar</td>\n",
       "      <td>100568</td>\n",
       "    </tr>\n",
       "    <tr>\n",
       "      <th>4</th>\n",
       "      <td>9.3</td>\n",
       "      <td>Syed Gaosul Alam Shaon</td>\n",
       "      <td>18470</td>\n",
       "    </tr>\n",
       "    <tr>\n",
       "      <th>5</th>\n",
       "      <td>9.3</td>\n",
       "      <td>Anam Biswas</td>\n",
       "      <td>18470</td>\n",
       "    </tr>\n",
       "    <tr>\n",
       "      <th>6</th>\n",
       "      <td>9.3</td>\n",
       "      <td>Adnan Adib Khan</td>\n",
       "      <td>18470</td>\n",
       "    </tr>\n",
       "    <tr>\n",
       "      <th>7</th>\n",
       "      <td>9.2</td>\n",
       "      <td>Mahesh Manjrekar</td>\n",
       "      <td>4297</td>\n",
       "    </tr>\n",
       "    <tr>\n",
       "      <th>8</th>\n",
       "      <td>9.2</td>\n",
       "      <td>Abhijeet Shirish Deshpande</td>\n",
       "      <td>4297</td>\n",
       "    </tr>\n",
       "    <tr>\n",
       "      <th>9</th>\n",
       "      <td>9.2</td>\n",
       "      <td>Kiran Yadnyopavit</td>\n",
       "      <td>4297</td>\n",
       "    </tr>\n",
       "    <tr>\n",
       "      <th>10</th>\n",
       "      <td>9.5</td>\n",
       "      <td>Saman Weeraman</td>\n",
       "      <td>6509</td>\n",
       "    </tr>\n",
       "    <tr>\n",
       "      <th>11</th>\n",
       "      <td>9.1</td>\n",
       "      <td>Rudi Valinka</td>\n",
       "      <td>4162</td>\n",
       "    </tr>\n",
       "    <tr>\n",
       "      <th>12</th>\n",
       "      <td>9.1</td>\n",
       "      <td>Putrama Tuta</td>\n",
       "      <td>4162</td>\n",
       "    </tr>\n",
       "    <tr>\n",
       "      <th>13</th>\n",
       "      <td>9.1</td>\n",
       "      <td>Ilya Sigma</td>\n",
       "      <td>4162</td>\n",
       "    </tr>\n",
       "    <tr>\n",
       "      <th>14</th>\n",
       "      <td>9.1</td>\n",
       "      <td>Danny Jaka Sembada</td>\n",
       "      <td>4162</td>\n",
       "    </tr>\n",
       "    <tr>\n",
       "      <th>15</th>\n",
       "      <td>9.2</td>\n",
       "      <td>Cem Yilmaz</td>\n",
       "      <td>41560</td>\n",
       "    </tr>\n",
       "    <tr>\n",
       "      <th>16</th>\n",
       "      <td>9.3</td>\n",
       "      <td>Donavon Warren</td>\n",
       "      <td>17308</td>\n",
       "    </tr>\n",
       "    <tr>\n",
       "      <th>17</th>\n",
       "      <td>9.7</td>\n",
       "      <td>Quentin Tarantino</td>\n",
       "      <td>5600</td>\n",
       "    </tr>\n",
       "  </tbody>\n",
       "</table>\n",
       "</div>"
      ],
      "text/plain": [
       "    averagerating                primary_name  numvotes\n",
       "0             9.4                         Ram      9629\n",
       "1             9.4         Anjana Krishnakumar      9629\n",
       "2             9.0               Mari Selvaraj      4854\n",
       "3             9.3                Alper Caglar    100568\n",
       "4             9.3      Syed Gaosul Alam Shaon     18470\n",
       "5             9.3                 Anam Biswas     18470\n",
       "6             9.3             Adnan Adib Khan     18470\n",
       "7             9.2            Mahesh Manjrekar      4297\n",
       "8             9.2  Abhijeet Shirish Deshpande      4297\n",
       "9             9.2           Kiran Yadnyopavit      4297\n",
       "10            9.5              Saman Weeraman      6509\n",
       "11            9.1                Rudi Valinka      4162\n",
       "12            9.1                Putrama Tuta      4162\n",
       "13            9.1                  Ilya Sigma      4162\n",
       "14            9.1          Danny Jaka Sembada      4162\n",
       "15            9.2                  Cem Yilmaz     41560\n",
       "16            9.3              Donavon Warren     17308\n",
       "17            9.7           Quentin Tarantino      5600"
      ]
     },
     "execution_count": 78,
     "metadata": {},
     "output_type": "execute_result"
    }
   ],
   "source": [
    "query1"
   ]
  },
  {
   "cell_type": "code",
   "execution_count": 79,
   "metadata": {},
   "outputs": [
    {
     "data": {
      "text/html": [
       "<div>\n",
       "<style scoped>\n",
       "    .dataframe tbody tr th:only-of-type {\n",
       "        vertical-align: middle;\n",
       "    }\n",
       "\n",
       "    .dataframe tbody tr th {\n",
       "        vertical-align: top;\n",
       "    }\n",
       "\n",
       "    .dataframe thead th {\n",
       "        text-align: right;\n",
       "    }\n",
       "</style>\n",
       "<table border=\"1\" class=\"dataframe\">\n",
       "  <thead>\n",
       "    <tr style=\"text-align: right;\">\n",
       "      <th></th>\n",
       "      <th>averagerating</th>\n",
       "      <th>primary_name</th>\n",
       "      <th>numvotes</th>\n",
       "    </tr>\n",
       "  </thead>\n",
       "  <tbody>\n",
       "    <tr>\n",
       "      <th>17</th>\n",
       "      <td>9.7</td>\n",
       "      <td>Quentin Tarantino</td>\n",
       "      <td>5600</td>\n",
       "    </tr>\n",
       "    <tr>\n",
       "      <th>10</th>\n",
       "      <td>9.5</td>\n",
       "      <td>Saman Weeraman</td>\n",
       "      <td>6509</td>\n",
       "    </tr>\n",
       "    <tr>\n",
       "      <th>1</th>\n",
       "      <td>9.4</td>\n",
       "      <td>Anjana Krishnakumar</td>\n",
       "      <td>9629</td>\n",
       "    </tr>\n",
       "    <tr>\n",
       "      <th>0</th>\n",
       "      <td>9.4</td>\n",
       "      <td>Ram</td>\n",
       "      <td>9629</td>\n",
       "    </tr>\n",
       "    <tr>\n",
       "      <th>4</th>\n",
       "      <td>9.3</td>\n",
       "      <td>Syed Gaosul Alam Shaon</td>\n",
       "      <td>18470</td>\n",
       "    </tr>\n",
       "    <tr>\n",
       "      <th>5</th>\n",
       "      <td>9.3</td>\n",
       "      <td>Anam Biswas</td>\n",
       "      <td>18470</td>\n",
       "    </tr>\n",
       "    <tr>\n",
       "      <th>6</th>\n",
       "      <td>9.3</td>\n",
       "      <td>Adnan Adib Khan</td>\n",
       "      <td>18470</td>\n",
       "    </tr>\n",
       "    <tr>\n",
       "      <th>3</th>\n",
       "      <td>9.3</td>\n",
       "      <td>Alper Caglar</td>\n",
       "      <td>100568</td>\n",
       "    </tr>\n",
       "    <tr>\n",
       "      <th>16</th>\n",
       "      <td>9.3</td>\n",
       "      <td>Donavon Warren</td>\n",
       "      <td>17308</td>\n",
       "    </tr>\n",
       "    <tr>\n",
       "      <th>7</th>\n",
       "      <td>9.2</td>\n",
       "      <td>Mahesh Manjrekar</td>\n",
       "      <td>4297</td>\n",
       "    </tr>\n",
       "    <tr>\n",
       "      <th>8</th>\n",
       "      <td>9.2</td>\n",
       "      <td>Abhijeet Shirish Deshpande</td>\n",
       "      <td>4297</td>\n",
       "    </tr>\n",
       "    <tr>\n",
       "      <th>15</th>\n",
       "      <td>9.2</td>\n",
       "      <td>Cem Yilmaz</td>\n",
       "      <td>41560</td>\n",
       "    </tr>\n",
       "    <tr>\n",
       "      <th>9</th>\n",
       "      <td>9.2</td>\n",
       "      <td>Kiran Yadnyopavit</td>\n",
       "      <td>4297</td>\n",
       "    </tr>\n",
       "    <tr>\n",
       "      <th>11</th>\n",
       "      <td>9.1</td>\n",
       "      <td>Rudi Valinka</td>\n",
       "      <td>4162</td>\n",
       "    </tr>\n",
       "    <tr>\n",
       "      <th>12</th>\n",
       "      <td>9.1</td>\n",
       "      <td>Putrama Tuta</td>\n",
       "      <td>4162</td>\n",
       "    </tr>\n",
       "    <tr>\n",
       "      <th>13</th>\n",
       "      <td>9.1</td>\n",
       "      <td>Ilya Sigma</td>\n",
       "      <td>4162</td>\n",
       "    </tr>\n",
       "    <tr>\n",
       "      <th>14</th>\n",
       "      <td>9.1</td>\n",
       "      <td>Danny Jaka Sembada</td>\n",
       "      <td>4162</td>\n",
       "    </tr>\n",
       "    <tr>\n",
       "      <th>2</th>\n",
       "      <td>9.0</td>\n",
       "      <td>Mari Selvaraj</td>\n",
       "      <td>4854</td>\n",
       "    </tr>\n",
       "  </tbody>\n",
       "</table>\n",
       "</div>"
      ],
      "text/plain": [
       "    averagerating                primary_name  numvotes\n",
       "17            9.7           Quentin Tarantino      5600\n",
       "10            9.5              Saman Weeraman      6509\n",
       "1             9.4         Anjana Krishnakumar      9629\n",
       "0             9.4                         Ram      9629\n",
       "4             9.3      Syed Gaosul Alam Shaon     18470\n",
       "5             9.3                 Anam Biswas     18470\n",
       "6             9.3             Adnan Adib Khan     18470\n",
       "3             9.3                Alper Caglar    100568\n",
       "16            9.3              Donavon Warren     17308\n",
       "7             9.2            Mahesh Manjrekar      4297\n",
       "8             9.2  Abhijeet Shirish Deshpande      4297\n",
       "15            9.2                  Cem Yilmaz     41560\n",
       "9             9.2           Kiran Yadnyopavit      4297\n",
       "11            9.1                Rudi Valinka      4162\n",
       "12            9.1                Putrama Tuta      4162\n",
       "13            9.1                  Ilya Sigma      4162\n",
       "14            9.1          Danny Jaka Sembada      4162\n",
       "2             9.0               Mari Selvaraj      4854"
      ]
     },
     "execution_count": 79,
     "metadata": {},
     "output_type": "execute_result"
    }
   ],
   "source": [
    "query1.sort_values('averagerating', ascending=False)#sorting by top average writers"
   ]
  },
  {
   "cell_type": "code",
   "execution_count": 80,
   "metadata": {},
   "outputs": [],
   "source": [
    "grouped_writers = query1.groupby('primary_name')#grouping writers by name\n",
    "writer_avg_rating = grouped_writers.mean('averagerating')# finding average rating of writers\n",
    "writer_avg_rating = writer_avg_rating.reset_index()#reseting index"
   ]
  },
  {
   "cell_type": "code",
   "execution_count": 81,
   "metadata": {},
   "outputs": [
    {
     "data": {
      "text/html": [
       "<div>\n",
       "<style scoped>\n",
       "    .dataframe tbody tr th:only-of-type {\n",
       "        vertical-align: middle;\n",
       "    }\n",
       "\n",
       "    .dataframe tbody tr th {\n",
       "        vertical-align: top;\n",
       "    }\n",
       "\n",
       "    .dataframe thead th {\n",
       "        text-align: right;\n",
       "    }\n",
       "</style>\n",
       "<table border=\"1\" class=\"dataframe\">\n",
       "  <thead>\n",
       "    <tr style=\"text-align: right;\">\n",
       "      <th></th>\n",
       "      <th>primary_name</th>\n",
       "      <th>averagerating</th>\n",
       "      <th>numvotes</th>\n",
       "    </tr>\n",
       "  </thead>\n",
       "  <tbody>\n",
       "    <tr>\n",
       "      <th>13</th>\n",
       "      <td>Quentin Tarantino</td>\n",
       "      <td>9.7</td>\n",
       "      <td>5600</td>\n",
       "    </tr>\n",
       "    <tr>\n",
       "      <th>16</th>\n",
       "      <td>Saman Weeraman</td>\n",
       "      <td>9.5</td>\n",
       "      <td>6509</td>\n",
       "    </tr>\n",
       "    <tr>\n",
       "      <th>4</th>\n",
       "      <td>Anjana Krishnakumar</td>\n",
       "      <td>9.4</td>\n",
       "      <td>9629</td>\n",
       "    </tr>\n",
       "    <tr>\n",
       "      <th>14</th>\n",
       "      <td>Ram</td>\n",
       "      <td>9.4</td>\n",
       "      <td>9629</td>\n",
       "    </tr>\n",
       "    <tr>\n",
       "      <th>17</th>\n",
       "      <td>Syed Gaosul Alam Shaon</td>\n",
       "      <td>9.3</td>\n",
       "      <td>18470</td>\n",
       "    </tr>\n",
       "    <tr>\n",
       "      <th>2</th>\n",
       "      <td>Alper Caglar</td>\n",
       "      <td>9.3</td>\n",
       "      <td>100568</td>\n",
       "    </tr>\n",
       "    <tr>\n",
       "      <th>3</th>\n",
       "      <td>Anam Biswas</td>\n",
       "      <td>9.3</td>\n",
       "      <td>18470</td>\n",
       "    </tr>\n",
       "    <tr>\n",
       "      <th>7</th>\n",
       "      <td>Donavon Warren</td>\n",
       "      <td>9.3</td>\n",
       "      <td>17308</td>\n",
       "    </tr>\n",
       "    <tr>\n",
       "      <th>1</th>\n",
       "      <td>Adnan Adib Khan</td>\n",
       "      <td>9.3</td>\n",
       "      <td>18470</td>\n",
       "    </tr>\n",
       "    <tr>\n",
       "      <th>10</th>\n",
       "      <td>Mahesh Manjrekar</td>\n",
       "      <td>9.2</td>\n",
       "      <td>4297</td>\n",
       "    </tr>\n",
       "    <tr>\n",
       "      <th>0</th>\n",
       "      <td>Abhijeet Shirish Deshpande</td>\n",
       "      <td>9.2</td>\n",
       "      <td>4297</td>\n",
       "    </tr>\n",
       "    <tr>\n",
       "      <th>5</th>\n",
       "      <td>Cem Yilmaz</td>\n",
       "      <td>9.2</td>\n",
       "      <td>41560</td>\n",
       "    </tr>\n",
       "    <tr>\n",
       "      <th>9</th>\n",
       "      <td>Kiran Yadnyopavit</td>\n",
       "      <td>9.2</td>\n",
       "      <td>4297</td>\n",
       "    </tr>\n",
       "    <tr>\n",
       "      <th>12</th>\n",
       "      <td>Putrama Tuta</td>\n",
       "      <td>9.1</td>\n",
       "      <td>4162</td>\n",
       "    </tr>\n",
       "    <tr>\n",
       "      <th>8</th>\n",
       "      <td>Ilya Sigma</td>\n",
       "      <td>9.1</td>\n",
       "      <td>4162</td>\n",
       "    </tr>\n",
       "    <tr>\n",
       "      <th>6</th>\n",
       "      <td>Danny Jaka Sembada</td>\n",
       "      <td>9.1</td>\n",
       "      <td>4162</td>\n",
       "    </tr>\n",
       "    <tr>\n",
       "      <th>15</th>\n",
       "      <td>Rudi Valinka</td>\n",
       "      <td>9.1</td>\n",
       "      <td>4162</td>\n",
       "    </tr>\n",
       "    <tr>\n",
       "      <th>11</th>\n",
       "      <td>Mari Selvaraj</td>\n",
       "      <td>9.0</td>\n",
       "      <td>4854</td>\n",
       "    </tr>\n",
       "  </tbody>\n",
       "</table>\n",
       "</div>"
      ],
      "text/plain": [
       "                  primary_name  averagerating  numvotes\n",
       "13           Quentin Tarantino            9.7      5600\n",
       "16              Saman Weeraman            9.5      6509\n",
       "4          Anjana Krishnakumar            9.4      9629\n",
       "14                         Ram            9.4      9629\n",
       "17      Syed Gaosul Alam Shaon            9.3     18470\n",
       "2                 Alper Caglar            9.3    100568\n",
       "3                  Anam Biswas            9.3     18470\n",
       "7               Donavon Warren            9.3     17308\n",
       "1              Adnan Adib Khan            9.3     18470\n",
       "10            Mahesh Manjrekar            9.2      4297\n",
       "0   Abhijeet Shirish Deshpande            9.2      4297\n",
       "5                   Cem Yilmaz            9.2     41560\n",
       "9            Kiran Yadnyopavit            9.2      4297\n",
       "12                Putrama Tuta            9.1      4162\n",
       "8                   Ilya Sigma            9.1      4162\n",
       "6           Danny Jaka Sembada            9.1      4162\n",
       "15                Rudi Valinka            9.1      4162\n",
       "11               Mari Selvaraj            9.0      4854"
      ]
     },
     "execution_count": 81,
     "metadata": {},
     "output_type": "execute_result"
    }
   ],
   "source": [
    "writer_avg_rating.sort_values(by=['averagerating'], ascending=False)#sorting average rating writers by avgrating"
   ]
  },
  {
   "cell_type": "code",
   "execution_count": 82,
   "metadata": {},
   "outputs": [],
   "source": [
    "#query movies/genre/writer with their average rating ahving more than 3500 votes\n",
    "genre_query = pd.read_sql(\"\"\"\n",
    "SELECT DISTINCT averagerating, primary_name, genres, original_title, movie_basics.movie_id\n",
    "FROM movie_ratings\n",
    "INNER JOIN movie_basics\n",
    "    ON movie_ratings.movie_id = movie_basics.movie_id\n",
    "INNER JOIN writers\n",
    "    ON movie_basics.movie_id = writers.movie_id\n",
    "INNER JOIN persons\n",
    "    ON writers.person_id = persons.person_id\n",
    "WHERE death_year is null AND numvotes > 3500\n",
    "\"\"\", conn)"
   ]
  },
  {
   "cell_type": "code",
   "execution_count": 83,
   "metadata": {},
   "outputs": [
    {
     "data": {
      "text/html": [
       "<div>\n",
       "<style scoped>\n",
       "    .dataframe tbody tr th:only-of-type {\n",
       "        vertical-align: middle;\n",
       "    }\n",
       "\n",
       "    .dataframe tbody tr th {\n",
       "        vertical-align: top;\n",
       "    }\n",
       "\n",
       "    .dataframe thead th {\n",
       "        text-align: right;\n",
       "    }\n",
       "</style>\n",
       "<table border=\"1\" class=\"dataframe\">\n",
       "  <thead>\n",
       "    <tr style=\"text-align: right;\">\n",
       "      <th></th>\n",
       "      <th>averagerating</th>\n",
       "      <th>primary_name</th>\n",
       "      <th>genres</th>\n",
       "      <th>original_title</th>\n",
       "      <th>movie_id</th>\n",
       "    </tr>\n",
       "  </thead>\n",
       "  <tbody>\n",
       "    <tr>\n",
       "      <th>8810</th>\n",
       "      <td>9.7</td>\n",
       "      <td>Quentin Tarantino</td>\n",
       "      <td>Comedy,Drama</td>\n",
       "      <td>Once Upon a Time ... in Hollywood</td>\n",
       "      <td>tt7131622</td>\n",
       "    </tr>\n",
       "    <tr>\n",
       "      <th>1935</th>\n",
       "      <td>9.5</td>\n",
       "      <td>Saman Weeraman</td>\n",
       "      <td>Drama,History</td>\n",
       "      <td>Aloko Udapadi</td>\n",
       "      <td>tt5963218</td>\n",
       "    </tr>\n",
       "    <tr>\n",
       "      <th>888</th>\n",
       "      <td>9.4</td>\n",
       "      <td>Anjana Krishnakumar</td>\n",
       "      <td>Drama</td>\n",
       "      <td>Peranbu</td>\n",
       "      <td>tt7738784</td>\n",
       "    </tr>\n",
       "    <tr>\n",
       "      <th>887</th>\n",
       "      <td>9.4</td>\n",
       "      <td>Ram</td>\n",
       "      <td>Drama</td>\n",
       "      <td>Peranbu</td>\n",
       "      <td>tt7738784</td>\n",
       "    </tr>\n",
       "    <tr>\n",
       "      <th>1678</th>\n",
       "      <td>9.3</td>\n",
       "      <td>Syed Gaosul Alam Shaon</td>\n",
       "      <td>Crime,Mystery,Thriller</td>\n",
       "      <td>Aynabaji</td>\n",
       "      <td>tt5354160</td>\n",
       "    </tr>\n",
       "    <tr>\n",
       "      <th>6934</th>\n",
       "      <td>9.3</td>\n",
       "      <td>Donavon Warren</td>\n",
       "      <td>Drama</td>\n",
       "      <td>Wheels</td>\n",
       "      <td>tt2170667</td>\n",
       "    </tr>\n",
       "    <tr>\n",
       "      <th>1616</th>\n",
       "      <td>9.3</td>\n",
       "      <td>Alper Caglar</td>\n",
       "      <td>Action,Drama,War</td>\n",
       "      <td>Dag II</td>\n",
       "      <td>tt5813916</td>\n",
       "    </tr>\n",
       "    <tr>\n",
       "      <th>1679</th>\n",
       "      <td>9.3</td>\n",
       "      <td>Anam Biswas</td>\n",
       "      <td>Crime,Mystery,Thriller</td>\n",
       "      <td>Aynabaji</td>\n",
       "      <td>tt5354160</td>\n",
       "    </tr>\n",
       "    <tr>\n",
       "      <th>1680</th>\n",
       "      <td>9.3</td>\n",
       "      <td>Adnan Adib Khan</td>\n",
       "      <td>Crime,Mystery,Thriller</td>\n",
       "      <td>Aynabaji</td>\n",
       "      <td>tt5354160</td>\n",
       "    </tr>\n",
       "    <tr>\n",
       "      <th>5336</th>\n",
       "      <td>9.2</td>\n",
       "      <td>Cem Yilmaz</td>\n",
       "      <td>Comedy,Documentary</td>\n",
       "      <td>CM101MMXI Fundamentals</td>\n",
       "      <td>tt2592910</td>\n",
       "    </tr>\n",
       "    <tr>\n",
       "      <th>1927</th>\n",
       "      <td>9.2</td>\n",
       "      <td>Abhijeet Shirish Deshpande</td>\n",
       "      <td>Drama,Family</td>\n",
       "      <td>Natsamrat</td>\n",
       "      <td>tt5311546</td>\n",
       "    </tr>\n",
       "    <tr>\n",
       "      <th>1926</th>\n",
       "      <td>9.2</td>\n",
       "      <td>Mahesh Manjrekar</td>\n",
       "      <td>Drama,Family</td>\n",
       "      <td>Natsamrat</td>\n",
       "      <td>tt5311546</td>\n",
       "    </tr>\n",
       "    <tr>\n",
       "      <th>1928</th>\n",
       "      <td>9.2</td>\n",
       "      <td>Kiran Yadnyopavit</td>\n",
       "      <td>Drama,Family</td>\n",
       "      <td>Natsamrat</td>\n",
       "      <td>tt5311546</td>\n",
       "    </tr>\n",
       "    <tr>\n",
       "      <th>2454</th>\n",
       "      <td>9.1</td>\n",
       "      <td>Rudi Valinka</td>\n",
       "      <td>Drama</td>\n",
       "      <td>A Man Called Ahok</td>\n",
       "      <td>tt9231140</td>\n",
       "    </tr>\n",
       "    <tr>\n",
       "      <th>2455</th>\n",
       "      <td>9.1</td>\n",
       "      <td>Putrama Tuta</td>\n",
       "      <td>Drama</td>\n",
       "      <td>A Man Called Ahok</td>\n",
       "      <td>tt9231140</td>\n",
       "    </tr>\n",
       "    <tr>\n",
       "      <th>2457</th>\n",
       "      <td>9.1</td>\n",
       "      <td>Danny Jaka Sembada</td>\n",
       "      <td>Drama</td>\n",
       "      <td>A Man Called Ahok</td>\n",
       "      <td>tt9231140</td>\n",
       "    </tr>\n",
       "    <tr>\n",
       "      <th>2456</th>\n",
       "      <td>9.1</td>\n",
       "      <td>Ilya Sigma</td>\n",
       "      <td>Drama</td>\n",
       "      <td>A Man Called Ahok</td>\n",
       "      <td>tt9231140</td>\n",
       "    </tr>\n",
       "    <tr>\n",
       "      <th>892</th>\n",
       "      <td>9.0</td>\n",
       "      <td>Mari Selvaraj</td>\n",
       "      <td>Drama</td>\n",
       "      <td>Pariyerum Perumal</td>\n",
       "      <td>tt8176054</td>\n",
       "    </tr>\n",
       "    <tr>\n",
       "      <th>5965</th>\n",
       "      <td>8.8</td>\n",
       "      <td>Richard Stilgoe</td>\n",
       "      <td>Drama,Music,Musical</td>\n",
       "      <td>The Phantom of the Opera at the Royal Albert Hall</td>\n",
       "      <td>tt2077886</td>\n",
       "    </tr>\n",
       "    <tr>\n",
       "      <th>8855</th>\n",
       "      <td>8.8</td>\n",
       "      <td>Christopher Nolan</td>\n",
       "      <td>Action,Adventure,Sci-Fi</td>\n",
       "      <td>Inception</td>\n",
       "      <td>tt1375666</td>\n",
       "    </tr>\n",
       "    <tr>\n",
       "      <th>8394</th>\n",
       "      <td>8.8</td>\n",
       "      <td>Stephen McFeely</td>\n",
       "      <td>Action,Adventure,Sci-Fi</td>\n",
       "      <td>Avengers: Endgame</td>\n",
       "      <td>tt4154796</td>\n",
       "    </tr>\n",
       "    <tr>\n",
       "      <th>2613</th>\n",
       "      <td>8.8</td>\n",
       "      <td>Arun Prabhu Purushothaman</td>\n",
       "      <td>Drama</td>\n",
       "      <td>Aruvi</td>\n",
       "      <td>tt5867800</td>\n",
       "    </tr>\n",
       "    <tr>\n",
       "      <th>2210</th>\n",
       "      <td>8.8</td>\n",
       "      <td>Jeethu Joseph</td>\n",
       "      <td>Crime,Drama,Thriller</td>\n",
       "      <td>Drishyam</td>\n",
       "      <td>tt3417422</td>\n",
       "    </tr>\n",
       "    <tr>\n",
       "      <th>1103</th>\n",
       "      <td>8.8</td>\n",
       "      <td>James Fenton</td>\n",
       "      <td>Drama,Music,Musical</td>\n",
       "      <td>Les Misérables in Concert: The 25th Anniversary</td>\n",
       "      <td>tt1754109</td>\n",
       "    </tr>\n",
       "    <tr>\n",
       "      <th>8237</th>\n",
       "      <td>8.8</td>\n",
       "      <td>C. Prem Kumar</td>\n",
       "      <td>Drama,Romance</td>\n",
       "      <td>96</td>\n",
       "      <td>tt7019842</td>\n",
       "    </tr>\n",
       "    <tr>\n",
       "      <th>2439</th>\n",
       "      <td>8.8</td>\n",
       "      <td>Ram Kumar</td>\n",
       "      <td>Action,Crime,Thriller</td>\n",
       "      <td>Ratsasan</td>\n",
       "      <td>tt7060344</td>\n",
       "    </tr>\n",
       "    <tr>\n",
       "      <th>8395</th>\n",
       "      <td>8.8</td>\n",
       "      <td>Jim Starlin</td>\n",
       "      <td>Action,Adventure,Sci-Fi</td>\n",
       "      <td>Avengers: Endgame</td>\n",
       "      <td>tt4154796</td>\n",
       "    </tr>\n",
       "    <tr>\n",
       "      <th>8393</th>\n",
       "      <td>8.8</td>\n",
       "      <td>Christopher Markus</td>\n",
       "      <td>Action,Adventure,Sci-Fi</td>\n",
       "      <td>Avengers: Endgame</td>\n",
       "      <td>tt4154796</td>\n",
       "    </tr>\n",
       "    <tr>\n",
       "      <th>5964</th>\n",
       "      <td>8.8</td>\n",
       "      <td>Andrew Lloyd Webber</td>\n",
       "      <td>Drama,Music,Musical</td>\n",
       "      <td>The Phantom of the Opera at the Royal Albert Hall</td>\n",
       "      <td>tt2077886</td>\n",
       "    </tr>\n",
       "    <tr>\n",
       "      <th>1100</th>\n",
       "      <td>8.8</td>\n",
       "      <td>Alain Boublil</td>\n",
       "      <td>Drama,Music,Musical</td>\n",
       "      <td>Les Misérables in Concert: The 25th Anniversary</td>\n",
       "      <td>tt1754109</td>\n",
       "    </tr>\n",
       "    <tr>\n",
       "      <th>1101</th>\n",
       "      <td>8.8</td>\n",
       "      <td>Jean-Marc Natel</td>\n",
       "      <td>Drama,Music,Musical</td>\n",
       "      <td>Les Misérables in Concert: The 25th Anniversary</td>\n",
       "      <td>tt1754109</td>\n",
       "    </tr>\n",
       "    <tr>\n",
       "      <th>1102</th>\n",
       "      <td>8.8</td>\n",
       "      <td>Claude-Michel Schönberg</td>\n",
       "      <td>Drama,Music,Musical</td>\n",
       "      <td>Les Misérables in Concert: The 25th Anniversary</td>\n",
       "      <td>tt1754109</td>\n",
       "    </tr>\n",
       "    <tr>\n",
       "      <th>6674</th>\n",
       "      <td>8.7</td>\n",
       "      <td>Yigit Güralp</td>\n",
       "      <td>Drama,History,War</td>\n",
       "      <td>Ayla: The Daughter of War</td>\n",
       "      <td>tt6316138</td>\n",
       "    </tr>\n",
       "    <tr>\n",
       "      <th>9025</th>\n",
       "      <td>8.7</td>\n",
       "      <td>Pushkar</td>\n",
       "      <td>Action,Crime,Thriller</td>\n",
       "      <td>Vikram Vedha</td>\n",
       "      <td>tt6148156</td>\n",
       "    </tr>\n",
       "    <tr>\n",
       "      <th>3437</th>\n",
       "      <td>8.7</td>\n",
       "      <td>Ajit Bhure</td>\n",
       "      <td>Biography,Documentary,Drama</td>\n",
       "      <td>Sachin</td>\n",
       "      <td>tt4640206</td>\n",
       "    </tr>\n",
       "    <tr>\n",
       "      <th>3436</th>\n",
       "      <td>8.7</td>\n",
       "      <td>Sandeep Srivastava</td>\n",
       "      <td>Biography,Documentary,Drama</td>\n",
       "      <td>Sachin</td>\n",
       "      <td>tt4640206</td>\n",
       "    </tr>\n",
       "    <tr>\n",
       "      <th>9026</th>\n",
       "      <td>8.7</td>\n",
       "      <td>Manikandan</td>\n",
       "      <td>Action,Crime,Thriller</td>\n",
       "      <td>Vikram Vedha</td>\n",
       "      <td>tt6148156</td>\n",
       "    </tr>\n",
       "    <tr>\n",
       "      <th>2614</th>\n",
       "      <td>8.7</td>\n",
       "      <td>Vetrimaaran</td>\n",
       "      <td>Action,Crime</td>\n",
       "      <td>Vada Chennai</td>\n",
       "      <td>tt5959980</td>\n",
       "    </tr>\n",
       "    <tr>\n",
       "      <th>3434</th>\n",
       "      <td>8.7</td>\n",
       "      <td>James Erskine</td>\n",
       "      <td>Biography,Documentary,Drama</td>\n",
       "      <td>Sachin</td>\n",
       "      <td>tt4640206</td>\n",
       "    </tr>\n",
       "    <tr>\n",
       "      <th>9024</th>\n",
       "      <td>8.7</td>\n",
       "      <td>Gayatri</td>\n",
       "      <td>Action,Crime,Thriller</td>\n",
       "      <td>Vikram Vedha</td>\n",
       "      <td>tt6148156</td>\n",
       "    </tr>\n",
       "    <tr>\n",
       "      <th>3435</th>\n",
       "      <td>8.7</td>\n",
       "      <td>Siva Ananth</td>\n",
       "      <td>Biography,Documentary,Drama</td>\n",
       "      <td>Sachin</td>\n",
       "      <td>tt4640206</td>\n",
       "    </tr>\n",
       "    <tr>\n",
       "      <th>5423</th>\n",
       "      <td>8.7</td>\n",
       "      <td>Nag Ashwin</td>\n",
       "      <td>Biography,Drama</td>\n",
       "      <td>Mahanati</td>\n",
       "      <td>tt7465992</td>\n",
       "    </tr>\n",
       "    <tr>\n",
       "      <th>5424</th>\n",
       "      <td>8.7</td>\n",
       "      <td>Sai Madhav Burra</td>\n",
       "      <td>Biography,Drama</td>\n",
       "      <td>Mahanati</td>\n",
       "      <td>tt7465992</td>\n",
       "    </tr>\n",
       "    <tr>\n",
       "      <th>6039</th>\n",
       "      <td>8.6</td>\n",
       "      <td>Thota Srinivas</td>\n",
       "      <td>Action,Drama</td>\n",
       "      <td>Rangasthalam</td>\n",
       "      <td>tt7392212</td>\n",
       "    </tr>\n",
       "    <tr>\n",
       "      <th>8411</th>\n",
       "      <td>8.6</td>\n",
       "      <td>Bienvenido Santiago</td>\n",
       "      <td>Biography</td>\n",
       "      <td>Felix Manalo</td>\n",
       "      <td>tt5046534</td>\n",
       "    </tr>\n",
       "    <tr>\n",
       "      <th>1885</th>\n",
       "      <td>8.6</td>\n",
       "      <td>Sean Evans</td>\n",
       "      <td>Documentary,Music</td>\n",
       "      <td>Roger Waters: The Wall</td>\n",
       "      <td>tt3970482</td>\n",
       "    </tr>\n",
       "    <tr>\n",
       "      <th>6038</th>\n",
       "      <td>8.6</td>\n",
       "      <td>Kasi Vishal</td>\n",
       "      <td>Action,Drama</td>\n",
       "      <td>Rangasthalam</td>\n",
       "      <td>tt7392212</td>\n",
       "    </tr>\n",
       "    <tr>\n",
       "      <th>3613</th>\n",
       "      <td>8.6</td>\n",
       "      <td>Christopher Nolan</td>\n",
       "      <td>Adventure,Drama,Sci-Fi</td>\n",
       "      <td>Interstellar</td>\n",
       "      <td>tt0816692</td>\n",
       "    </tr>\n",
       "    <tr>\n",
       "      <th>3614</th>\n",
       "      <td>8.6</td>\n",
       "      <td>Jonathan Nolan</td>\n",
       "      <td>Adventure,Drama,Sci-Fi</td>\n",
       "      <td>Interstellar</td>\n",
       "      <td>tt0816692</td>\n",
       "    </tr>\n",
       "    <tr>\n",
       "      <th>1884</th>\n",
       "      <td>8.6</td>\n",
       "      <td>Roger Waters</td>\n",
       "      <td>Documentary,Music</td>\n",
       "      <td>Roger Waters: The Wall</td>\n",
       "      <td>tt3970482</td>\n",
       "    </tr>\n",
       "  </tbody>\n",
       "</table>\n",
       "</div>"
      ],
      "text/plain": [
       "      averagerating                primary_name                       genres  \\\n",
       "8810            9.7           Quentin Tarantino                 Comedy,Drama   \n",
       "1935            9.5              Saman Weeraman                Drama,History   \n",
       "888             9.4         Anjana Krishnakumar                        Drama   \n",
       "887             9.4                         Ram                        Drama   \n",
       "1678            9.3      Syed Gaosul Alam Shaon       Crime,Mystery,Thriller   \n",
       "6934            9.3              Donavon Warren                        Drama   \n",
       "1616            9.3                Alper Caglar             Action,Drama,War   \n",
       "1679            9.3                 Anam Biswas       Crime,Mystery,Thriller   \n",
       "1680            9.3             Adnan Adib Khan       Crime,Mystery,Thriller   \n",
       "5336            9.2                  Cem Yilmaz           Comedy,Documentary   \n",
       "1927            9.2  Abhijeet Shirish Deshpande                 Drama,Family   \n",
       "1926            9.2            Mahesh Manjrekar                 Drama,Family   \n",
       "1928            9.2           Kiran Yadnyopavit                 Drama,Family   \n",
       "2454            9.1                Rudi Valinka                        Drama   \n",
       "2455            9.1                Putrama Tuta                        Drama   \n",
       "2457            9.1          Danny Jaka Sembada                        Drama   \n",
       "2456            9.1                  Ilya Sigma                        Drama   \n",
       "892             9.0               Mari Selvaraj                        Drama   \n",
       "5965            8.8             Richard Stilgoe          Drama,Music,Musical   \n",
       "8855            8.8           Christopher Nolan      Action,Adventure,Sci-Fi   \n",
       "8394            8.8             Stephen McFeely      Action,Adventure,Sci-Fi   \n",
       "2613            8.8   Arun Prabhu Purushothaman                        Drama   \n",
       "2210            8.8               Jeethu Joseph         Crime,Drama,Thriller   \n",
       "1103            8.8                James Fenton          Drama,Music,Musical   \n",
       "8237            8.8               C. Prem Kumar                Drama,Romance   \n",
       "2439            8.8                   Ram Kumar        Action,Crime,Thriller   \n",
       "8395            8.8                 Jim Starlin      Action,Adventure,Sci-Fi   \n",
       "8393            8.8          Christopher Markus      Action,Adventure,Sci-Fi   \n",
       "5964            8.8         Andrew Lloyd Webber          Drama,Music,Musical   \n",
       "1100            8.8               Alain Boublil          Drama,Music,Musical   \n",
       "1101            8.8             Jean-Marc Natel          Drama,Music,Musical   \n",
       "1102            8.8     Claude-Michel Schönberg          Drama,Music,Musical   \n",
       "6674            8.7                Yigit Güralp            Drama,History,War   \n",
       "9025            8.7                     Pushkar        Action,Crime,Thriller   \n",
       "3437            8.7                  Ajit Bhure  Biography,Documentary,Drama   \n",
       "3436            8.7          Sandeep Srivastava  Biography,Documentary,Drama   \n",
       "9026            8.7                  Manikandan        Action,Crime,Thriller   \n",
       "2614            8.7                 Vetrimaaran                 Action,Crime   \n",
       "3434            8.7               James Erskine  Biography,Documentary,Drama   \n",
       "9024            8.7                     Gayatri        Action,Crime,Thriller   \n",
       "3435            8.7                 Siva Ananth  Biography,Documentary,Drama   \n",
       "5423            8.7                  Nag Ashwin              Biography,Drama   \n",
       "5424            8.7            Sai Madhav Burra              Biography,Drama   \n",
       "6039            8.6              Thota Srinivas                 Action,Drama   \n",
       "8411            8.6         Bienvenido Santiago                    Biography   \n",
       "1885            8.6                  Sean Evans            Documentary,Music   \n",
       "6038            8.6                 Kasi Vishal                 Action,Drama   \n",
       "3613            8.6           Christopher Nolan       Adventure,Drama,Sci-Fi   \n",
       "3614            8.6              Jonathan Nolan       Adventure,Drama,Sci-Fi   \n",
       "1884            8.6                Roger Waters            Documentary,Music   \n",
       "\n",
       "                                         original_title   movie_id  \n",
       "8810                  Once Upon a Time ... in Hollywood  tt7131622  \n",
       "1935                                      Aloko Udapadi  tt5963218  \n",
       "888                                             Peranbu  tt7738784  \n",
       "887                                             Peranbu  tt7738784  \n",
       "1678                                           Aynabaji  tt5354160  \n",
       "6934                                             Wheels  tt2170667  \n",
       "1616                                             Dag II  tt5813916  \n",
       "1679                                           Aynabaji  tt5354160  \n",
       "1680                                           Aynabaji  tt5354160  \n",
       "5336                             CM101MMXI Fundamentals  tt2592910  \n",
       "1927                                          Natsamrat  tt5311546  \n",
       "1926                                          Natsamrat  tt5311546  \n",
       "1928                                          Natsamrat  tt5311546  \n",
       "2454                                  A Man Called Ahok  tt9231140  \n",
       "2455                                  A Man Called Ahok  tt9231140  \n",
       "2457                                  A Man Called Ahok  tt9231140  \n",
       "2456                                  A Man Called Ahok  tt9231140  \n",
       "892                                   Pariyerum Perumal  tt8176054  \n",
       "5965  The Phantom of the Opera at the Royal Albert Hall  tt2077886  \n",
       "8855                                          Inception  tt1375666  \n",
       "8394                                  Avengers: Endgame  tt4154796  \n",
       "2613                                              Aruvi  tt5867800  \n",
       "2210                                           Drishyam  tt3417422  \n",
       "1103    Les Misérables in Concert: The 25th Anniversary  tt1754109  \n",
       "8237                                                 96  tt7019842  \n",
       "2439                                           Ratsasan  tt7060344  \n",
       "8395                                  Avengers: Endgame  tt4154796  \n",
       "8393                                  Avengers: Endgame  tt4154796  \n",
       "5964  The Phantom of the Opera at the Royal Albert Hall  tt2077886  \n",
       "1100    Les Misérables in Concert: The 25th Anniversary  tt1754109  \n",
       "1101    Les Misérables in Concert: The 25th Anniversary  tt1754109  \n",
       "1102    Les Misérables in Concert: The 25th Anniversary  tt1754109  \n",
       "6674                          Ayla: The Daughter of War  tt6316138  \n",
       "9025                                       Vikram Vedha  tt6148156  \n",
       "3437                                             Sachin  tt4640206  \n",
       "3436                                             Sachin  tt4640206  \n",
       "9026                                       Vikram Vedha  tt6148156  \n",
       "2614                                       Vada Chennai  tt5959980  \n",
       "3434                                             Sachin  tt4640206  \n",
       "9024                                       Vikram Vedha  tt6148156  \n",
       "3435                                             Sachin  tt4640206  \n",
       "5423                                           Mahanati  tt7465992  \n",
       "5424                                           Mahanati  tt7465992  \n",
       "6039                                       Rangasthalam  tt7392212  \n",
       "8411                                       Felix Manalo  tt5046534  \n",
       "1885                             Roger Waters: The Wall  tt3970482  \n",
       "6038                                       Rangasthalam  tt7392212  \n",
       "3613                                       Interstellar  tt0816692  \n",
       "3614                                       Interstellar  tt0816692  \n",
       "1884                             Roger Waters: The Wall  tt3970482  "
      ]
     },
     "execution_count": 83,
     "metadata": {},
     "output_type": "execute_result"
    }
   ],
   "source": [
    "genre_query.sort_values('averagerating', ascending=False).head(50)#sorting genre query by average rating descending"
   ]
  },
  {
   "cell_type": "code",
   "execution_count": 84,
   "metadata": {},
   "outputs": [],
   "source": [
    "genre_query['genres'] = genre_query['genres'].str.replace('Sci-Fi', 'Sci_Fi')#changing sci-fi to sci_fi"
   ]
  },
  {
   "cell_type": "code",
   "execution_count": 85,
   "metadata": {},
   "outputs": [],
   "source": [
    "grouped_genre = genre_query.groupby('genres')#grouping genres\n",
    "genre_avg_rating = grouped_genre.mean('averagerating')#getting mean of average rating\n",
    "genre_avg_rating = genre_avg_rating.reset_index()#resetting index of groouped genre"
   ]
  },
  {
   "cell_type": "code",
   "execution_count": 86,
   "metadata": {},
   "outputs": [
    {
     "data": {
      "text/html": [
       "<div>\n",
       "<style scoped>\n",
       "    .dataframe tbody tr th:only-of-type {\n",
       "        vertical-align: middle;\n",
       "    }\n",
       "\n",
       "    .dataframe tbody tr th {\n",
       "        vertical-align: top;\n",
       "    }\n",
       "\n",
       "    .dataframe thead th {\n",
       "        text-align: right;\n",
       "    }\n",
       "</style>\n",
       "<table border=\"1\" class=\"dataframe\">\n",
       "  <thead>\n",
       "    <tr style=\"text-align: right;\">\n",
       "      <th></th>\n",
       "      <th>genres</th>\n",
       "      <th>averagerating</th>\n",
       "    </tr>\n",
       "  </thead>\n",
       "  <tbody>\n",
       "    <tr>\n",
       "      <th>157</th>\n",
       "      <td>Biography,Documentary,Drama</td>\n",
       "      <td>8.700000</td>\n",
       "    </tr>\n",
       "    <tr>\n",
       "      <th>149</th>\n",
       "      <td>Biography</td>\n",
       "      <td>8.600000</td>\n",
       "    </tr>\n",
       "    <tr>\n",
       "      <th>314</th>\n",
       "      <td>Drama,Romance,Sport</td>\n",
       "      <td>8.500000</td>\n",
       "    </tr>\n",
       "    <tr>\n",
       "      <th>148</th>\n",
       "      <td>Animation,History</td>\n",
       "      <td>8.300000</td>\n",
       "    </tr>\n",
       "    <tr>\n",
       "      <th>261</th>\n",
       "      <td>Documentary,Family</td>\n",
       "      <td>8.300000</td>\n",
       "    </tr>\n",
       "    <tr>\n",
       "      <th>263</th>\n",
       "      <td>Documentary,History,Music</td>\n",
       "      <td>8.300000</td>\n",
       "    </tr>\n",
       "    <tr>\n",
       "      <th>266</th>\n",
       "      <td>Documentary,News</td>\n",
       "      <td>8.300000</td>\n",
       "    </tr>\n",
       "    <tr>\n",
       "      <th>103</th>\n",
       "      <td>Adventure,Documentary,Drama</td>\n",
       "      <td>8.200000</td>\n",
       "    </tr>\n",
       "    <tr>\n",
       "      <th>272</th>\n",
       "      <td>Drama,Family,Musical</td>\n",
       "      <td>8.200000</td>\n",
       "    </tr>\n",
       "    <tr>\n",
       "      <th>201</th>\n",
       "      <td>Comedy,Drama,Thriller</td>\n",
       "      <td>8.166667</td>\n",
       "    </tr>\n",
       "  </tbody>\n",
       "</table>\n",
       "</div>"
      ],
      "text/plain": [
       "                          genres  averagerating\n",
       "157  Biography,Documentary,Drama       8.700000\n",
       "149                    Biography       8.600000\n",
       "314          Drama,Romance,Sport       8.500000\n",
       "148            Animation,History       8.300000\n",
       "261           Documentary,Family       8.300000\n",
       "263    Documentary,History,Music       8.300000\n",
       "266             Documentary,News       8.300000\n",
       "103  Adventure,Documentary,Drama       8.200000\n",
       "272         Drama,Family,Musical       8.200000\n",
       "201        Comedy,Drama,Thriller       8.166667"
      ]
     },
     "execution_count": 86,
     "metadata": {},
     "output_type": "execute_result"
    }
   ],
   "source": [
    "genre_avg_rating.sort_values(by = 'averagerating', ascending = False).head(10)#top ten average ratings by genre"
   ]
  },
  {
   "cell_type": "code",
   "execution_count": 87,
   "metadata": {},
   "outputs": [],
   "source": [
    "# seperating genres comma list "
   ]
  },
  {
   "cell_type": "code",
   "execution_count": 88,
   "metadata": {},
   "outputs": [],
   "source": [
    "genres_expanded = genre_query['genres'].str.split(',', expand=True)\n",
    "genres_expanded.columns = ['Genres'+str(i) for i in genres_expanded.columns]"
   ]
  },
  {
   "cell_type": "code",
   "execution_count": 89,
   "metadata": {},
   "outputs": [],
   "source": [
    "# concat back to dataframe"
   ]
  },
  {
   "cell_type": "code",
   "execution_count": 90,
   "metadata": {},
   "outputs": [],
   "source": [
    "genres_expanded_concat = pd.concat([genre_query, genres_expanded], axis=1)"
   ]
  },
  {
   "cell_type": "code",
   "execution_count": 91,
   "metadata": {},
   "outputs": [],
   "source": [
    "#creating new df with comma seperated genres as their own columns\n",
    "genres_expanded_group = genres_expanded_concat.groupby(['Genres0', 'Genres1', 'Genres2'])\n",
    "genre_avg_rating = genres_expanded_group.mean('averagerating')\n",
    "genre_avg_rating = genre_avg_rating.reset_index()"
   ]
  },
  {
   "cell_type": "code",
   "execution_count": 92,
   "metadata": {},
   "outputs": [
    {
     "data": {
      "text/html": [
       "<div>\n",
       "<style scoped>\n",
       "    .dataframe tbody tr th:only-of-type {\n",
       "        vertical-align: middle;\n",
       "    }\n",
       "\n",
       "    .dataframe tbody tr th {\n",
       "        vertical-align: top;\n",
       "    }\n",
       "\n",
       "    .dataframe thead th {\n",
       "        text-align: right;\n",
       "    }\n",
       "</style>\n",
       "<table border=\"1\" class=\"dataframe\">\n",
       "  <thead>\n",
       "    <tr style=\"text-align: right;\">\n",
       "      <th></th>\n",
       "      <th>Genres0</th>\n",
       "      <th>Genres1</th>\n",
       "      <th>Genres2</th>\n",
       "      <th>averagerating</th>\n",
       "    </tr>\n",
       "  </thead>\n",
       "  <tbody>\n",
       "    <tr>\n",
       "      <th>131</th>\n",
       "      <td>Biography</td>\n",
       "      <td>Documentary</td>\n",
       "      <td>Drama</td>\n",
       "      <td>8.700000</td>\n",
       "    </tr>\n",
       "    <tr>\n",
       "      <th>252</th>\n",
       "      <td>Drama</td>\n",
       "      <td>Romance</td>\n",
       "      <td>Sport</td>\n",
       "      <td>8.500000</td>\n",
       "    </tr>\n",
       "    <tr>\n",
       "      <th>212</th>\n",
       "      <td>Documentary</td>\n",
       "      <td>History</td>\n",
       "      <td>Music</td>\n",
       "      <td>8.300000</td>\n",
       "    </tr>\n",
       "    <tr>\n",
       "      <th>89</th>\n",
       "      <td>Adventure</td>\n",
       "      <td>Documentary</td>\n",
       "      <td>Drama</td>\n",
       "      <td>8.200000</td>\n",
       "    </tr>\n",
       "    <tr>\n",
       "      <th>216</th>\n",
       "      <td>Drama</td>\n",
       "      <td>Family</td>\n",
       "      <td>Musical</td>\n",
       "      <td>8.200000</td>\n",
       "    </tr>\n",
       "    <tr>\n",
       "      <th>169</th>\n",
       "      <td>Comedy</td>\n",
       "      <td>Drama</td>\n",
       "      <td>Thriller</td>\n",
       "      <td>8.166667</td>\n",
       "    </tr>\n",
       "    <tr>\n",
       "      <th>122</th>\n",
       "      <td>Animation</td>\n",
       "      <td>Drama</td>\n",
       "      <td>Romance</td>\n",
       "      <td>8.114286</td>\n",
       "    </tr>\n",
       "    <tr>\n",
       "      <th>136</th>\n",
       "      <td>Biography</td>\n",
       "      <td>Documentary</td>\n",
       "      <td>News</td>\n",
       "      <td>8.100000</td>\n",
       "    </tr>\n",
       "    <tr>\n",
       "      <th>134</th>\n",
       "      <td>Biography</td>\n",
       "      <td>Documentary</td>\n",
       "      <td>Music</td>\n",
       "      <td>8.087500</td>\n",
       "    </tr>\n",
       "    <tr>\n",
       "      <th>137</th>\n",
       "      <td>Biography</td>\n",
       "      <td>Documentary</td>\n",
       "      <td>Sport</td>\n",
       "      <td>8.075000</td>\n",
       "    </tr>\n",
       "  </tbody>\n",
       "</table>\n",
       "</div>"
      ],
      "text/plain": [
       "         Genres0      Genres1   Genres2  averagerating\n",
       "131    Biography  Documentary     Drama       8.700000\n",
       "252        Drama      Romance     Sport       8.500000\n",
       "212  Documentary      History     Music       8.300000\n",
       "89     Adventure  Documentary     Drama       8.200000\n",
       "216        Drama       Family   Musical       8.200000\n",
       "169       Comedy        Drama  Thriller       8.166667\n",
       "122    Animation        Drama   Romance       8.114286\n",
       "136    Biography  Documentary      News       8.100000\n",
       "134    Biography  Documentary     Music       8.087500\n",
       "137    Biography  Documentary     Sport       8.075000"
      ]
     },
     "execution_count": 92,
     "metadata": {},
     "output_type": "execute_result"
    }
   ],
   "source": [
    "genre_avg_rating.sort_values(by = 'averagerating', ascending = False).head(10)#sorting top ten averageratings by descending"
   ]
  },
  {
   "cell_type": "code",
   "execution_count": 93,
   "metadata": {},
   "outputs": [],
   "source": [
    "melted_genre = genre_avg_rating.melt(var_name='index', value_name='')# changing df to long"
   ]
  },
  {
   "cell_type": "markdown",
   "metadata": {},
   "source": [
    "### Creating DF of genre totals with 3 different columns from the comma seperated values"
   ]
  },
  {
   "cell_type": "code",
   "execution_count": 94,
   "metadata": {},
   "outputs": [],
   "source": [
    "crosstab_genres = pd.crosstab(index=melted_genre[''], columns=melted_genre['index'])"
   ]
  },
  {
   "cell_type": "code",
   "execution_count": 95,
   "metadata": {},
   "outputs": [],
   "source": [
    "crosstab_genres['total_count'] = crosstab_genres['Genres0'] + crosstab_genres['Genres1'] + crosstab_genres['Genres2']\n",
    "#creating new column with total amounts of movies per genre"
   ]
  },
  {
   "cell_type": "code",
   "execution_count": 96,
   "metadata": {},
   "outputs": [
    {
     "data": {
      "text/html": [
       "<div>\n",
       "<style scoped>\n",
       "    .dataframe tbody tr th:only-of-type {\n",
       "        vertical-align: middle;\n",
       "    }\n",
       "\n",
       "    .dataframe tbody tr th {\n",
       "        vertical-align: top;\n",
       "    }\n",
       "\n",
       "    .dataframe thead th {\n",
       "        text-align: right;\n",
       "    }\n",
       "</style>\n",
       "<table border=\"1\" class=\"dataframe\">\n",
       "  <thead>\n",
       "    <tr style=\"text-align: right;\">\n",
       "      <th>index</th>\n",
       "      <th>Genres0</th>\n",
       "      <th>Genres1</th>\n",
       "      <th>Genres2</th>\n",
       "      <th>averagerating</th>\n",
       "      <th>total_count</th>\n",
       "    </tr>\n",
       "    <tr>\n",
       "      <th></th>\n",
       "      <th></th>\n",
       "      <th></th>\n",
       "      <th></th>\n",
       "      <th></th>\n",
       "      <th></th>\n",
       "    </tr>\n",
       "  </thead>\n",
       "  <tbody>\n",
       "    <tr>\n",
       "      <th>Action</th>\n",
       "      <td>72</td>\n",
       "      <td>0</td>\n",
       "      <td>0</td>\n",
       "      <td>0</td>\n",
       "      <td>72</td>\n",
       "    </tr>\n",
       "    <tr>\n",
       "      <th>Adventure</th>\n",
       "      <td>36</td>\n",
       "      <td>14</td>\n",
       "      <td>0</td>\n",
       "      <td>0</td>\n",
       "      <td>50</td>\n",
       "    </tr>\n",
       "    <tr>\n",
       "      <th>Animation</th>\n",
       "      <td>18</td>\n",
       "      <td>10</td>\n",
       "      <td>1</td>\n",
       "      <td>0</td>\n",
       "      <td>29</td>\n",
       "    </tr>\n",
       "    <tr>\n",
       "      <th>Biography</th>\n",
       "      <td>25</td>\n",
       "      <td>10</td>\n",
       "      <td>1</td>\n",
       "      <td>0</td>\n",
       "      <td>36</td>\n",
       "    </tr>\n",
       "    <tr>\n",
       "      <th>Comedy</th>\n",
       "      <td>41</td>\n",
       "      <td>29</td>\n",
       "      <td>5</td>\n",
       "      <td>0</td>\n",
       "      <td>75</td>\n",
       "    </tr>\n",
       "    <tr>\n",
       "      <th>Crime</th>\n",
       "      <td>17</td>\n",
       "      <td>20</td>\n",
       "      <td>9</td>\n",
       "      <td>0</td>\n",
       "      <td>46</td>\n",
       "    </tr>\n",
       "    <tr>\n",
       "      <th>Documentary</th>\n",
       "      <td>6</td>\n",
       "      <td>12</td>\n",
       "      <td>4</td>\n",
       "      <td>0</td>\n",
       "      <td>22</td>\n",
       "    </tr>\n",
       "    <tr>\n",
       "      <th>Drama</th>\n",
       "      <td>45</td>\n",
       "      <td>62</td>\n",
       "      <td>19</td>\n",
       "      <td>0</td>\n",
       "      <td>126</td>\n",
       "    </tr>\n",
       "    <tr>\n",
       "      <th>Family</th>\n",
       "      <td>1</td>\n",
       "      <td>13</td>\n",
       "      <td>11</td>\n",
       "      <td>0</td>\n",
       "      <td>25</td>\n",
       "    </tr>\n",
       "    <tr>\n",
       "      <th>Fantasy</th>\n",
       "      <td>4</td>\n",
       "      <td>20</td>\n",
       "      <td>15</td>\n",
       "      <td>0</td>\n",
       "      <td>39</td>\n",
       "    </tr>\n",
       "    <tr>\n",
       "      <th>History</th>\n",
       "      <td>0</td>\n",
       "      <td>14</td>\n",
       "      <td>12</td>\n",
       "      <td>0</td>\n",
       "      <td>26</td>\n",
       "    </tr>\n",
       "    <tr>\n",
       "      <th>Horror</th>\n",
       "      <td>7</td>\n",
       "      <td>20</td>\n",
       "      <td>17</td>\n",
       "      <td>0</td>\n",
       "      <td>44</td>\n",
       "    </tr>\n",
       "    <tr>\n",
       "      <th>Music</th>\n",
       "      <td>1</td>\n",
       "      <td>8</td>\n",
       "      <td>11</td>\n",
       "      <td>0</td>\n",
       "      <td>20</td>\n",
       "    </tr>\n",
       "    <tr>\n",
       "      <th>Musical</th>\n",
       "      <td>0</td>\n",
       "      <td>3</td>\n",
       "      <td>10</td>\n",
       "      <td>0</td>\n",
       "      <td>13</td>\n",
       "    </tr>\n",
       "    <tr>\n",
       "      <th>Mystery</th>\n",
       "      <td>3</td>\n",
       "      <td>17</td>\n",
       "      <td>20</td>\n",
       "      <td>0</td>\n",
       "      <td>40</td>\n",
       "    </tr>\n",
       "    <tr>\n",
       "      <th>News</th>\n",
       "      <td>0</td>\n",
       "      <td>0</td>\n",
       "      <td>3</td>\n",
       "      <td>0</td>\n",
       "      <td>3</td>\n",
       "    </tr>\n",
       "    <tr>\n",
       "      <th>Romance</th>\n",
       "      <td>1</td>\n",
       "      <td>13</td>\n",
       "      <td>26</td>\n",
       "      <td>0</td>\n",
       "      <td>40</td>\n",
       "    </tr>\n",
       "    <tr>\n",
       "      <th>Sci_Fi</th>\n",
       "      <td>0</td>\n",
       "      <td>6</td>\n",
       "      <td>35</td>\n",
       "      <td>0</td>\n",
       "      <td>41</td>\n",
       "    </tr>\n",
       "    <tr>\n",
       "      <th>Sport</th>\n",
       "      <td>0</td>\n",
       "      <td>2</td>\n",
       "      <td>13</td>\n",
       "      <td>0</td>\n",
       "      <td>15</td>\n",
       "    </tr>\n",
       "    <tr>\n",
       "      <th>Thriller</th>\n",
       "      <td>0</td>\n",
       "      <td>3</td>\n",
       "      <td>45</td>\n",
       "      <td>0</td>\n",
       "      <td>48</td>\n",
       "    </tr>\n",
       "    <tr>\n",
       "      <th>War</th>\n",
       "      <td>0</td>\n",
       "      <td>1</td>\n",
       "      <td>12</td>\n",
       "      <td>0</td>\n",
       "      <td>13</td>\n",
       "    </tr>\n",
       "    <tr>\n",
       "      <th>Western</th>\n",
       "      <td>0</td>\n",
       "      <td>0</td>\n",
       "      <td>8</td>\n",
       "      <td>0</td>\n",
       "      <td>8</td>\n",
       "    </tr>\n",
       "  </tbody>\n",
       "</table>\n",
       "</div>"
      ],
      "text/plain": [
       "index        Genres0  Genres1  Genres2  averagerating  total_count\n",
       "                                                                  \n",
       "Action            72        0        0              0           72\n",
       "Adventure         36       14        0              0           50\n",
       "Animation         18       10        1              0           29\n",
       "Biography         25       10        1              0           36\n",
       "Comedy            41       29        5              0           75\n",
       "Crime             17       20        9              0           46\n",
       "Documentary        6       12        4              0           22\n",
       "Drama             45       62       19              0          126\n",
       "Family             1       13       11              0           25\n",
       "Fantasy            4       20       15              0           39\n",
       "History            0       14       12              0           26\n",
       "Horror             7       20       17              0           44\n",
       "Music              1        8       11              0           20\n",
       "Musical            0        3       10              0           13\n",
       "Mystery            3       17       20              0           40\n",
       "News               0        0        3              0            3\n",
       "Romance            1       13       26              0           40\n",
       "Sci_Fi             0        6       35              0           41\n",
       "Sport              0        2       13              0           15\n",
       "Thriller           0        3       45              0           48\n",
       "War                0        1       12              0           13\n",
       "Western            0        0        8              0            8"
      ]
     },
     "execution_count": 96,
     "metadata": {},
     "output_type": "execute_result"
    }
   ],
   "source": [
    "crosstab_genres.tail(22)"
   ]
  },
  {
   "cell_type": "code",
   "execution_count": 97,
   "metadata": {},
   "outputs": [],
   "source": [
    "crosstab_genres = crosstab_genres.tail(22)#setting only the genres(last 22 in df) so crosstab_genres\n"
   ]
  },
  {
   "cell_type": "code",
   "execution_count": 98,
   "metadata": {},
   "outputs": [],
   "source": [
    "crosstab_genres.reset_index(inplace=True)#replacing index"
   ]
  },
  {
   "cell_type": "code",
   "execution_count": 99,
   "metadata": {},
   "outputs": [],
   "source": [
    "crosstab_genres = crosstab_genres.rename(columns={crosstab_genres.columns[0]: 'Movie Genre'})#renaming column (was coming up as index not a column)"
   ]
  },
  {
   "cell_type": "code",
   "execution_count": 100,
   "metadata": {},
   "outputs": [],
   "source": [
    "#crosstab_genres.drop(['index'], axis=1, inplace = True)#removing a column named index"
   ]
  },
  {
   "cell_type": "markdown",
   "metadata": {},
   "source": [
    "### getting all the average ratings for different genres"
   ]
  },
  {
   "cell_type": "code",
   "execution_count": 101,
   "metadata": {},
   "outputs": [],
   "source": [
    "average_list = []#creating new averages list"
   ]
  },
  {
   "cell_type": "code",
   "execution_count": 102,
   "metadata": {},
   "outputs": [
    {
     "data": {
      "text/plain": [
       "[]"
      ]
     },
     "execution_count": 102,
     "metadata": {},
     "output_type": "execute_result"
    }
   ],
   "source": [
    "average_list"
   ]
  },
  {
   "cell_type": "code",
   "execution_count": 103,
   "metadata": {},
   "outputs": [],
   "source": [
    "average_list= np.unique(np.array(average_list)).tolist()#no duplicates in this list"
   ]
  },
  {
   "cell_type": "code",
   "execution_count": 104,
   "metadata": {},
   "outputs": [],
   "source": [
    "action_total = genre_avg_rating.loc[genre_avg_rating['Genres0'] == 'Action']\n",
    "rating0 = action_avgrate = action_total['averagerating'].sum() / crosstab_genres['total_count'][0]\n",
    "average_list.append(rating0)\n",
    "#finding average rating of action genre"
   ]
  },
  {
   "cell_type": "code",
   "execution_count": 105,
   "metadata": {},
   "outputs": [
    {
     "data": {
      "text/plain": [
       "6.146159835588468"
      ]
     },
     "execution_count": 105,
     "metadata": {},
     "output_type": "execute_result"
    }
   ],
   "source": [
    "rating0"
   ]
  },
  {
   "cell_type": "code",
   "execution_count": 106,
   "metadata": {},
   "outputs": [],
   "source": [
    "adventure_total0 = genre_avg_rating.loc[genre_avg_rating['Genres0'] == 'Adventure']\n",
    "adventure_total1 = genre_avg_rating.loc[genre_avg_rating['Genres1'] == 'Adventure']\n",
    "adventure_total2 = genre_avg_rating.loc[genre_avg_rating['Genres2'] == 'Adventure']\n",
    "adventure_total = adventure_total0['averagerating'].sum() + adventure_total1['averagerating'].sum() + adventure_total2['averagerating'].sum()\n",
    "rating1 = adventure_total / crosstab_genres['total_count'][1]\n",
    "average_list.append(rating1)\n",
    "#finding average rating of adventure genre"
   ]
  },
  {
   "cell_type": "code",
   "execution_count": 107,
   "metadata": {},
   "outputs": [
    {
     "data": {
      "text/plain": [
       "6.458380232609"
      ]
     },
     "execution_count": 107,
     "metadata": {},
     "output_type": "execute_result"
    }
   ],
   "source": [
    "rating1"
   ]
  },
  {
   "cell_type": "code",
   "execution_count": 108,
   "metadata": {},
   "outputs": [],
   "source": [
    "Animation_total0 = genre_avg_rating.loc[genre_avg_rating['Genres0'] == 'Animation']\n",
    "Animation_total1 = genre_avg_rating.loc[genre_avg_rating['Genres1'] == 'Animation']\n",
    "Animation_total2 = genre_avg_rating.loc[genre_avg_rating['Genres2'] == 'Animation']\n",
    "Animation_total = Animation_total0['averagerating'].sum() + Animation_total1['averagerating'].sum() + Animation_total2['averagerating'].sum()\n",
    "rating2 = Animation_total / crosstab_genres['total_count'][2]\n",
    "average_list.append(rating2)\n",
    "#finding average rating of animation genre"
   ]
  },
  {
   "cell_type": "code",
   "execution_count": 109,
   "metadata": {},
   "outputs": [
    {
     "data": {
      "text/plain": [
       "6.897724589969419"
      ]
     },
     "execution_count": 109,
     "metadata": {},
     "output_type": "execute_result"
    }
   ],
   "source": [
    "rating2"
   ]
  },
  {
   "cell_type": "code",
   "execution_count": 110,
   "metadata": {},
   "outputs": [],
   "source": [
    "Biography_total0 = genre_avg_rating.loc[genre_avg_rating['Genres0'] == 'Biography']\n",
    "Biography_total1 = genre_avg_rating.loc[genre_avg_rating['Genres1'] == 'Biography']\n",
    "Biography_total2 = genre_avg_rating.loc[genre_avg_rating['Genres2'] == 'Biography']\n",
    "Biography_total = Biography_total0['averagerating'].sum() + Biography_total1['averagerating'].sum() + Biography_total2['averagerating'].sum()\n",
    "rating3 = Biography_total / crosstab_genres['total_count'][3]\n",
    "average_list.append(rating3)\n",
    "#finding average rating of Biography genre"
   ]
  },
  {
   "cell_type": "code",
   "execution_count": 111,
   "metadata": {},
   "outputs": [
    {
     "data": {
      "text/plain": [
       "7.191291460512911"
      ]
     },
     "execution_count": 111,
     "metadata": {},
     "output_type": "execute_result"
    }
   ],
   "source": [
    "rating3"
   ]
  },
  {
   "cell_type": "code",
   "execution_count": 112,
   "metadata": {},
   "outputs": [],
   "source": [
    "Comedy_total0 = genre_avg_rating.loc[genre_avg_rating['Genres0'] == 'Comedy']\n",
    "Comedy_total1 = genre_avg_rating.loc[genre_avg_rating['Genres1'] == 'Comedy']\n",
    "Comedy_total2 = genre_avg_rating.loc[genre_avg_rating['Genres2'] == 'Comedy']\n",
    "Comedy_total = Comedy_total0['averagerating'].sum() + Comedy_total1['averagerating'].sum() + Comedy_total2['averagerating'].sum()\n",
    "rating4 = Comedy_total / crosstab_genres['total_count'][4]\n",
    "average_list.append(rating4)\n",
    "#finding average rating of comedy genre"
   ]
  },
  {
   "cell_type": "code",
   "execution_count": 113,
   "metadata": {},
   "outputs": [
    {
     "data": {
      "text/plain": [
       "6.141061919172307"
      ]
     },
     "execution_count": 113,
     "metadata": {},
     "output_type": "execute_result"
    }
   ],
   "source": [
    "rating4"
   ]
  },
  {
   "cell_type": "code",
   "execution_count": 114,
   "metadata": {},
   "outputs": [],
   "source": [
    "Crime_total0 = genre_avg_rating.loc[genre_avg_rating['Genres0'] == 'Crime']\n",
    "Crime_total1 = genre_avg_rating.loc[genre_avg_rating['Genres1'] == 'Crime']\n",
    "Crime_total2 = genre_avg_rating.loc[genre_avg_rating['Genres2'] == 'Crime']\n",
    "Crime_total = Crime_total0['averagerating'].sum() + Crime_total1['averagerating'].sum() + Crime_total2['averagerating'].sum()\n",
    "rating5 = Crime_total / crosstab_genres['total_count'][5]\n",
    "average_list.append(rating5)\n",
    "#finding average rating of crime genre"
   ]
  },
  {
   "cell_type": "code",
   "execution_count": 115,
   "metadata": {},
   "outputs": [],
   "source": [
    "Documentary_total0 = genre_avg_rating.loc[genre_avg_rating['Genres0'] == 'Documentary']\n",
    "Documentary_total1 = genre_avg_rating.loc[genre_avg_rating['Genres1'] == 'Documentary']\n",
    "Documentary_total2 = genre_avg_rating.loc[genre_avg_rating['Genres2'] == 'Documentary']\n",
    "Documentary_total = Documentary_total0['averagerating'].sum() + Documentary_total1['averagerating'].sum() + Documentary_total2['averagerating'].sum()\n",
    "rating6 = Documentary_total / crosstab_genres['total_count'][6]\n",
    "average_list.append(rating6)\n",
    "#finding average rating of Documentary genre"
   ]
  },
  {
   "cell_type": "code",
   "execution_count": 116,
   "metadata": {},
   "outputs": [
    {
     "data": {
      "text/plain": [
       "7.644659090909091"
      ]
     },
     "execution_count": 116,
     "metadata": {},
     "output_type": "execute_result"
    }
   ],
   "source": [
    "rating6"
   ]
  },
  {
   "cell_type": "code",
   "execution_count": 117,
   "metadata": {},
   "outputs": [],
   "source": [
    "Drama_total0 = genre_avg_rating.loc[genre_avg_rating['Genres0'] == 'Drama']\n",
    "Drama_total1 = genre_avg_rating.loc[genre_avg_rating['Genres1'] == 'Drama']\n",
    "Drama_total2 = genre_avg_rating.loc[genre_avg_rating['Genres2'] == 'Drama']\n",
    "Drama_total = Drama_total0['averagerating'].sum() + Drama_total1['averagerating'].sum() + Drama_total2['averagerating'].sum()\n",
    "rating7 = Drama_total / crosstab_genres['total_count'][7]\n",
    "average_list.append(rating7)\n",
    "#finding average rating of drama genre"
   ]
  },
  {
   "cell_type": "code",
   "execution_count": 118,
   "metadata": {},
   "outputs": [],
   "source": [
    "Family_total0 = genre_avg_rating.loc[genre_avg_rating['Genres0'] == 'Family']\n",
    "Family_total1 = genre_avg_rating.loc[genre_avg_rating['Genres1'] == 'Family']\n",
    "Family_total2 = genre_avg_rating.loc[genre_avg_rating['Genres2'] == 'Family']\n",
    "Family_total = Family_total0['averagerating'].sum() + Family_total1['averagerating'].sum() + Family_total2['averagerating'].sum()\n",
    "rating8 = Family_total / crosstab_genres['total_count'][8]\n",
    "average_list.append(rating8)\n",
    "#finding average rating of family genre"
   ]
  },
  {
   "cell_type": "code",
   "execution_count": 119,
   "metadata": {},
   "outputs": [
    {
     "data": {
      "text/plain": [
       "6.268419047619049"
      ]
     },
     "execution_count": 119,
     "metadata": {},
     "output_type": "execute_result"
    }
   ],
   "source": [
    "rating8"
   ]
  },
  {
   "cell_type": "code",
   "execution_count": 120,
   "metadata": {},
   "outputs": [],
   "source": [
    "Fantasy_total0 = genre_avg_rating.loc[genre_avg_rating['Genres0'] == 'Fantasy']\n",
    "Fantasy_total1 = genre_avg_rating.loc[genre_avg_rating['Genres1'] == 'Fantasy']\n",
    "Fantasy_total2 = genre_avg_rating.loc[genre_avg_rating['Genres2'] == 'Fantasy']\n",
    "Fantasy_total = Fantasy_total0['averagerating'].sum() + Fantasy_total1['averagerating'].sum() + Fantasy_total2['averagerating'].sum()\n",
    "rating9 = Fantasy_total / crosstab_genres['total_count'][9]\n",
    "average_list.append(rating9)\n",
    "#finding average rating of Fantasy genre"
   ]
  },
  {
   "cell_type": "code",
   "execution_count": 121,
   "metadata": {},
   "outputs": [
    {
     "data": {
      "text/plain": [
       "6.191644069563658"
      ]
     },
     "execution_count": 121,
     "metadata": {},
     "output_type": "execute_result"
    }
   ],
   "source": [
    "rating9"
   ]
  },
  {
   "cell_type": "code",
   "execution_count": 122,
   "metadata": {},
   "outputs": [],
   "source": [
    "History_total0 = genre_avg_rating.loc[genre_avg_rating['Genres0'] == 'History']\n",
    "History_total1 = genre_avg_rating.loc[genre_avg_rating['Genres1'] == 'History']\n",
    "History_total2 = genre_avg_rating.loc[genre_avg_rating['Genres2'] == 'History']\n",
    "History_total = History_total0['averagerating'].sum() + History_total1['averagerating'].sum() + History_total2['averagerating'].sum()\n",
    "rating10 = History_total / crosstab_genres['total_count'][10]\n",
    "average_list.append(rating10)\n",
    "#finding average rating of history genre"
   ]
  },
  {
   "cell_type": "code",
   "execution_count": 123,
   "metadata": {},
   "outputs": [
    {
     "data": {
      "text/plain": [
       "6.823250155952125"
      ]
     },
     "execution_count": 123,
     "metadata": {},
     "output_type": "execute_result"
    }
   ],
   "source": [
    "rating10"
   ]
  },
  {
   "cell_type": "code",
   "execution_count": 124,
   "metadata": {},
   "outputs": [],
   "source": [
    "Horror_total0 = genre_avg_rating.loc[genre_avg_rating['Genres0'] == 'Horror']\n",
    "Horror_total1 = genre_avg_rating.loc[genre_avg_rating['Genres1'] == 'Horror']\n",
    "Horror_total2 = genre_avg_rating.loc[genre_avg_rating['Genres2'] == 'Horror']\n",
    "Horror_total = Horror_total0['averagerating'].sum() + Horror_total1['averagerating'].sum() + Horror_total2['averagerating'].sum()\n",
    "rating11 = Horror_total / crosstab_genres['total_count'][11]\n",
    "average_list.append(rating11)\n",
    "#finding average rating of horror genre"
   ]
  },
  {
   "cell_type": "code",
   "execution_count": 125,
   "metadata": {},
   "outputs": [
    {
     "data": {
      "text/plain": [
       "5.9069273132422175"
      ]
     },
     "execution_count": 125,
     "metadata": {},
     "output_type": "execute_result"
    }
   ],
   "source": [
    "rating11"
   ]
  },
  {
   "cell_type": "code",
   "execution_count": 126,
   "metadata": {},
   "outputs": [],
   "source": [
    "Music_total0 = genre_avg_rating.loc[genre_avg_rating['Genres0'] == 'Music']\n",
    "Music_total1 = genre_avg_rating.loc[genre_avg_rating['Genres1'] == 'Music']\n",
    "Music_total2 = genre_avg_rating.loc[genre_avg_rating['Genres2'] == 'Music']\n",
    "Music_total = Music_total0['averagerating'].sum() + Music_total1['averagerating'].sum() + Music_total2['averagerating'].sum()\n",
    "rating12 = Music_total / crosstab_genres['total_count'][12]\n",
    "average_list.append(rating12)\n",
    "#finding average rating of music genre"
   ]
  },
  {
   "cell_type": "code",
   "execution_count": 127,
   "metadata": {},
   "outputs": [
    {
     "data": {
      "text/plain": [
       "6.8044931325449625"
      ]
     },
     "execution_count": 127,
     "metadata": {},
     "output_type": "execute_result"
    }
   ],
   "source": [
    "rating12"
   ]
  },
  {
   "cell_type": "code",
   "execution_count": 128,
   "metadata": {},
   "outputs": [],
   "source": [
    "Musical_total0 = genre_avg_rating.loc[genre_avg_rating['Genres0'] == 'Musical']\n",
    "Musical_total1 = genre_avg_rating.loc[genre_avg_rating['Genres1'] == 'Musical']\n",
    "Musical_total2 = genre_avg_rating.loc[genre_avg_rating['Genres2'] == 'Musical']\n",
    "Musical_total = Musical_total0['averagerating'].sum() + Musical_total1['averagerating'].sum() + Musical_total2['averagerating'].sum()\n",
    "rating13 = Musical_total / crosstab_genres['total_count'][13]\n",
    "average_list.append(rating13)\n",
    "#finding average rating of Musical genre"
   ]
  },
  {
   "cell_type": "code",
   "execution_count": 129,
   "metadata": {},
   "outputs": [
    {
     "data": {
      "text/plain": [
       "6.858731443994602"
      ]
     },
     "execution_count": 129,
     "metadata": {},
     "output_type": "execute_result"
    }
   ],
   "source": [
    "rating13"
   ]
  },
  {
   "cell_type": "code",
   "execution_count": 130,
   "metadata": {},
   "outputs": [],
   "source": [
    "Mystery_total0 = genre_avg_rating.loc[genre_avg_rating['Genres0'] == 'Mystery']\n",
    "Mystery_total1 = genre_avg_rating.loc[genre_avg_rating['Genres1'] == 'Mystery']\n",
    "Mystery_total2 = genre_avg_rating.loc[genre_avg_rating['Genres2'] == 'Mystery']\n",
    "Mystery_total = Mystery_total0['averagerating'].sum() + Mystery_total1['averagerating'].sum() + Mystery_total2['averagerating'].sum()\n",
    "rating14 = Mystery_total / crosstab_genres['total_count'][14]\n",
    "average_list.append(rating14)\n",
    "#finding average rating of Mystery genre"
   ]
  },
  {
   "cell_type": "code",
   "execution_count": 131,
   "metadata": {},
   "outputs": [
    {
     "data": {
      "text/plain": [
       "6.345544240842694"
      ]
     },
     "execution_count": 131,
     "metadata": {},
     "output_type": "execute_result"
    }
   ],
   "source": [
    "rating14"
   ]
  },
  {
   "cell_type": "code",
   "execution_count": 132,
   "metadata": {},
   "outputs": [],
   "source": [
    "News_total0 = genre_avg_rating.loc[genre_avg_rating['Genres0'] == 'News']\n",
    "News_total1 = genre_avg_rating.loc[genre_avg_rating['Genres1'] == 'News']\n",
    "News_total2 = genre_avg_rating.loc[genre_avg_rating['Genres2'] == 'News']\n",
    "News_total = News_total0['averagerating'].sum() + News_total1['averagerating'].sum() + News_total2['averagerating'].sum()\n",
    "rating15 = News_total / crosstab_genres['total_count'][15]\n",
    "average_list.append(rating15)\n",
    "#finding average rating of News genre"
   ]
  },
  {
   "cell_type": "code",
   "execution_count": 133,
   "metadata": {},
   "outputs": [
    {
     "data": {
      "text/plain": [
       "7.8500000000000005"
      ]
     },
     "execution_count": 133,
     "metadata": {},
     "output_type": "execute_result"
    }
   ],
   "source": [
    "rating15"
   ]
  },
  {
   "cell_type": "code",
   "execution_count": 134,
   "metadata": {},
   "outputs": [],
   "source": [
    "Romance_total0 = genre_avg_rating.loc[genre_avg_rating['Genres0'] == 'Romance']\n",
    "Romance_total1 = genre_avg_rating.loc[genre_avg_rating['Genres1'] == 'Romance']\n",
    "Romance_total2 = genre_avg_rating.loc[genre_avg_rating['Genres2'] == 'Romance']\n",
    "Romance_total = Romance_total0['averagerating'].sum() + Romance_total1['averagerating'].sum() + Romance_total2['averagerating'].sum()\n",
    "rating16 = Romance_total / crosstab_genres['total_count'][16]\n",
    "average_list.append(rating16)\n",
    "#finding average rating of Romance genre"
   ]
  },
  {
   "cell_type": "code",
   "execution_count": 135,
   "metadata": {},
   "outputs": [
    {
     "data": {
      "text/plain": [
       "6.299398947218241"
      ]
     },
     "execution_count": 135,
     "metadata": {},
     "output_type": "execute_result"
    }
   ],
   "source": [
    "rating16"
   ]
  },
  {
   "cell_type": "code",
   "execution_count": 136,
   "metadata": {},
   "outputs": [],
   "source": [
    "Sci_Fi_total0 = genre_avg_rating.loc[genre_avg_rating['Genres0'] == 'Sci_Fi']\n",
    "Sci_Fi_total1 = genre_avg_rating.loc[genre_avg_rating['Genres1'] == 'Sci_Fi']\n",
    "Sci_Fi_total2 = genre_avg_rating.loc[genre_avg_rating['Genres2'] == 'Sci_Fi']\n",
    "Sci_Fi_total = Sci_Fi_total0['averagerating'].sum() + Sci_Fi_total1['averagerating'].sum() + Sci_Fi_total2['averagerating'].sum()\n",
    "rating17 = Sci_Fi_total / crosstab_genres['total_count'][17]\n",
    "average_list.append(rating17)\n",
    "#finding average sci_fi genre"
   ]
  },
  {
   "cell_type": "code",
   "execution_count": 137,
   "metadata": {},
   "outputs": [
    {
     "data": {
      "text/plain": [
       "6.025878019547774"
      ]
     },
     "execution_count": 137,
     "metadata": {},
     "output_type": "execute_result"
    }
   ],
   "source": [
    "rating17"
   ]
  },
  {
   "cell_type": "code",
   "execution_count": 138,
   "metadata": {},
   "outputs": [],
   "source": [
    "Sport_total0 = genre_avg_rating.loc[genre_avg_rating['Genres0'] == 'Sport']\n",
    "Sport_total1 = genre_avg_rating.loc[genre_avg_rating['Genres1'] == 'Sport']\n",
    "Sport_total2 = genre_avg_rating.loc[genre_avg_rating['Genres2'] == 'Sport']\n",
    "Sport_total = Sport_total0['averagerating'].sum() + Sport_total1['averagerating'].sum() + Sport_total2['averagerating'].sum()\n",
    "rating18 = Sport_total / crosstab_genres['total_count'][18]\n",
    "average_list.append(rating18)\n",
    "#finding average rating of sport genre"
   ]
  },
  {
   "cell_type": "code",
   "execution_count": 139,
   "metadata": {},
   "outputs": [
    {
     "data": {
      "text/plain": [
       "6.788387096774193"
      ]
     },
     "execution_count": 139,
     "metadata": {},
     "output_type": "execute_result"
    }
   ],
   "source": [
    "rating18"
   ]
  },
  {
   "cell_type": "code",
   "execution_count": 140,
   "metadata": {},
   "outputs": [],
   "source": [
    "Thriller_total0 = genre_avg_rating.loc[genre_avg_rating['Genres0'] == 'Thriller']\n",
    "Thriller_total1 = genre_avg_rating.loc[genre_avg_rating['Genres1'] == 'Thriller']\n",
    "Thriller_total2 = genre_avg_rating.loc[genre_avg_rating['Genres2'] == 'Thriller']\n",
    "Thriller_total = Thriller_total0['averagerating'].sum() + Thriller_total1['averagerating'].sum() + Thriller_total2['averagerating'].sum()\n",
    "rating19 = Thriller_total / crosstab_genres['total_count'][19]\n",
    "average_list.append(rating19)\n",
    "#finding average rating of thriller genre"
   ]
  },
  {
   "cell_type": "code",
   "execution_count": 141,
   "metadata": {},
   "outputs": [
    {
     "data": {
      "text/plain": [
       "6.342779959142622"
      ]
     },
     "execution_count": 141,
     "metadata": {},
     "output_type": "execute_result"
    }
   ],
   "source": [
    "rating19"
   ]
  },
  {
   "cell_type": "code",
   "execution_count": 142,
   "metadata": {},
   "outputs": [],
   "source": [
    "War_total0 = genre_avg_rating.loc[genre_avg_rating['Genres0'] == 'War']\n",
    "War_total1 = genre_avg_rating.loc[genre_avg_rating['Genres1'] == 'War']\n",
    "War_total2 = genre_avg_rating.loc[genre_avg_rating['Genres2'] == 'War']\n",
    "War_total = War_total0['averagerating'].sum() + War_total1['averagerating'].sum() + War_total2['averagerating'].sum()\n",
    "rating20 = War_total / crosstab_genres['total_count'][20]\n",
    "average_list.append(rating20)\n",
    "#finding average rating of war genre"
   ]
  },
  {
   "cell_type": "code",
   "execution_count": 143,
   "metadata": {},
   "outputs": [
    {
     "data": {
      "text/plain": [
       "6.653250517598343"
      ]
     },
     "execution_count": 143,
     "metadata": {},
     "output_type": "execute_result"
    }
   ],
   "source": [
    "rating20"
   ]
  },
  {
   "cell_type": "code",
   "execution_count": 144,
   "metadata": {},
   "outputs": [],
   "source": [
    "Western_total0 = genre_avg_rating.loc[genre_avg_rating['Genres0'] == 'Western']\n",
    "Western_total1 = genre_avg_rating.loc[genre_avg_rating['Genres1'] == 'Western']\n",
    "Western_total2 = genre_avg_rating.loc[genre_avg_rating['Genres2'] == 'Western']\n",
    "Western_total = Western_total0['averagerating'].sum() + Western_total1['averagerating'].sum() + Western_total2['averagerating'].sum()\n",
    "rating21 = Western_total / crosstab_genres['total_count'][21]\n",
    "average_list.append(rating21)\n",
    "#finding average rating of western genre"
   ]
  },
  {
   "cell_type": "code",
   "execution_count": 145,
   "metadata": {},
   "outputs": [
    {
     "data": {
      "text/plain": [
       "6.847916666666666"
      ]
     },
     "execution_count": 145,
     "metadata": {},
     "output_type": "execute_result"
    }
   ],
   "source": [
    "rating21"
   ]
  },
  {
   "cell_type": "code",
   "execution_count": 146,
   "metadata": {},
   "outputs": [],
   "source": [
    "crosstab_genres['averagerating'] = average_list#setting values of averagerating"
   ]
  },
  {
   "cell_type": "code",
   "execution_count": 147,
   "metadata": {},
   "outputs": [],
   "source": [
    "crosstab_genres = crosstab_genres.sort_values('averagerating', ascending=True)#sorting by average rating ascending"
   ]
  },
  {
   "cell_type": "code",
   "execution_count": 148,
   "metadata": {},
   "outputs": [
    {
     "data": {
      "text/html": [
       "<div>\n",
       "<style scoped>\n",
       "    .dataframe tbody tr th:only-of-type {\n",
       "        vertical-align: middle;\n",
       "    }\n",
       "\n",
       "    .dataframe tbody tr th {\n",
       "        vertical-align: top;\n",
       "    }\n",
       "\n",
       "    .dataframe thead th {\n",
       "        text-align: right;\n",
       "    }\n",
       "</style>\n",
       "<table border=\"1\" class=\"dataframe\">\n",
       "  <thead>\n",
       "    <tr style=\"text-align: right;\">\n",
       "      <th>index</th>\n",
       "      <th>Movie Genre</th>\n",
       "      <th>Genres0</th>\n",
       "      <th>Genres1</th>\n",
       "      <th>Genres2</th>\n",
       "      <th>averagerating</th>\n",
       "      <th>total_count</th>\n",
       "    </tr>\n",
       "  </thead>\n",
       "  <tbody>\n",
       "    <tr>\n",
       "      <th>11</th>\n",
       "      <td>Horror</td>\n",
       "      <td>7</td>\n",
       "      <td>20</td>\n",
       "      <td>17</td>\n",
       "      <td>5.906927</td>\n",
       "      <td>44</td>\n",
       "    </tr>\n",
       "    <tr>\n",
       "      <th>17</th>\n",
       "      <td>Sci_Fi</td>\n",
       "      <td>0</td>\n",
       "      <td>6</td>\n",
       "      <td>35</td>\n",
       "      <td>6.025878</td>\n",
       "      <td>41</td>\n",
       "    </tr>\n",
       "    <tr>\n",
       "      <th>4</th>\n",
       "      <td>Comedy</td>\n",
       "      <td>41</td>\n",
       "      <td>29</td>\n",
       "      <td>5</td>\n",
       "      <td>6.141062</td>\n",
       "      <td>75</td>\n",
       "    </tr>\n",
       "    <tr>\n",
       "      <th>0</th>\n",
       "      <td>Action</td>\n",
       "      <td>72</td>\n",
       "      <td>0</td>\n",
       "      <td>0</td>\n",
       "      <td>6.146160</td>\n",
       "      <td>72</td>\n",
       "    </tr>\n",
       "    <tr>\n",
       "      <th>9</th>\n",
       "      <td>Fantasy</td>\n",
       "      <td>4</td>\n",
       "      <td>20</td>\n",
       "      <td>15</td>\n",
       "      <td>6.191644</td>\n",
       "      <td>39</td>\n",
       "    </tr>\n",
       "    <tr>\n",
       "      <th>8</th>\n",
       "      <td>Family</td>\n",
       "      <td>1</td>\n",
       "      <td>13</td>\n",
       "      <td>11</td>\n",
       "      <td>6.268419</td>\n",
       "      <td>25</td>\n",
       "    </tr>\n",
       "    <tr>\n",
       "      <th>16</th>\n",
       "      <td>Romance</td>\n",
       "      <td>1</td>\n",
       "      <td>13</td>\n",
       "      <td>26</td>\n",
       "      <td>6.299399</td>\n",
       "      <td>40</td>\n",
       "    </tr>\n",
       "    <tr>\n",
       "      <th>19</th>\n",
       "      <td>Thriller</td>\n",
       "      <td>0</td>\n",
       "      <td>3</td>\n",
       "      <td>45</td>\n",
       "      <td>6.342780</td>\n",
       "      <td>48</td>\n",
       "    </tr>\n",
       "    <tr>\n",
       "      <th>14</th>\n",
       "      <td>Mystery</td>\n",
       "      <td>3</td>\n",
       "      <td>17</td>\n",
       "      <td>20</td>\n",
       "      <td>6.345544</td>\n",
       "      <td>40</td>\n",
       "    </tr>\n",
       "    <tr>\n",
       "      <th>5</th>\n",
       "      <td>Crime</td>\n",
       "      <td>17</td>\n",
       "      <td>20</td>\n",
       "      <td>9</td>\n",
       "      <td>6.369905</td>\n",
       "      <td>46</td>\n",
       "    </tr>\n",
       "    <tr>\n",
       "      <th>1</th>\n",
       "      <td>Adventure</td>\n",
       "      <td>36</td>\n",
       "      <td>14</td>\n",
       "      <td>0</td>\n",
       "      <td>6.458380</td>\n",
       "      <td>50</td>\n",
       "    </tr>\n",
       "    <tr>\n",
       "      <th>20</th>\n",
       "      <td>War</td>\n",
       "      <td>0</td>\n",
       "      <td>1</td>\n",
       "      <td>12</td>\n",
       "      <td>6.653251</td>\n",
       "      <td>13</td>\n",
       "    </tr>\n",
       "    <tr>\n",
       "      <th>7</th>\n",
       "      <td>Drama</td>\n",
       "      <td>45</td>\n",
       "      <td>62</td>\n",
       "      <td>19</td>\n",
       "      <td>6.769811</td>\n",
       "      <td>126</td>\n",
       "    </tr>\n",
       "    <tr>\n",
       "      <th>18</th>\n",
       "      <td>Sport</td>\n",
       "      <td>0</td>\n",
       "      <td>2</td>\n",
       "      <td>13</td>\n",
       "      <td>6.788387</td>\n",
       "      <td>15</td>\n",
       "    </tr>\n",
       "    <tr>\n",
       "      <th>12</th>\n",
       "      <td>Music</td>\n",
       "      <td>1</td>\n",
       "      <td>8</td>\n",
       "      <td>11</td>\n",
       "      <td>6.804493</td>\n",
       "      <td>20</td>\n",
       "    </tr>\n",
       "    <tr>\n",
       "      <th>10</th>\n",
       "      <td>History</td>\n",
       "      <td>0</td>\n",
       "      <td>14</td>\n",
       "      <td>12</td>\n",
       "      <td>6.823250</td>\n",
       "      <td>26</td>\n",
       "    </tr>\n",
       "    <tr>\n",
       "      <th>21</th>\n",
       "      <td>Western</td>\n",
       "      <td>0</td>\n",
       "      <td>0</td>\n",
       "      <td>8</td>\n",
       "      <td>6.847917</td>\n",
       "      <td>8</td>\n",
       "    </tr>\n",
       "    <tr>\n",
       "      <th>13</th>\n",
       "      <td>Musical</td>\n",
       "      <td>0</td>\n",
       "      <td>3</td>\n",
       "      <td>10</td>\n",
       "      <td>6.858731</td>\n",
       "      <td>13</td>\n",
       "    </tr>\n",
       "    <tr>\n",
       "      <th>2</th>\n",
       "      <td>Animation</td>\n",
       "      <td>18</td>\n",
       "      <td>10</td>\n",
       "      <td>1</td>\n",
       "      <td>6.897725</td>\n",
       "      <td>29</td>\n",
       "    </tr>\n",
       "    <tr>\n",
       "      <th>3</th>\n",
       "      <td>Biography</td>\n",
       "      <td>25</td>\n",
       "      <td>10</td>\n",
       "      <td>1</td>\n",
       "      <td>7.191291</td>\n",
       "      <td>36</td>\n",
       "    </tr>\n",
       "    <tr>\n",
       "      <th>6</th>\n",
       "      <td>Documentary</td>\n",
       "      <td>6</td>\n",
       "      <td>12</td>\n",
       "      <td>4</td>\n",
       "      <td>7.644659</td>\n",
       "      <td>22</td>\n",
       "    </tr>\n",
       "    <tr>\n",
       "      <th>15</th>\n",
       "      <td>News</td>\n",
       "      <td>0</td>\n",
       "      <td>0</td>\n",
       "      <td>3</td>\n",
       "      <td>7.850000</td>\n",
       "      <td>3</td>\n",
       "    </tr>\n",
       "  </tbody>\n",
       "</table>\n",
       "</div>"
      ],
      "text/plain": [
       "index  Movie Genre  Genres0  Genres1  Genres2  averagerating  total_count\n",
       "11          Horror        7       20       17       5.906927           44\n",
       "17          Sci_Fi        0        6       35       6.025878           41\n",
       "4           Comedy       41       29        5       6.141062           75\n",
       "0           Action       72        0        0       6.146160           72\n",
       "9          Fantasy        4       20       15       6.191644           39\n",
       "8           Family        1       13       11       6.268419           25\n",
       "16         Romance        1       13       26       6.299399           40\n",
       "19        Thriller        0        3       45       6.342780           48\n",
       "14         Mystery        3       17       20       6.345544           40\n",
       "5            Crime       17       20        9       6.369905           46\n",
       "1        Adventure       36       14        0       6.458380           50\n",
       "20             War        0        1       12       6.653251           13\n",
       "7            Drama       45       62       19       6.769811          126\n",
       "18           Sport        0        2       13       6.788387           15\n",
       "12           Music        1        8       11       6.804493           20\n",
       "10         History        0       14       12       6.823250           26\n",
       "21         Western        0        0        8       6.847917            8\n",
       "13         Musical        0        3       10       6.858731           13\n",
       "2        Animation       18       10        1       6.897725           29\n",
       "3        Biography       25       10        1       7.191291           36\n",
       "6      Documentary        6       12        4       7.644659           22\n",
       "15            News        0        0        3       7.850000            3"
      ]
     },
     "execution_count": 148,
     "metadata": {},
     "output_type": "execute_result"
    }
   ],
   "source": [
    "crosstab_genres"
   ]
  },
  {
   "cell_type": "markdown",
   "metadata": {},
   "source": [
    "### barplot for average rating by genre"
   ]
  },
  {
   "cell_type": "code",
   "execution_count": 149,
   "metadata": {},
   "outputs": [
    {
     "data": {
      "text/plain": [
       "Text(0.5, 1.0, 'Genre by Average Rating')"
      ]
     },
     "execution_count": 149,
     "metadata": {},
     "output_type": "execute_result"
    },
    {
     "data": {
      "image/png": "[encoded data removed]",
      "text/plain": [
       "<Figure size 432x288 with 1 Axes>"
      ]
     },
     "metadata": {},
     "output_type": "display_data"
    }
   ],
   "source": [
    "sns.barplot(x = 'averagerating',\n",
    "            y = 'Movie Genre',\n",
    "            data = crosstab_genres,\n",
    "            color = 'Blue')\n",
    "            \n",
    "\n",
    "plt.xlabel('Average Rating')\n",
    "plt.ylabel('Genre')\n",
    "plt.title('Genre by Average Rating')"
   ]
  },
  {
   "cell_type": "code",
   "execution_count": 150,
   "metadata": {},
   "outputs": [],
   "source": [
    "# querying average rating and runtime minutes"
   ]
  },
  {
   "cell_type": "code",
   "execution_count": 151,
   "metadata": {},
   "outputs": [],
   "source": [
    "runtime_rating = pd.read_sql(\"\"\"\n",
    "SELECT averagerating, runtime_minutes\n",
    "FROM movie_ratings\n",
    "JOIN movie_basics\n",
    "    ON movie_ratings.movie_id = movie_basics.movie_id\n",
    "WHERE runtime_minutes <= 200\n",
    "\"\"\", conn)"
   ]
  },
  {
   "cell_type": "code",
   "execution_count": 152,
   "metadata": {},
   "outputs": [
    {
     "data": {
      "text/html": [
       "<div>\n",
       "<style scoped>\n",
       "    .dataframe tbody tr th:only-of-type {\n",
       "        vertical-align: middle;\n",
       "    }\n",
       "\n",
       "    .dataframe tbody tr th {\n",
       "        vertical-align: top;\n",
       "    }\n",
       "\n",
       "    .dataframe thead th {\n",
       "        text-align: right;\n",
       "    }\n",
       "</style>\n",
       "<table border=\"1\" class=\"dataframe\">\n",
       "  <thead>\n",
       "    <tr style=\"text-align: right;\">\n",
       "      <th></th>\n",
       "      <th>averagerating</th>\n",
       "      <th>runtime_minutes</th>\n",
       "    </tr>\n",
       "  </thead>\n",
       "  <tbody>\n",
       "    <tr>\n",
       "      <th>0</th>\n",
       "      <td>7.0</td>\n",
       "      <td>175.0</td>\n",
       "    </tr>\n",
       "    <tr>\n",
       "      <th>1</th>\n",
       "      <td>7.2</td>\n",
       "      <td>114.0</td>\n",
       "    </tr>\n",
       "    <tr>\n",
       "      <th>2</th>\n",
       "      <td>6.9</td>\n",
       "      <td>122.0</td>\n",
       "    </tr>\n",
       "    <tr>\n",
       "      <th>3</th>\n",
       "      <td>6.5</td>\n",
       "      <td>80.0</td>\n",
       "    </tr>\n",
       "    <tr>\n",
       "      <th>4</th>\n",
       "      <td>8.1</td>\n",
       "      <td>83.0</td>\n",
       "    </tr>\n",
       "    <tr>\n",
       "      <th>...</th>\n",
       "      <td>...</td>\n",
       "      <td>...</td>\n",
       "    </tr>\n",
       "    <tr>\n",
       "      <th>66073</th>\n",
       "      <td>8.4</td>\n",
       "      <td>130.0</td>\n",
       "    </tr>\n",
       "    <tr>\n",
       "      <th>66074</th>\n",
       "      <td>6.2</td>\n",
       "      <td>86.0</td>\n",
       "    </tr>\n",
       "    <tr>\n",
       "      <th>66075</th>\n",
       "      <td>6.2</td>\n",
       "      <td>75.0</td>\n",
       "    </tr>\n",
       "    <tr>\n",
       "      <th>66076</th>\n",
       "      <td>8.7</td>\n",
       "      <td>98.0</td>\n",
       "    </tr>\n",
       "    <tr>\n",
       "      <th>66077</th>\n",
       "      <td>6.5</td>\n",
       "      <td>72.0</td>\n",
       "    </tr>\n",
       "  </tbody>\n",
       "</table>\n",
       "<p>66078 rows × 2 columns</p>\n",
       "</div>"
      ],
      "text/plain": [
       "       averagerating  runtime_minutes\n",
       "0                7.0            175.0\n",
       "1                7.2            114.0\n",
       "2                6.9            122.0\n",
       "3                6.5             80.0\n",
       "4                8.1             83.0\n",
       "...              ...              ...\n",
       "66073            8.4            130.0\n",
       "66074            6.2             86.0\n",
       "66075            6.2             75.0\n",
       "66076            8.7             98.0\n",
       "66077            6.5             72.0\n",
       "\n",
       "[66078 rows x 2 columns]"
      ]
     },
     "execution_count": 152,
     "metadata": {},
     "output_type": "execute_result"
    }
   ],
   "source": [
    "runtime_rating"
   ]
  },
  {
   "cell_type": "code",
   "execution_count": 153,
   "metadata": {},
   "outputs": [],
   "source": [
    "runtime_rating['runtime_hours'] = runtime_rating['runtime_minutes'] / 60#dividing runtime by 60 to get total minutes"
   ]
  },
  {
   "cell_type": "code",
   "execution_count": 154,
   "metadata": {},
   "outputs": [],
   "source": [
    "runtime_rating = runtime_rating.apply(pd.to_numeric, errors = 'coerce')\n",
    "runtime_rating = runtime_rating.dropna()#dropping an null values"
   ]
  },
  {
   "cell_type": "code",
   "execution_count": 155,
   "metadata": {},
   "outputs": [
    {
     "data": {
      "text/html": [
       "<div>\n",
       "<style scoped>\n",
       "    .dataframe tbody tr th:only-of-type {\n",
       "        vertical-align: middle;\n",
       "    }\n",
       "\n",
       "    .dataframe tbody tr th {\n",
       "        vertical-align: top;\n",
       "    }\n",
       "\n",
       "    .dataframe thead th {\n",
       "        text-align: right;\n",
       "    }\n",
       "</style>\n",
       "<table border=\"1\" class=\"dataframe\">\n",
       "  <thead>\n",
       "    <tr style=\"text-align: right;\">\n",
       "      <th></th>\n",
       "      <th>averagerating</th>\n",
       "      <th>runtime_minutes</th>\n",
       "      <th>runtime_hours</th>\n",
       "    </tr>\n",
       "  </thead>\n",
       "  <tbody>\n",
       "    <tr>\n",
       "      <th>63626</th>\n",
       "      <td>9.2</td>\n",
       "      <td>200.0</td>\n",
       "      <td>3.333333</td>\n",
       "    </tr>\n",
       "    <tr>\n",
       "      <th>46437</th>\n",
       "      <td>2.6</td>\n",
       "      <td>200.0</td>\n",
       "      <td>3.333333</td>\n",
       "    </tr>\n",
       "    <tr>\n",
       "      <th>234</th>\n",
       "      <td>9.3</td>\n",
       "      <td>200.0</td>\n",
       "      <td>3.333333</td>\n",
       "    </tr>\n",
       "    <tr>\n",
       "      <th>49140</th>\n",
       "      <td>8.1</td>\n",
       "      <td>200.0</td>\n",
       "      <td>3.333333</td>\n",
       "    </tr>\n",
       "    <tr>\n",
       "      <th>1079</th>\n",
       "      <td>4.5</td>\n",
       "      <td>200.0</td>\n",
       "      <td>3.333333</td>\n",
       "    </tr>\n",
       "    <tr>\n",
       "      <th>...</th>\n",
       "      <td>...</td>\n",
       "      <td>...</td>\n",
       "      <td>...</td>\n",
       "    </tr>\n",
       "    <tr>\n",
       "      <th>59742</th>\n",
       "      <td>9.4</td>\n",
       "      <td>4.0</td>\n",
       "      <td>0.066667</td>\n",
       "    </tr>\n",
       "    <tr>\n",
       "      <th>51953</th>\n",
       "      <td>4.3</td>\n",
       "      <td>4.0</td>\n",
       "      <td>0.066667</td>\n",
       "    </tr>\n",
       "    <tr>\n",
       "      <th>18951</th>\n",
       "      <td>6.2</td>\n",
       "      <td>3.0</td>\n",
       "      <td>0.050000</td>\n",
       "    </tr>\n",
       "    <tr>\n",
       "      <th>42874</th>\n",
       "      <td>6.7</td>\n",
       "      <td>3.0</td>\n",
       "      <td>0.050000</td>\n",
       "    </tr>\n",
       "    <tr>\n",
       "      <th>59854</th>\n",
       "      <td>7.8</td>\n",
       "      <td>3.0</td>\n",
       "      <td>0.050000</td>\n",
       "    </tr>\n",
       "  </tbody>\n",
       "</table>\n",
       "<p>66078 rows × 3 columns</p>\n",
       "</div>"
      ],
      "text/plain": [
       "       averagerating  runtime_minutes  runtime_hours\n",
       "63626            9.2            200.0       3.333333\n",
       "46437            2.6            200.0       3.333333\n",
       "234              9.3            200.0       3.333333\n",
       "49140            8.1            200.0       3.333333\n",
       "1079             4.5            200.0       3.333333\n",
       "...              ...              ...            ...\n",
       "59742            9.4              4.0       0.066667\n",
       "51953            4.3              4.0       0.066667\n",
       "18951            6.2              3.0       0.050000\n",
       "42874            6.7              3.0       0.050000\n",
       "59854            7.8              3.0       0.050000\n",
       "\n",
       "[66078 rows x 3 columns]"
      ]
     },
     "execution_count": 155,
     "metadata": {},
     "output_type": "execute_result"
    }
   ],
   "source": [
    "runtime_rating.sort_values('runtime_hours', ascending=False)#sorting runtime ratings by descending "
   ]
  },
  {
   "cell_type": "markdown",
   "metadata": {},
   "source": [
    "### creating barplot for \"how long is too long\""
   ]
  },
  {
   "cell_type": "code",
   "execution_count": 156,
   "metadata": {},
   "outputs": [
    {
     "data": {
      "text/plain": [
       "Text(0.5, 1.0, 'How long is too long?')"
      ]
     },
     "execution_count": 156,
     "metadata": {},
     "output_type": "execute_result"
    },
    {
     "data": {
      "image/png": "[encoded data removed]",
      "text/plain": [
       "<Figure size 360x360 with 1 Axes>"
      ]
     },
     "metadata": {},
     "output_type": "display_data"
    }
   ],
   "source": [
    "sns.lmplot(data = runtime_rating, x = 'runtime_hours', y = 'averagerating', line_kws={\"color\":\"r\",\"alpha\":0.7,\"lw\":5})\n",
    "sns.set_style('whitegrid')\n",
    "\n",
    "plt.ylabel('Average Film Rating')\n",
    "plt.xlabel('Runtime in Hours')\n",
    "plt.title('How long is too long?')"
   ]
  },
  {
   "cell_type": "code",
   "execution_count": 157,
   "metadata": {},
   "outputs": [],
   "source": [
    "#inserting tn_movie_budgets_df into SQL db"
   ]
  },
  {
   "cell_type": "code",
   "execution_count": 158,
   "metadata": {},
   "outputs": [
    {
     "data": {
      "text/plain": [
       "CompletedProcess(args=['sqlite3', 'im.db', '.mode csv', '.import UnzippedData/tn.movie_budgets.csv movie_budgets'], returncode=0, stdout=b'', stderr=b'')"
      ]
     },
     "execution_count": 158,
     "metadata": {},
     "output_type": "execute_result"
    }
   ],
   "source": [
    "import subprocess\n",
    "subprocess.run([\"sqlite3\", \"im.db\", \".mode csv\", \".import UnzippedData/tn.movie_budgets.csv movie_budgets\"], capture_output=True)"
   ]
  },
  {
   "cell_type": "code",
   "execution_count": 159,
   "metadata": {},
   "outputs": [],
   "source": [
    "#importing tmdb.movies into SQl"
   ]
  },
  {
   "cell_type": "code",
   "execution_count": 160,
   "metadata": {},
   "outputs": [
    {
     "data": {
      "text/plain": [
       "CompletedProcess(args=['sqlite3', 'im.db', '.mode csv', '.import UnzippedData/tmdb.movies.csv tmdb_movies'], returncode=0, stdout=b'', stderr=b'')"
      ]
     },
     "execution_count": 160,
     "metadata": {},
     "output_type": "execute_result"
    }
   ],
   "source": [
    "import subprocess\n",
    "subprocess.run([\"sqlite3\", \"im.db\", \".mode csv\", \".import UnzippedData/tmdb.movies.csv tmdb_movies\"], capture_output=True)"
   ]
  },
  {
   "cell_type": "code",
   "execution_count": 161,
   "metadata": {},
   "outputs": [],
   "source": [
    "gross_vs_averate = pd.read_sql(\"\"\"\n",
    "SELECT DISTINCT movie, title, vote_average, worldwide_gross\n",
    "FROM movie_budgets\n",
    "INNER JOIN tmdb_movies\n",
    "    ON movie_budgets.movie = tmdb_movies.title\n",
    "\"\"\", conn)\n",
    "#query for movie, title, voteaverage, worldwide gross from tmbd movies and movie_budgets"
   ]
  },
  {
   "cell_type": "markdown",
   "metadata": {},
   "source": [
    "### Gross vs average rating clean up"
   ]
  },
  {
   "cell_type": "code",
   "execution_count": 162,
   "metadata": {},
   "outputs": [],
   "source": [
    "gross_vs_averate['worldwide_gross'] = gross_vs_averate['worldwide_gross'].str.replace('$', '')#removing $"
   ]
  },
  {
   "cell_type": "code",
   "execution_count": 163,
   "metadata": {},
   "outputs": [],
   "source": [
    "gross_vs_averate['worldwide_gross'] = gross_vs_averate['worldwide_gross'].str.replace(',', '')#removing commas"
   ]
  },
  {
   "cell_type": "code",
   "execution_count": 164,
   "metadata": {},
   "outputs": [],
   "source": [
    "gross_vs_averate['worldwide_gross'] = gross_vs_averate['worldwide_gross'].astype('int64')#setting worldwide gross as int"
   ]
  },
  {
   "cell_type": "code",
   "execution_count": 165,
   "metadata": {},
   "outputs": [],
   "source": [
    "gross_vs_averate['vote_average'] = gross_vs_averate['vote_average'].astype('float')#setting vote average as float"
   ]
  },
  {
   "cell_type": "code",
   "execution_count": 166,
   "metadata": {},
   "outputs": [],
   "source": [
    "gross_vs_averate.drop(gross_vs_averate[gross_vs_averate['worldwide_gross'] == 0].index, inplace=True)#dropping unused column"
   ]
  },
  {
   "cell_type": "code",
   "execution_count": 167,
   "metadata": {},
   "outputs": [
    {
     "data": {
      "text/html": [
       "<div>\n",
       "<style scoped>\n",
       "    .dataframe tbody tr th:only-of-type {\n",
       "        vertical-align: middle;\n",
       "    }\n",
       "\n",
       "    .dataframe tbody tr th {\n",
       "        vertical-align: top;\n",
       "    }\n",
       "\n",
       "    .dataframe thead th {\n",
       "        text-align: right;\n",
       "    }\n",
       "</style>\n",
       "<table border=\"1\" class=\"dataframe\">\n",
       "  <thead>\n",
       "    <tr style=\"text-align: right;\">\n",
       "      <th></th>\n",
       "      <th>movie</th>\n",
       "      <th>title</th>\n",
       "      <th>vote_average</th>\n",
       "      <th>worldwide_gross</th>\n",
       "    </tr>\n",
       "  </thead>\n",
       "  <tbody>\n",
       "    <tr>\n",
       "      <th>0</th>\n",
       "      <td>Avatar</td>\n",
       "      <td>Avatar</td>\n",
       "      <td>7.4</td>\n",
       "      <td>2776345279</td>\n",
       "    </tr>\n",
       "    <tr>\n",
       "      <th>1</th>\n",
       "      <td>Pirates of the Caribbean: On Stranger Tides</td>\n",
       "      <td>Pirates of the Caribbean: On Stranger Tides</td>\n",
       "      <td>6.4</td>\n",
       "      <td>1045663875</td>\n",
       "    </tr>\n",
       "    <tr>\n",
       "      <th>2</th>\n",
       "      <td>Avengers: Age of Ultron</td>\n",
       "      <td>Avengers: Age of Ultron</td>\n",
       "      <td>7.3</td>\n",
       "      <td>1403013963</td>\n",
       "    </tr>\n",
       "    <tr>\n",
       "      <th>3</th>\n",
       "      <td>Avengers: Infinity War</td>\n",
       "      <td>Avengers: Infinity War</td>\n",
       "      <td>8.3</td>\n",
       "      <td>2048134200</td>\n",
       "    </tr>\n",
       "    <tr>\n",
       "      <th>4</th>\n",
       "      <td>Justice League</td>\n",
       "      <td>Justice League</td>\n",
       "      <td>6.2</td>\n",
       "      <td>655945209</td>\n",
       "    </tr>\n",
       "    <tr>\n",
       "      <th>...</th>\n",
       "      <td>...</td>\n",
       "      <td>...</td>\n",
       "      <td>...</td>\n",
       "      <td>...</td>\n",
       "    </tr>\n",
       "    <tr>\n",
       "      <th>2190</th>\n",
       "      <td>Krisha</td>\n",
       "      <td>Krisha</td>\n",
       "      <td>6.8</td>\n",
       "      <td>144822</td>\n",
       "    </tr>\n",
       "    <tr>\n",
       "      <th>2191</th>\n",
       "      <td>Krisha</td>\n",
       "      <td>Krisha</td>\n",
       "      <td>9.0</td>\n",
       "      <td>144822</td>\n",
       "    </tr>\n",
       "    <tr>\n",
       "      <th>2192</th>\n",
       "      <td>Emily</td>\n",
       "      <td>Emily</td>\n",
       "      <td>7.0</td>\n",
       "      <td>3547</td>\n",
       "    </tr>\n",
       "    <tr>\n",
       "      <th>2193</th>\n",
       "      <td>Exeter</td>\n",
       "      <td>Exeter</td>\n",
       "      <td>4.7</td>\n",
       "      <td>489792</td>\n",
       "    </tr>\n",
       "    <tr>\n",
       "      <th>2197</th>\n",
       "      <td>Newlyweds</td>\n",
       "      <td>Newlyweds</td>\n",
       "      <td>5.4</td>\n",
       "      <td>4584</td>\n",
       "    </tr>\n",
       "  </tbody>\n",
       "</table>\n",
       "<p>1996 rows × 4 columns</p>\n",
       "</div>"
      ],
      "text/plain": [
       "                                            movie  \\\n",
       "0                                          Avatar   \n",
       "1     Pirates of the Caribbean: On Stranger Tides   \n",
       "2                         Avengers: Age of Ultron   \n",
       "3                          Avengers: Infinity War   \n",
       "4                                  Justice League   \n",
       "...                                           ...   \n",
       "2190                                       Krisha   \n",
       "2191                                       Krisha   \n",
       "2192                                        Emily   \n",
       "2193                                       Exeter   \n",
       "2197                                    Newlyweds   \n",
       "\n",
       "                                            title  vote_average  \\\n",
       "0                                          Avatar           7.4   \n",
       "1     Pirates of the Caribbean: On Stranger Tides           6.4   \n",
       "2                         Avengers: Age of Ultron           7.3   \n",
       "3                          Avengers: Infinity War           8.3   \n",
       "4                                  Justice League           6.2   \n",
       "...                                           ...           ...   \n",
       "2190                                       Krisha           6.8   \n",
       "2191                                       Krisha           9.0   \n",
       "2192                                        Emily           7.0   \n",
       "2193                                       Exeter           4.7   \n",
       "2197                                    Newlyweds           5.4   \n",
       "\n",
       "      worldwide_gross  \n",
       "0          2776345279  \n",
       "1          1045663875  \n",
       "2          1403013963  \n",
       "3          2048134200  \n",
       "4           655945209  \n",
       "...               ...  \n",
       "2190           144822  \n",
       "2191           144822  \n",
       "2192             3547  \n",
       "2193           489792  \n",
       "2197             4584  \n",
       "\n",
       "[1996 rows x 4 columns]"
      ]
     },
     "execution_count": 167,
     "metadata": {},
     "output_type": "execute_result"
    }
   ],
   "source": [
    "gross_vs_averate"
   ]
  },
  {
   "cell_type": "markdown",
   "metadata": {},
   "source": [
    "### plotting worldwide gross vs average rating"
   ]
  },
  {
   "cell_type": "code",
   "execution_count": 168,
   "metadata": {},
   "outputs": [
    {
     "data": {
      "text/plain": [
       "Text(0.5, 1.0, 'Average Rating vs Total Gross')"
      ]
     },
     "execution_count": 168,
     "metadata": {},
     "output_type": "execute_result"
    },
    {
     "data": {
      "image/png": "[encoded data removed]",
      "text/plain": [
       "<Figure size 360x360 with 1 Axes>"
      ]
     },
     "metadata": {},
     "output_type": "display_data"
    }
   ],
   "source": [
    "sns.lmplot(x = 'vote_average',\n",
    "           y = 'worldwide_gross',\n",
    "           data = gross_vs_averate,\n",
    "           line_kws={\"color\":\"r\",\"alpha\":0.7,\"lw\":5})\n",
    "\n",
    "\n",
    "plt.ticklabel_format(style='sci', axis='y', scilimits=(9,9))\n",
    "plt.xlabel('Average rating vote')\n",
    "plt.ylabel('Worldwide Gross in Billions')\n",
    "plt.title('Average Rating vs Total Gross')"
   ]
  },
  {
   "cell_type": "markdown",
   "metadata": {},
   "source": [
    "### top writers query of top genres"
   ]
  },
  {
   "cell_type": "code",
   "execution_count": 169,
   "metadata": {},
   "outputs": [],
   "source": [
    "#query for top genre writers from im.db"
   ]
  },
  {
   "cell_type": "code",
   "execution_count": 170,
   "metadata": {},
   "outputs": [],
   "source": [
    "documentary_writers = pd.read_sql(\"\"\"\n",
    "SELECT primary_name, averagerating, category, genres\n",
    "FROM movie_ratings\n",
    "JOIN movie_basics\n",
    "    ON movie_ratings.movie_id = movie_basics.movie_id\n",
    "JOIN principals\n",
    "    ON movie_basics.movie_id = principals.movie_id\n",
    "JOIN persons\n",
    "    ON principals.person_id = persons.person_id\n",
    "WHERE category == 'writer' AND genres LIKE 'Documentary' AND death_year is Null\n",
    "\"\"\", conn)"
   ]
  },
  {
   "cell_type": "code",
   "execution_count": 171,
   "metadata": {},
   "outputs": [],
   "source": [
    "top_ten_documentary_writers = documentary_writers.sort_values(by = 'averagerating', ascending = False).head(10)# sorting values by average rating descending"
   ]
  },
  {
   "cell_type": "code",
   "execution_count": 172,
   "metadata": {},
   "outputs": [],
   "source": [
    "top_ten_documentary_writers.rename(columns = {'primary_name' : 'Writer name'}, inplace = True)# changing name of writers column"
   ]
  },
  {
   "cell_type": "code",
   "execution_count": 173,
   "metadata": {},
   "outputs": [],
   "source": [
    "top_ten_documentary_writers.rename(columns = {'averagerating' : 'Average rating'}, inplace = True)# changing column name to Average Rating"
   ]
  },
  {
   "cell_type": "code",
   "execution_count": 174,
   "metadata": {},
   "outputs": [
    {
     "data": {
      "text/html": [
       "<div>\n",
       "<style scoped>\n",
       "    .dataframe tbody tr th:only-of-type {\n",
       "        vertical-align: middle;\n",
       "    }\n",
       "\n",
       "    .dataframe tbody tr th {\n",
       "        vertical-align: top;\n",
       "    }\n",
       "\n",
       "    .dataframe thead th {\n",
       "        text-align: right;\n",
       "    }\n",
       "</style>\n",
       "<table border=\"1\" class=\"dataframe\">\n",
       "  <thead>\n",
       "    <tr style=\"text-align: right;\">\n",
       "      <th></th>\n",
       "      <th>Writer name</th>\n",
       "      <th>Average rating</th>\n",
       "      <th>category</th>\n",
       "      <th>genres</th>\n",
       "    </tr>\n",
       "  </thead>\n",
       "  <tbody>\n",
       "    <tr>\n",
       "      <th>2191</th>\n",
       "      <td>Brian Baucum</td>\n",
       "      <td>10.0</td>\n",
       "      <td>writer</td>\n",
       "      <td>Documentary</td>\n",
       "    </tr>\n",
       "    <tr>\n",
       "      <th>2644</th>\n",
       "      <td>Heather Augustyn</td>\n",
       "      <td>10.0</td>\n",
       "      <td>writer</td>\n",
       "      <td>Documentary</td>\n",
       "    </tr>\n",
       "    <tr>\n",
       "      <th>1</th>\n",
       "      <td>Ana Beatriz Nogueira</td>\n",
       "      <td>10.0</td>\n",
       "      <td>writer</td>\n",
       "      <td>Documentary</td>\n",
       "    </tr>\n",
       "    <tr>\n",
       "      <th>1992</th>\n",
       "      <td>Rok Andres</td>\n",
       "      <td>9.8</td>\n",
       "      <td>writer</td>\n",
       "      <td>Documentary</td>\n",
       "    </tr>\n",
       "    <tr>\n",
       "      <th>627</th>\n",
       "      <td>Cassandra Roberts</td>\n",
       "      <td>9.7</td>\n",
       "      <td>writer</td>\n",
       "      <td>Documentary</td>\n",
       "    </tr>\n",
       "    <tr>\n",
       "      <th>2712</th>\n",
       "      <td>Jessie Deeter</td>\n",
       "      <td>9.7</td>\n",
       "      <td>writer</td>\n",
       "      <td>Documentary</td>\n",
       "    </tr>\n",
       "    <tr>\n",
       "      <th>2703</th>\n",
       "      <td>Steve Armstrong</td>\n",
       "      <td>9.7</td>\n",
       "      <td>writer</td>\n",
       "      <td>Documentary</td>\n",
       "    </tr>\n",
       "    <tr>\n",
       "      <th>2334</th>\n",
       "      <td>Alex Bakker</td>\n",
       "      <td>9.6</td>\n",
       "      <td>writer</td>\n",
       "      <td>Documentary</td>\n",
       "    </tr>\n",
       "    <tr>\n",
       "      <th>2612</th>\n",
       "      <td>Mike Tucker</td>\n",
       "      <td>9.5</td>\n",
       "      <td>writer</td>\n",
       "      <td>Documentary</td>\n",
       "    </tr>\n",
       "    <tr>\n",
       "      <th>2662</th>\n",
       "      <td>Mukunda Das</td>\n",
       "      <td>9.5</td>\n",
       "      <td>writer</td>\n",
       "      <td>Documentary</td>\n",
       "    </tr>\n",
       "  </tbody>\n",
       "</table>\n",
       "</div>"
      ],
      "text/plain": [
       "               Writer name  Average rating category       genres\n",
       "2191          Brian Baucum            10.0   writer  Documentary\n",
       "2644      Heather Augustyn            10.0   writer  Documentary\n",
       "1     Ana Beatriz Nogueira            10.0   writer  Documentary\n",
       "1992            Rok Andres             9.8   writer  Documentary\n",
       "627      Cassandra Roberts             9.7   writer  Documentary\n",
       "2712         Jessie Deeter             9.7   writer  Documentary\n",
       "2703       Steve Armstrong             9.7   writer  Documentary\n",
       "2334           Alex Bakker             9.6   writer  Documentary\n",
       "2612           Mike Tucker             9.5   writer  Documentary\n",
       "2662           Mukunda Das             9.5   writer  Documentary"
      ]
     },
     "execution_count": 174,
     "metadata": {},
     "output_type": "execute_result"
    }
   ],
   "source": [
    "top_ten_documentary_writers"
   ]
  },
  {
   "cell_type": "code",
   "execution_count": 175,
   "metadata": {},
   "outputs": [],
   "source": [
    "#Finding Top Ten Biography Writers"
   ]
  },
  {
   "cell_type": "code",
   "execution_count": 176,
   "metadata": {},
   "outputs": [],
   "source": [
    "Biography_writers = pd.read_sql(\"\"\"\n",
    "SELECT primary_name, averagerating, category, genres\n",
    "FROM movie_ratings\n",
    "JOIN movie_basics\n",
    "    ON movie_ratings.movie_id = movie_basics.movie_id\n",
    "JOIN principals\n",
    "    ON movie_basics.movie_id = principals.movie_id\n",
    "JOIN persons\n",
    "    ON principals.person_id = persons.person_id\n",
    "WHERE category == 'writer' AND genres LIKE 'Biography' AND numvotes > 200 AND death_year is Null\n",
    "\"\"\", conn)"
   ]
  },
  {
   "cell_type": "code",
   "execution_count": 177,
   "metadata": {},
   "outputs": [],
   "source": [
    "top_ten_bio_writers = Biography_writers.sort_values(by = 'averagerating', ascending = False).head(10)#sorting bio writers by descending average rating"
   ]
  },
  {
   "cell_type": "code",
   "execution_count": 178,
   "metadata": {},
   "outputs": [],
   "source": [
    "top_ten_bio_writers.rename(columns = {'primary_name' : 'Writer name'}, inplace = True)#renaming writer name column"
   ]
  },
  {
   "cell_type": "code",
   "execution_count": 179,
   "metadata": {},
   "outputs": [],
   "source": [
    "top_ten_bio_writers.rename(columns = {'averagerating' : 'Average Rating'}, inplace = True)#rename column Average Rating"
   ]
  },
  {
   "cell_type": "code",
   "execution_count": 180,
   "metadata": {},
   "outputs": [
    {
     "data": {
      "text/html": [
       "<div>\n",
       "<style scoped>\n",
       "    .dataframe tbody tr th:only-of-type {\n",
       "        vertical-align: middle;\n",
       "    }\n",
       "\n",
       "    .dataframe tbody tr th {\n",
       "        vertical-align: top;\n",
       "    }\n",
       "\n",
       "    .dataframe thead th {\n",
       "        text-align: right;\n",
       "    }\n",
       "</style>\n",
       "<table border=\"1\" class=\"dataframe\">\n",
       "  <thead>\n",
       "    <tr style=\"text-align: right;\">\n",
       "      <th></th>\n",
       "      <th>Writer name</th>\n",
       "      <th>Average Rating</th>\n",
       "      <th>category</th>\n",
       "      <th>genres</th>\n",
       "    </tr>\n",
       "  </thead>\n",
       "  <tbody>\n",
       "    <tr>\n",
       "      <th>13</th>\n",
       "      <td>Bienvenido Santiago</td>\n",
       "      <td>8.6</td>\n",
       "      <td>writer</td>\n",
       "      <td>Biography</td>\n",
       "    </tr>\n",
       "    <tr>\n",
       "      <th>15</th>\n",
       "      <td>Harjeet Singh</td>\n",
       "      <td>8.5</td>\n",
       "      <td>writer</td>\n",
       "      <td>Biography</td>\n",
       "    </tr>\n",
       "    <tr>\n",
       "      <th>14</th>\n",
       "      <td>Tejinder Harjit</td>\n",
       "      <td>8.5</td>\n",
       "      <td>writer</td>\n",
       "      <td>Biography</td>\n",
       "    </tr>\n",
       "    <tr>\n",
       "      <th>2</th>\n",
       "      <td>Shahzad Firdaus</td>\n",
       "      <td>8.0</td>\n",
       "      <td>writer</td>\n",
       "      <td>Biography</td>\n",
       "    </tr>\n",
       "    <tr>\n",
       "      <th>22</th>\n",
       "      <td>Luke Hwong</td>\n",
       "      <td>7.4</td>\n",
       "      <td>writer</td>\n",
       "      <td>Biography</td>\n",
       "    </tr>\n",
       "    <tr>\n",
       "      <th>21</th>\n",
       "      <td>Tony Hu</td>\n",
       "      <td>7.4</td>\n",
       "      <td>writer</td>\n",
       "      <td>Biography</td>\n",
       "    </tr>\n",
       "    <tr>\n",
       "      <th>20</th>\n",
       "      <td>Wong Siew Chooi</td>\n",
       "      <td>7.4</td>\n",
       "      <td>writer</td>\n",
       "      <td>Biography</td>\n",
       "    </tr>\n",
       "    <tr>\n",
       "      <th>17</th>\n",
       "      <td>Matt Harvey</td>\n",
       "      <td>7.3</td>\n",
       "      <td>writer</td>\n",
       "      <td>Biography</td>\n",
       "    </tr>\n",
       "    <tr>\n",
       "      <th>16</th>\n",
       "      <td>Dominic Morgan</td>\n",
       "      <td>7.3</td>\n",
       "      <td>writer</td>\n",
       "      <td>Biography</td>\n",
       "    </tr>\n",
       "    <tr>\n",
       "      <th>10</th>\n",
       "      <td>Ben Sihombing</td>\n",
       "      <td>7.1</td>\n",
       "      <td>writer</td>\n",
       "      <td>Biography</td>\n",
       "    </tr>\n",
       "  </tbody>\n",
       "</table>\n",
       "</div>"
      ],
      "text/plain": [
       "            Writer name  Average Rating category     genres\n",
       "13  Bienvenido Santiago             8.6   writer  Biography\n",
       "15        Harjeet Singh             8.5   writer  Biography\n",
       "14      Tejinder Harjit             8.5   writer  Biography\n",
       "2       Shahzad Firdaus             8.0   writer  Biography\n",
       "22           Luke Hwong             7.4   writer  Biography\n",
       "21              Tony Hu             7.4   writer  Biography\n",
       "20      Wong Siew Chooi             7.4   writer  Biography\n",
       "17          Matt Harvey             7.3   writer  Biography\n",
       "16       Dominic Morgan             7.3   writer  Biography\n",
       "10        Ben Sihombing             7.1   writer  Biography"
      ]
     },
     "execution_count": 180,
     "metadata": {},
     "output_type": "execute_result"
    }
   ],
   "source": [
    "top_ten_bio_writers"
   ]
  },
  {
   "cell_type": "code",
   "execution_count": null,
   "metadata": {},
   "outputs": [],
   "source": [
    "# query for top ten animation writers"
   ]
  },
  {
   "cell_type": "code",
   "execution_count": 181,
   "metadata": {},
   "outputs": [],
   "source": [
    "animation_writers = pd.read_sql(\"\"\"\n",
    "SELECT primary_name, averagerating, category, genres\n",
    "FROM movie_ratings\n",
    "JOIN movie_basics\n",
    "    ON movie_ratings.movie_id = movie_basics.movie_id\n",
    "JOIN principals\n",
    "    ON movie_basics.movie_id = principals.movie_id\n",
    "JOIN persons\n",
    "    ON principals.person_id = persons.person_id\n",
    "WHERE category == 'writer' AND genres LIKE 'Animation' AND numvotes > 200 AND death_year is Null\n",
    "\"\"\", conn)"
   ]
  },
  {
   "cell_type": "code",
   "execution_count": 182,
   "metadata": {},
   "outputs": [],
   "source": [
    "top_ten_animation_writers = animation_writers.sort_values(by = 'averagerating', ascending = False).head(10)#sorting animation writers by descending"
   ]
  },
  {
   "cell_type": "code",
   "execution_count": 183,
   "metadata": {},
   "outputs": [],
   "source": [
    "top_ten_animation_writers.rename(columns = {'primary_name' : 'Writer name'}, inplace = True)#rename column Writer name"
   ]
  },
  {
   "cell_type": "code",
   "execution_count": 184,
   "metadata": {},
   "outputs": [],
   "source": [
    "top_ten_animation_writers.rename(columns = {'averagerating' : 'Average Rating'}, inplace = True)#rename column Average rating"
   ]
  },
  {
   "cell_type": "code",
   "execution_count": 185,
   "metadata": {},
   "outputs": [
    {
     "data": {
      "text/html": [
       "<div>\n",
       "<style scoped>\n",
       "    .dataframe tbody tr th:only-of-type {\n",
       "        vertical-align: middle;\n",
       "    }\n",
       "\n",
       "    .dataframe tbody tr th {\n",
       "        vertical-align: top;\n",
       "    }\n",
       "\n",
       "    .dataframe thead th {\n",
       "        text-align: right;\n",
       "    }\n",
       "</style>\n",
       "<table border=\"1\" class=\"dataframe\">\n",
       "  <thead>\n",
       "    <tr style=\"text-align: right;\">\n",
       "      <th></th>\n",
       "      <th>Writer name</th>\n",
       "      <th>Average Rating</th>\n",
       "      <th>category</th>\n",
       "      <th>genres</th>\n",
       "    </tr>\n",
       "  </thead>\n",
       "  <tbody>\n",
       "    <tr>\n",
       "      <th>33</th>\n",
       "      <td>Usha Kaljai</td>\n",
       "      <td>9.2</td>\n",
       "      <td>writer</td>\n",
       "      <td>Animation</td>\n",
       "    </tr>\n",
       "    <tr>\n",
       "      <th>37</th>\n",
       "      <td>Jyoti Deshpande</td>\n",
       "      <td>8.4</td>\n",
       "      <td>writer</td>\n",
       "      <td>Animation</td>\n",
       "    </tr>\n",
       "    <tr>\n",
       "      <th>38</th>\n",
       "      <td>Pathik Vats</td>\n",
       "      <td>8.4</td>\n",
       "      <td>writer</td>\n",
       "      <td>Animation</td>\n",
       "    </tr>\n",
       "    <tr>\n",
       "      <th>41</th>\n",
       "      <td>Nur Naquyah bt Burhanuddin</td>\n",
       "      <td>8.1</td>\n",
       "      <td>writer</td>\n",
       "      <td>Animation</td>\n",
       "    </tr>\n",
       "    <tr>\n",
       "      <th>39</th>\n",
       "      <td>Aliya bt Nazlan</td>\n",
       "      <td>8.1</td>\n",
       "      <td>writer</td>\n",
       "      <td>Animation</td>\n",
       "    </tr>\n",
       "    <tr>\n",
       "      <th>40</th>\n",
       "      <td>Hjh. Ainon Ariff</td>\n",
       "      <td>8.1</td>\n",
       "      <td>writer</td>\n",
       "      <td>Animation</td>\n",
       "    </tr>\n",
       "    <tr>\n",
       "      <th>44</th>\n",
       "      <td>Daraka Wongsiri</td>\n",
       "      <td>7.9</td>\n",
       "      <td>writer</td>\n",
       "      <td>Animation</td>\n",
       "    </tr>\n",
       "    <tr>\n",
       "      <th>43</th>\n",
       "      <td>Bryan Edward Hill</td>\n",
       "      <td>7.9</td>\n",
       "      <td>writer</td>\n",
       "      <td>Animation</td>\n",
       "    </tr>\n",
       "    <tr>\n",
       "      <th>42</th>\n",
       "      <td>Suphakorn Riansuwan</td>\n",
       "      <td>7.9</td>\n",
       "      <td>writer</td>\n",
       "      <td>Animation</td>\n",
       "    </tr>\n",
       "    <tr>\n",
       "      <th>26</th>\n",
       "      <td>Yana Toboso</td>\n",
       "      <td>7.7</td>\n",
       "      <td>writer</td>\n",
       "      <td>Animation</td>\n",
       "    </tr>\n",
       "  </tbody>\n",
       "</table>\n",
       "</div>"
      ],
      "text/plain": [
       "                   Writer name  Average Rating category     genres\n",
       "33                 Usha Kaljai             9.2   writer  Animation\n",
       "37             Jyoti Deshpande             8.4   writer  Animation\n",
       "38                 Pathik Vats             8.4   writer  Animation\n",
       "41  Nur Naquyah bt Burhanuddin             8.1   writer  Animation\n",
       "39             Aliya bt Nazlan             8.1   writer  Animation\n",
       "40            Hjh. Ainon Ariff             8.1   writer  Animation\n",
       "44             Daraka Wongsiri             7.9   writer  Animation\n",
       "43           Bryan Edward Hill             7.9   writer  Animation\n",
       "42         Suphakorn Riansuwan             7.9   writer  Animation\n",
       "26                 Yana Toboso             7.7   writer  Animation"
      ]
     },
     "execution_count": 185,
     "metadata": {},
     "output_type": "execute_result"
    }
   ],
   "source": [
    "top_ten_animation_writers"
   ]
  },
  {
   "cell_type": "code",
   "execution_count": null,
   "metadata": {},
   "outputs": [],
   "source": [
    "#query for top ten musical writers"
   ]
  },
  {
   "cell_type": "code",
   "execution_count": 186,
   "metadata": {},
   "outputs": [],
   "source": [
    "musical_writers = pd.read_sql(\"\"\"\n",
    "SELECT primary_name, averagerating, category, genres\n",
    "FROM movie_ratings\n",
    "JOIN movie_basics\n",
    "    ON movie_ratings.movie_id = movie_basics.movie_id\n",
    "JOIN principals\n",
    "    ON movie_basics.movie_id = principals.movie_id\n",
    "JOIN persons\n",
    "    ON principals.person_id = persons.person_id\n",
    "WHERE category == 'writer' AND genres LIKE 'Musical' AND numvotes > 200 AND death_year is Null\n",
    "\"\"\", conn)"
   ]
  },
  {
   "cell_type": "code",
   "execution_count": 187,
   "metadata": {},
   "outputs": [],
   "source": [
    "top_ten_musical_writers = musical_writers.sort_values(by = 'averagerating', ascending = False).head(10)#sorting musical writers by descending"
   ]
  },
  {
   "cell_type": "code",
   "execution_count": 188,
   "metadata": {},
   "outputs": [],
   "source": [
    "top_ten_musical_writers.rename(columns = {'primary_name' : 'Writer name'}, inplace = True)#rename column Writer name"
   ]
  },
  {
   "cell_type": "code",
   "execution_count": 189,
   "metadata": {},
   "outputs": [],
   "source": [
    "top_ten_musical_writers.rename(columns = {'averagerating' : 'Average Rating'}, inplace = True)#rename column average rating"
   ]
  },
  {
   "cell_type": "code",
   "execution_count": 621,
   "metadata": {},
   "outputs": [
    {
     "data": {
      "text/html": [
       "<div>\n",
       "<style scoped>\n",
       "    .dataframe tbody tr th:only-of-type {\n",
       "        vertical-align: middle;\n",
       "    }\n",
       "\n",
       "    .dataframe tbody tr th {\n",
       "        vertical-align: top;\n",
       "    }\n",
       "\n",
       "    .dataframe thead th {\n",
       "        text-align: right;\n",
       "    }\n",
       "</style>\n",
       "<table border=\"1\" class=\"dataframe\">\n",
       "  <thead>\n",
       "    <tr style=\"text-align: right;\">\n",
       "      <th></th>\n",
       "      <th>Writer name</th>\n",
       "      <th>Average Rating</th>\n",
       "      <th>category</th>\n",
       "      <th>genres</th>\n",
       "    </tr>\n",
       "  </thead>\n",
       "  <tbody>\n",
       "    <tr>\n",
       "      <th>9</th>\n",
       "      <td>Purushottam Darvekar</td>\n",
       "      <td>8.8</td>\n",
       "      <td>writer</td>\n",
       "      <td>Musical</td>\n",
       "    </tr>\n",
       "    <tr>\n",
       "      <th>10</th>\n",
       "      <td>Prakash Kapadia</td>\n",
       "      <td>8.8</td>\n",
       "      <td>writer</td>\n",
       "      <td>Musical</td>\n",
       "    </tr>\n",
       "    <tr>\n",
       "      <th>11</th>\n",
       "      <td>Harvey Fierstein</td>\n",
       "      <td>8.5</td>\n",
       "      <td>writer</td>\n",
       "      <td>Musical</td>\n",
       "    </tr>\n",
       "    <tr>\n",
       "      <th>12</th>\n",
       "      <td>Bob Tzudiker</td>\n",
       "      <td>8.5</td>\n",
       "      <td>writer</td>\n",
       "      <td>Musical</td>\n",
       "    </tr>\n",
       "    <tr>\n",
       "      <th>13</th>\n",
       "      <td>Noni White</td>\n",
       "      <td>8.5</td>\n",
       "      <td>writer</td>\n",
       "      <td>Musical</td>\n",
       "    </tr>\n",
       "    <tr>\n",
       "      <th>3</th>\n",
       "      <td>Gilles Marchand</td>\n",
       "      <td>6.1</td>\n",
       "      <td>writer</td>\n",
       "      <td>Musical</td>\n",
       "    </tr>\n",
       "    <tr>\n",
       "      <th>4</th>\n",
       "      <td>Pierre De Clercq</td>\n",
       "      <td>6.0</td>\n",
       "      <td>writer</td>\n",
       "      <td>Musical</td>\n",
       "    </tr>\n",
       "    <tr>\n",
       "      <th>5</th>\n",
       "      <td>Heather Ravarino</td>\n",
       "      <td>5.3</td>\n",
       "      <td>writer</td>\n",
       "      <td>Musical</td>\n",
       "    </tr>\n",
       "    <tr>\n",
       "      <th>6</th>\n",
       "      <td>Lex de Azevedo</td>\n",
       "      <td>5.3</td>\n",
       "      <td>writer</td>\n",
       "      <td>Musical</td>\n",
       "    </tr>\n",
       "    <tr>\n",
       "      <th>7</th>\n",
       "      <td>Douglas C. Stewart</td>\n",
       "      <td>5.3</td>\n",
       "      <td>writer</td>\n",
       "      <td>Musical</td>\n",
       "    </tr>\n",
       "  </tbody>\n",
       "</table>\n",
       "</div>"
      ],
      "text/plain": [
       "             Writer name  Average Rating category   genres\n",
       "9   Purushottam Darvekar             8.8   writer  Musical\n",
       "10       Prakash Kapadia             8.8   writer  Musical\n",
       "11      Harvey Fierstein             8.5   writer  Musical\n",
       "12          Bob Tzudiker             8.5   writer  Musical\n",
       "13            Noni White             8.5   writer  Musical\n",
       "3        Gilles Marchand             6.1   writer  Musical\n",
       "4       Pierre De Clercq             6.0   writer  Musical\n",
       "5       Heather Ravarino             5.3   writer  Musical\n",
       "6         Lex de Azevedo             5.3   writer  Musical\n",
       "7     Douglas C. Stewart             5.3   writer  Musical"
      ]
     },
     "execution_count": 621,
     "metadata": {},
     "output_type": "execute_result"
    }
   ],
   "source": [
    "top_ten_musical_writers"
   ]
  },
  {
   "cell_type": "code",
   "execution_count": 203,
   "metadata": {},
   "outputs": [
    {
     "data": {
      "text/html": [
       "<div>\n",
       "<style scoped>\n",
       "    .dataframe tbody tr th:only-of-type {\n",
       "        vertical-align: middle;\n",
       "    }\n",
       "\n",
       "    .dataframe tbody tr th {\n",
       "        vertical-align: top;\n",
       "    }\n",
       "\n",
       "    .dataframe thead th {\n",
       "        text-align: right;\n",
       "    }\n",
       "</style>\n",
       "<table border=\"1\" class=\"dataframe\">\n",
       "  <thead>\n",
       "    <tr style=\"text-align: right;\">\n",
       "      <th></th>\n",
       "      <th>type</th>\n",
       "      <th>name</th>\n",
       "      <th>tbl_name</th>\n",
       "      <th>rootpage</th>\n",
       "      <th>sql</th>\n",
       "    </tr>\n",
       "  </thead>\n",
       "  <tbody>\n",
       "    <tr>\n",
       "      <th>0</th>\n",
       "      <td>table</td>\n",
       "      <td>movie_basics</td>\n",
       "      <td>movie_basics</td>\n",
       "      <td>2</td>\n",
       "      <td>CREATE TABLE \"movie_basics\" (\\n\"movie_id\" TEXT...</td>\n",
       "    </tr>\n",
       "    <tr>\n",
       "      <th>1</th>\n",
       "      <td>table</td>\n",
       "      <td>directors</td>\n",
       "      <td>directors</td>\n",
       "      <td>3</td>\n",
       "      <td>CREATE TABLE \"directors\" (\\n\"movie_id\" TEXT,\\n...</td>\n",
       "    </tr>\n",
       "    <tr>\n",
       "      <th>2</th>\n",
       "      <td>table</td>\n",
       "      <td>known_for</td>\n",
       "      <td>known_for</td>\n",
       "      <td>4</td>\n",
       "      <td>CREATE TABLE \"known_for\" (\\n\"person_id\" TEXT,\\...</td>\n",
       "    </tr>\n",
       "    <tr>\n",
       "      <th>3</th>\n",
       "      <td>table</td>\n",
       "      <td>movie_akas</td>\n",
       "      <td>movie_akas</td>\n",
       "      <td>5</td>\n",
       "      <td>CREATE TABLE \"movie_akas\" (\\n\"movie_id\" TEXT,\\...</td>\n",
       "    </tr>\n",
       "    <tr>\n",
       "      <th>4</th>\n",
       "      <td>table</td>\n",
       "      <td>movie_ratings</td>\n",
       "      <td>movie_ratings</td>\n",
       "      <td>6</td>\n",
       "      <td>CREATE TABLE \"movie_ratings\" (\\n\"movie_id\" TEX...</td>\n",
       "    </tr>\n",
       "    <tr>\n",
       "      <th>5</th>\n",
       "      <td>table</td>\n",
       "      <td>persons</td>\n",
       "      <td>persons</td>\n",
       "      <td>7</td>\n",
       "      <td>CREATE TABLE \"persons\" (\\n\"person_id\" TEXT,\\n ...</td>\n",
       "    </tr>\n",
       "    <tr>\n",
       "      <th>6</th>\n",
       "      <td>table</td>\n",
       "      <td>principals</td>\n",
       "      <td>principals</td>\n",
       "      <td>8</td>\n",
       "      <td>CREATE TABLE \"principals\" (\\n\"movie_id\" TEXT,\\...</td>\n",
       "    </tr>\n",
       "    <tr>\n",
       "      <th>7</th>\n",
       "      <td>table</td>\n",
       "      <td>writers</td>\n",
       "      <td>writers</td>\n",
       "      <td>9</td>\n",
       "      <td>CREATE TABLE \"writers\" (\\n\"movie_id\" TEXT,\\n  ...</td>\n",
       "    </tr>\n",
       "    <tr>\n",
       "      <th>8</th>\n",
       "      <td>table</td>\n",
       "      <td>movie_budgets</td>\n",
       "      <td>movie_budgets</td>\n",
       "      <td>41369</td>\n",
       "      <td>CREATE TABLE movie_budgets(\\n  \"id\" TEXT,\\n  \"...</td>\n",
       "    </tr>\n",
       "    <tr>\n",
       "      <th>9</th>\n",
       "      <td>table</td>\n",
       "      <td>tmdb_movies</td>\n",
       "      <td>tmdb_movies</td>\n",
       "      <td>41472</td>\n",
       "      <td>CREATE TABLE tmdb_movies(\\n  \"\" TEXT,\\n  \"genr...</td>\n",
       "    </tr>\n",
       "  </tbody>\n",
       "</table>\n",
       "</div>"
      ],
      "text/plain": [
       "    type           name       tbl_name  rootpage  \\\n",
       "0  table   movie_basics   movie_basics         2   \n",
       "1  table      directors      directors         3   \n",
       "2  table      known_for      known_for         4   \n",
       "3  table     movie_akas     movie_akas         5   \n",
       "4  table  movie_ratings  movie_ratings         6   \n",
       "5  table        persons        persons         7   \n",
       "6  table     principals     principals         8   \n",
       "7  table        writers        writers         9   \n",
       "8  table  movie_budgets  movie_budgets     41369   \n",
       "9  table    tmdb_movies    tmdb_movies     41472   \n",
       "\n",
       "                                                 sql  \n",
       "0  CREATE TABLE \"movie_basics\" (\\n\"movie_id\" TEXT...  \n",
       "1  CREATE TABLE \"directors\" (\\n\"movie_id\" TEXT,\\n...  \n",
       "2  CREATE TABLE \"known_for\" (\\n\"person_id\" TEXT,\\...  \n",
       "3  CREATE TABLE \"movie_akas\" (\\n\"movie_id\" TEXT,\\...  \n",
       "4  CREATE TABLE \"movie_ratings\" (\\n\"movie_id\" TEX...  \n",
       "5  CREATE TABLE \"persons\" (\\n\"person_id\" TEXT,\\n ...  \n",
       "6  CREATE TABLE \"principals\" (\\n\"movie_id\" TEXT,\\...  \n",
       "7  CREATE TABLE \"writers\" (\\n\"movie_id\" TEXT,\\n  ...  \n",
       "8  CREATE TABLE movie_budgets(\\n  \"id\" TEXT,\\n  \"...  \n",
       "9  CREATE TABLE tmdb_movies(\\n  \"\" TEXT,\\n  \"genr...  "
      ]
     },
     "execution_count": 203,
     "metadata": {},
     "output_type": "execute_result"
    }
   ],
   "source": [
    "pd.read_sql_query(\"SELECT * from sqlite_master;\", conn)"
   ]
  },
  {
   "cell_type": "code",
   "execution_count": 398,
   "metadata": {},
   "outputs": [],
   "source": [
    "#adding profit column"
   ]
  },
  {
   "cell_type": "code",
   "execution_count": 404,
   "metadata": {},
   "outputs": [],
   "source": [
    "tn_movie_budgets_df['Profit'] = tn_movie_budgets_df['worldwide_gross'] - tn_movie_budgets_df['production_budget']"
   ]
  },
  {
   "cell_type": "markdown",
   "metadata": {},
   "source": [
    "### gross with range of production budget"
   ]
  },
  {
   "cell_type": "code",
   "execution_count": 405,
   "metadata": {},
   "outputs": [],
   "source": [
    "#printing df of under 100million budget"
   ]
  },
  {
   "cell_type": "code",
   "execution_count": 406,
   "metadata": {},
   "outputs": [],
   "source": [
    "under_onehundred_mill = tn_movie_budgets_df[tn_movie_budgets_df['production_budget'] <= 100000000] "
   ]
  },
  {
   "cell_type": "code",
   "execution_count": 407,
   "metadata": {},
   "outputs": [],
   "source": [
    "#printing df of between 100 and 200 million budget"
   ]
  },
  {
   "cell_type": "code",
   "execution_count": 408,
   "metadata": {},
   "outputs": [],
   "source": [
    "between_one_twohundredmill = tn_movie_budgets_df[tn_movie_budgets_df['production_budget'].between(100000001, 200000000)] "
   ]
  },
  {
   "cell_type": "code",
   "execution_count": 411,
   "metadata": {},
   "outputs": [],
   "source": [
    "#printing df of between 200 and 300 million budget"
   ]
  },
  {
   "cell_type": "code",
   "execution_count": 412,
   "metadata": {},
   "outputs": [],
   "source": [
    "between_two_threehundredmill = tn_movie_budgets_df[tn_movie_budgets_df['production_budget'].between(200000001, 300000000)] "
   ]
  },
  {
   "cell_type": "code",
   "execution_count": 414,
   "metadata": {},
   "outputs": [],
   "source": [
    "#printing df of between 300 and 400 million budget"
   ]
  },
  {
   "cell_type": "code",
   "execution_count": 415,
   "metadata": {},
   "outputs": [],
   "source": [
    "between_three_fourhundredmill = tn_movie_budgets_df[tn_movie_budgets_df['production_budget'].between(300000001, 400000000)]"
   ]
  },
  {
   "cell_type": "code",
   "execution_count": 417,
   "metadata": {},
   "outputs": [],
   "source": [
    "#printing df of between 400 and 500 million budget"
   ]
  },
  {
   "cell_type": "code",
   "execution_count": 418,
   "metadata": {},
   "outputs": [],
   "source": [
    "between_four_fivehundredmill = tn_movie_budgets_df[tn_movie_budgets_df['production_budget'].between(400000001, 500000000)]"
   ]
  },
  {
   "cell_type": "code",
   "execution_count": 524,
   "metadata": {},
   "outputs": [
    {
     "data": {
      "text/html": [
       "<div>\n",
       "<style scoped>\n",
       "    .dataframe tbody tr th:only-of-type {\n",
       "        vertical-align: middle;\n",
       "    }\n",
       "\n",
       "    .dataframe tbody tr th {\n",
       "        vertical-align: top;\n",
       "    }\n",
       "\n",
       "    .dataframe thead th {\n",
       "        text-align: right;\n",
       "    }\n",
       "</style>\n",
       "<table border=\"1\" class=\"dataframe\">\n",
       "  <thead>\n",
       "    <tr style=\"text-align: right;\">\n",
       "      <th></th>\n",
       "      <th>id</th>\n",
       "      <th>release_date</th>\n",
       "      <th>movie</th>\n",
       "      <th>production_budget</th>\n",
       "      <th>domestic_gross</th>\n",
       "      <th>worldwide_gross</th>\n",
       "      <th>Profit</th>\n",
       "    </tr>\n",
       "  </thead>\n",
       "  <tbody>\n",
       "    <tr>\n",
       "      <th>0</th>\n",
       "      <td>1</td>\n",
       "      <td>Dec</td>\n",
       "      <td>Avatar</td>\n",
       "      <td>425000000</td>\n",
       "      <td>760507625</td>\n",
       "      <td>2776345279</td>\n",
       "      <td>2351345279</td>\n",
       "    </tr>\n",
       "    <tr>\n",
       "      <th>1</th>\n",
       "      <td>2</td>\n",
       "      <td>May</td>\n",
       "      <td>Pirates of the Caribbean: On Stranger Tides</td>\n",
       "      <td>410600000</td>\n",
       "      <td>241063875</td>\n",
       "      <td>1045663875</td>\n",
       "      <td>635063875</td>\n",
       "    </tr>\n",
       "  </tbody>\n",
       "</table>\n",
       "</div>"
      ],
      "text/plain": [
       "   id release_date                                        movie  \\\n",
       "0   1          Dec                                       Avatar   \n",
       "1   2          May  Pirates of the Caribbean: On Stranger Tides   \n",
       "\n",
       "   production_budget domestic_gross  worldwide_gross      Profit  \n",
       "0          425000000      760507625       2776345279  2351345279  \n",
       "1          410600000      241063875       1045663875   635063875  "
      ]
     },
     "execution_count": 524,
     "metadata": {},
     "output_type": "execute_result"
    }
   ],
   "source": [
    "between_four_fivehundredmill"
   ]
  },
  {
   "cell_type": "code",
   "execution_count": 420,
   "metadata": {},
   "outputs": [],
   "source": [
    "average_gross_per_hundredmill = []"
   ]
  },
  {
   "cell_type": "code",
   "execution_count": 421,
   "metadata": {},
   "outputs": [
    {
     "data": {
      "text/plain": [
       "[]"
      ]
     },
     "execution_count": 421,
     "metadata": {},
     "output_type": "execute_result"
    }
   ],
   "source": [
    "average_gross_per_hundredmill"
   ]
  },
  {
   "cell_type": "code",
   "execution_count": 422,
   "metadata": {},
   "outputs": [],
   "source": [
    "# average gross of movies with budget under 100mill"
   ]
  },
  {
   "cell_type": "code",
   "execution_count": 423,
   "metadata": {},
   "outputs": [],
   "source": [
    "under_onehundred_mill_avg = under_onehundred_mill['worldwide_gross'].mean()\n",
    "average_gross_per_hundredmill.append(under_onehundred_mill_avg)"
   ]
  },
  {
   "cell_type": "code",
   "execution_count": 424,
   "metadata": {},
   "outputs": [],
   "source": [
    "#average gross of all movies with budget between one and two hundred million"
   ]
  },
  {
   "cell_type": "code",
   "execution_count": 425,
   "metadata": {},
   "outputs": [],
   "source": [
    "between_one_twohundredmill_avg = between_one_twohundredmill['worldwide_gross'].mean()\n",
    "average_gross_per_hundredmill.append(between_one_twohundredmill_avg)"
   ]
  },
  {
   "cell_type": "code",
   "execution_count": 426,
   "metadata": {},
   "outputs": [],
   "source": [
    "#average gross of all moves with a budget between two and three hundred million"
   ]
  },
  {
   "cell_type": "code",
   "execution_count": 427,
   "metadata": {},
   "outputs": [],
   "source": [
    "between_two_threehundredmill_avg = between_two_threehundredmill['worldwide_gross'].mean()\n",
    "average_gross_per_hundredmill.append(between_two_threehundredmill_avg)"
   ]
  },
  {
   "cell_type": "code",
   "execution_count": 428,
   "metadata": {},
   "outputs": [],
   "source": [
    "#average gross of movies with a budget between three and four hundred million"
   ]
  },
  {
   "cell_type": "code",
   "execution_count": 429,
   "metadata": {},
   "outputs": [],
   "source": [
    "between_three_fourhundredmill_avg = between_three_fourhundredmill['worldwide_gross'].mean()\n",
    "average_gross_per_hundredmill.append(between_three_fourhundredmill_avg)"
   ]
  },
  {
   "cell_type": "code",
   "execution_count": 430,
   "metadata": {},
   "outputs": [
    {
     "data": {
      "text/plain": [
       "1230702320.0"
      ]
     },
     "execution_count": 430,
     "metadata": {},
     "output_type": "execute_result"
    }
   ],
   "source": [
    "between_three_fourhundredmill_avg"
   ]
  },
  {
   "cell_type": "code",
   "execution_count": 431,
   "metadata": {},
   "outputs": [],
   "source": [
    "#average gross of movies with a budget between four and five hundred million"
   ]
  },
  {
   "cell_type": "code",
   "execution_count": 432,
   "metadata": {},
   "outputs": [],
   "source": [
    "between_four_fivehundredmill_avg = between_four_fivehundredmill['worldwide_gross'].mean()\n",
    "average_gross_per_hundredmill.append(between_four_fivehundredmill_avg)"
   ]
  },
  {
   "cell_type": "code",
   "execution_count": 433,
   "metadata": {},
   "outputs": [
    {
     "data": {
      "text/plain": [
       "1911004577.0"
      ]
     },
     "execution_count": 433,
     "metadata": {},
     "output_type": "execute_result"
    }
   ],
   "source": [
    "between_four_fivehundredmill_avg"
   ]
  },
  {
   "cell_type": "code",
   "execution_count": 434,
   "metadata": {},
   "outputs": [],
   "source": [
    "budget_range = ['Under 100 million', 'Between 100 and 200 million', 'Between 200 and 300 million', 'Between 300 and 400 million', 'Between 400 and 500 million']\n",
    "#creating list of column names of ranges"
   ]
  },
  {
   "cell_type": "code",
   "execution_count": 492,
   "metadata": {},
   "outputs": [],
   "source": [
    "average_gross_profit = pd.DataFrame(list(zip(budget_range, average_gross_per_hundredmill)))\n",
    "#creating dataframe with lists of budget range and average gross per hundred mill"
   ]
  },
  {
   "cell_type": "code",
   "execution_count": 493,
   "metadata": {},
   "outputs": [],
   "source": [
    "average_gross_profit.columns = ['Budget Range', 'Average Gross']\n",
    "#creating column names"
   ]
  },
  {
   "cell_type": "code",
   "execution_count": 525,
   "metadata": {},
   "outputs": [
    {
     "data": {
      "text/html": [
       "<div>\n",
       "<style scoped>\n",
       "    .dataframe tbody tr th:only-of-type {\n",
       "        vertical-align: middle;\n",
       "    }\n",
       "\n",
       "    .dataframe tbody tr th {\n",
       "        vertical-align: top;\n",
       "    }\n",
       "\n",
       "    .dataframe thead th {\n",
       "        text-align: right;\n",
       "    }\n",
       "</style>\n",
       "<table border=\"1\" class=\"dataframe\">\n",
       "  <thead>\n",
       "    <tr style=\"text-align: right;\">\n",
       "      <th></th>\n",
       "      <th>Budget Range</th>\n",
       "      <th>Average Gross</th>\n",
       "      <th>Average Profit</th>\n",
       "    </tr>\n",
       "  </thead>\n",
       "  <tbody>\n",
       "    <tr>\n",
       "      <th>0</th>\n",
       "      <td>Under 100 million</td>\n",
       "      <td>67730813</td>\n",
       "      <td>43393439</td>\n",
       "    </tr>\n",
       "    <tr>\n",
       "      <th>1</th>\n",
       "      <td>Between 100 and 200 million</td>\n",
       "      <td>466671564</td>\n",
       "      <td>321039476</td>\n",
       "    </tr>\n",
       "    <tr>\n",
       "      <th>2</th>\n",
       "      <td>Between 200 and 300 million</td>\n",
       "      <td>805437307</td>\n",
       "      <td>562608736</td>\n",
       "    </tr>\n",
       "    <tr>\n",
       "      <th>3</th>\n",
       "      <td>Between 300 and 400 million</td>\n",
       "      <td>1230702320</td>\n",
       "      <td>904802320</td>\n",
       "    </tr>\n",
       "    <tr>\n",
       "      <th>4</th>\n",
       "      <td>Between 400 and 500 million</td>\n",
       "      <td>1911004577</td>\n",
       "      <td>1493204577</td>\n",
       "    </tr>\n",
       "  </tbody>\n",
       "</table>\n",
       "</div>"
      ],
      "text/plain": [
       "                  Budget Range  Average Gross  Average Profit\n",
       "0            Under 100 million       67730813        43393439\n",
       "1  Between 100 and 200 million      466671564       321039476\n",
       "2  Between 200 and 300 million      805437307       562608736\n",
       "3  Between 300 and 400 million     1230702320       904802320\n",
       "4  Between 400 and 500 million     1911004577      1493204577"
      ]
     },
     "execution_count": 525,
     "metadata": {},
     "output_type": "execute_result"
    }
   ],
   "source": [
    "average_gross_profit"
   ]
  },
  {
   "cell_type": "code",
   "execution_count": 494,
   "metadata": {},
   "outputs": [],
   "source": [
    "average_gross_profit['Average Gross'] = average_gross_profit['Average Gross'].astype('int64')\n",
    "#changing datatype of average gross to integer64"
   ]
  },
  {
   "cell_type": "code",
   "execution_count": 495,
   "metadata": {},
   "outputs": [
    {
     "data": {
      "image/png": "[encoded data removed]",
      "text/plain": [
       "<Figure size 432x288 with 1 Axes>"
      ]
     },
     "metadata": {},
     "output_type": "display_data"
    }
   ],
   "source": [
    "sns.barplot(x=\"Average Gross\", y=\"Budget Range\", data=average_gross_profit.reset_index(), color='Blue')\n",
    "\n",
    "plt.ylabel('Budget Range (100 million)')\n",
    "plt.xlabel('Average Gross of Production Range in Billions')\n",
    "plt.title('Average Gross Per 100 million Budget')\n",
    "plt.ticklabel_format(style='sci', axis='x', scilimits=(9,9))"
   ]
  },
  {
   "cell_type": "markdown",
   "metadata": {},
   "source": [
    "### Profit vs budget"
   ]
  },
  {
   "cell_type": "code",
   "execution_count": 496,
   "metadata": {},
   "outputs": [],
   "source": [
    "avg_profit_per_hundred_mill = []# create new avg profit list"
   ]
  },
  {
   "cell_type": "code",
   "execution_count": 497,
   "metadata": {},
   "outputs": [],
   "source": [
    "#avg profit of movies under 100 million budget"
   ]
  },
  {
   "cell_type": "code",
   "execution_count": 498,
   "metadata": {},
   "outputs": [],
   "source": [
    "under_100mill_avg_profit = under_onehundred_mill['Profit'].mean()\n",
    "avg_profit_per_hundred_mill.append(under_100mill_avg_profit)"
   ]
  },
  {
   "cell_type": "code",
   "execution_count": 499,
   "metadata": {},
   "outputs": [
    {
     "data": {
      "text/plain": [
       "43393439.486047894"
      ]
     },
     "execution_count": 499,
     "metadata": {},
     "output_type": "execute_result"
    }
   ],
   "source": [
    "under_100mill_avg_profit"
   ]
  },
  {
   "cell_type": "code",
   "execution_count": 500,
   "metadata": {},
   "outputs": [],
   "source": [
    "#avg profit movies between 100 million and 200 million budget"
   ]
  },
  {
   "cell_type": "code",
   "execution_count": 501,
   "metadata": {},
   "outputs": [],
   "source": [
    "between_one_twohundredmill_avg_profit = between_one_twohundredmill['Profit'].mean()\n",
    "avg_profit_per_hundred_mill.append(between_one_twohundredmill_avg_profit)"
   ]
  },
  {
   "cell_type": "code",
   "execution_count": 502,
   "metadata": {},
   "outputs": [
    {
     "data": {
      "text/plain": [
       "321039476.89096576"
      ]
     },
     "execution_count": 502,
     "metadata": {},
     "output_type": "execute_result"
    }
   ],
   "source": [
    "between_one_twohundredmill_avg_profit"
   ]
  },
  {
   "cell_type": "code",
   "execution_count": 503,
   "metadata": {},
   "outputs": [],
   "source": [
    "#avg profit movies between 200 million and 300 million budget"
   ]
  },
  {
   "cell_type": "code",
   "execution_count": 504,
   "metadata": {},
   "outputs": [],
   "source": [
    "between_two_threehundredmill_avg_profit = between_two_threehundredmill['Profit'].mean()\n",
    "avg_profit_per_hundred_mill.append(between_two_threehundredmill_avg_profit)"
   ]
  },
  {
   "cell_type": "code",
   "execution_count": 505,
   "metadata": {},
   "outputs": [
    {
     "data": {
      "text/plain": [
       "562608736.2857143"
      ]
     },
     "execution_count": 505,
     "metadata": {},
     "output_type": "execute_result"
    }
   ],
   "source": [
    "between_two_threehundredmill_avg_profit"
   ]
  },
  {
   "cell_type": "code",
   "execution_count": 506,
   "metadata": {},
   "outputs": [],
   "source": [
    "#avg profit movies between 300 million and 400 million budget"
   ]
  },
  {
   "cell_type": "code",
   "execution_count": 507,
   "metadata": {},
   "outputs": [],
   "source": [
    "between_three_fourhundredmill_avg_profit = between_three_fourhundredmill['Profit'].mean()\n",
    "avg_profit_per_hundred_mill.append(between_three_fourhundredmill_avg_profit)"
   ]
  },
  {
   "cell_type": "code",
   "execution_count": 508,
   "metadata": {},
   "outputs": [
    {
     "data": {
      "text/plain": [
       "904802320.0"
      ]
     },
     "execution_count": 508,
     "metadata": {},
     "output_type": "execute_result"
    }
   ],
   "source": [
    "between_three_fourhundredmill_avg_profit"
   ]
  },
  {
   "cell_type": "code",
   "execution_count": 509,
   "metadata": {},
   "outputs": [],
   "source": [
    "#avg profit movies between 400 million and 500 million budget"
   ]
  },
  {
   "cell_type": "code",
   "execution_count": 510,
   "metadata": {},
   "outputs": [],
   "source": [
    "between_four_fivehundredmill_avg_profit = between_four_fivehundredmill['Profit'].mean()\n",
    "avg_profit_per_hundred_mill.append(between_four_fivehundredmill_avg_profit)"
   ]
  },
  {
   "cell_type": "code",
   "execution_count": 511,
   "metadata": {},
   "outputs": [
    {
     "data": {
      "text/plain": [
       "1493204577.0"
      ]
     },
     "execution_count": 511,
     "metadata": {},
     "output_type": "execute_result"
    }
   ],
   "source": [
    "between_four_fivehundredmill_avg_profit"
   ]
  },
  {
   "cell_type": "code",
   "execution_count": 512,
   "metadata": {},
   "outputs": [
    {
     "data": {
      "text/plain": [
       "[43393439.486047894,\n",
       " 321039476.89096576,\n",
       " 562608736.2857143,\n",
       " 904802320.0,\n",
       " 1493204577.0]"
      ]
     },
     "execution_count": 512,
     "metadata": {},
     "output_type": "execute_result"
    }
   ],
   "source": [
    "avg_profit_per_hundred_mill"
   ]
  },
  {
   "cell_type": "code",
   "execution_count": 513,
   "metadata": {},
   "outputs": [],
   "source": [
    "average_gross_profit['Average Profit'] = avg_profit_per_hundred_mill"
   ]
  },
  {
   "cell_type": "code",
   "execution_count": 514,
   "metadata": {},
   "outputs": [],
   "source": [
    "average_gross_profit['Average Profit'] = average_gross_profit['Average Profit'].astype('int64')"
   ]
  },
  {
   "cell_type": "code",
   "execution_count": 515,
   "metadata": {},
   "outputs": [
    {
     "data": {
      "text/html": [
       "<div>\n",
       "<style scoped>\n",
       "    .dataframe tbody tr th:only-of-type {\n",
       "        vertical-align: middle;\n",
       "    }\n",
       "\n",
       "    .dataframe tbody tr th {\n",
       "        vertical-align: top;\n",
       "    }\n",
       "\n",
       "    .dataframe thead th {\n",
       "        text-align: right;\n",
       "    }\n",
       "</style>\n",
       "<table border=\"1\" class=\"dataframe\">\n",
       "  <thead>\n",
       "    <tr style=\"text-align: right;\">\n",
       "      <th></th>\n",
       "      <th>Budget Range</th>\n",
       "      <th>Average Gross</th>\n",
       "      <th>Average Profit</th>\n",
       "    </tr>\n",
       "  </thead>\n",
       "  <tbody>\n",
       "    <tr>\n",
       "      <th>0</th>\n",
       "      <td>Under 100 million</td>\n",
       "      <td>67730813</td>\n",
       "      <td>43393439</td>\n",
       "    </tr>\n",
       "    <tr>\n",
       "      <th>1</th>\n",
       "      <td>Between 100 and 200 million</td>\n",
       "      <td>466671564</td>\n",
       "      <td>321039476</td>\n",
       "    </tr>\n",
       "    <tr>\n",
       "      <th>2</th>\n",
       "      <td>Between 200 and 300 million</td>\n",
       "      <td>805437307</td>\n",
       "      <td>562608736</td>\n",
       "    </tr>\n",
       "    <tr>\n",
       "      <th>3</th>\n",
       "      <td>Between 300 and 400 million</td>\n",
       "      <td>1230702320</td>\n",
       "      <td>904802320</td>\n",
       "    </tr>\n",
       "    <tr>\n",
       "      <th>4</th>\n",
       "      <td>Between 400 and 500 million</td>\n",
       "      <td>1911004577</td>\n",
       "      <td>1493204577</td>\n",
       "    </tr>\n",
       "  </tbody>\n",
       "</table>\n",
       "</div>"
      ],
      "text/plain": [
       "                  Budget Range  Average Gross  Average Profit\n",
       "0            Under 100 million       67730813        43393439\n",
       "1  Between 100 and 200 million      466671564       321039476\n",
       "2  Between 200 and 300 million      805437307       562608736\n",
       "3  Between 300 and 400 million     1230702320       904802320\n",
       "4  Between 400 and 500 million     1911004577      1493204577"
      ]
     },
     "execution_count": 515,
     "metadata": {},
     "output_type": "execute_result"
    }
   ],
   "source": [
    "average_gross_profit"
   ]
  },
  {
   "cell_type": "code",
   "execution_count": 521,
   "metadata": {},
   "outputs": [
    {
     "data": {
      "text/plain": [
       "Text(0.5, 1.0, 'Average Profit per 100 million dollar budget range')"
      ]
     },
     "execution_count": 521,
     "metadata": {},
     "output_type": "execute_result"
    },
    {
     "data": {
      "image/png": "[encoded data removed]",
      "text/plain": [
       "<Figure size 432x288 with 1 Axes>"
      ]
     },
     "metadata": {},
     "output_type": "display_data"
    }
   ],
   "source": [
    "sns.barplot(x = 'Average Profit',\n",
    "            y = 'Budget Range',\n",
    "            data = average_gross_profit,\n",
    "            color = \"Blue\")\n",
    "\n",
    "\n",
    "plt.xlabel('Average Profit of Production Range in Billions')\n",
    "plt.ylabel('Budget Range (100 million)')\n",
    "plt.title('Average Profit per 100 million dollar budget range')"
   ]
  },
  {
   "cell_type": "markdown",
   "metadata": {},
   "source": [
    "###  Month of release vs average profit"
   ]
  },
  {
   "cell_type": "code",
   "execution_count": 653,
   "metadata": {},
   "outputs": [],
   "source": [
    "avg_month_profit = []"
   ]
  },
  {
   "cell_type": "code",
   "execution_count": 654,
   "metadata": {},
   "outputs": [],
   "source": [
    "months = ['Jan', 'Feb', 'Mar', 'Apr', 'May', 'Jun', 'Jul', 'Aug', 'Sept', 'Oct', 'Nov', 'Dec']"
   ]
  },
  {
   "cell_type": "code",
   "execution_count": 655,
   "metadata": {},
   "outputs": [],
   "source": [
    "jan_profit = tn_movie_budgets_df[tn_movie_budgets_df['release_date'] == 'Jan']# df with only release date of january\n",
    "jan_avg_profit = jan_profit['Profit'].mean()\n",
    "avg_month_profit.append(jan_avg_profit)"
   ]
  },
  {
   "cell_type": "code",
   "execution_count": 745,
   "metadata": {},
   "outputs": [
    {
     "data": {
      "text/plain": [
       "id                   328\n",
       "release_date         328\n",
       "movie                328\n",
       "production_budget    328\n",
       "domestic_gross       328\n",
       "worldwide_gross      328\n",
       "Profit               328\n",
       "dtype: int64"
      ]
     },
     "execution_count": 745,
     "metadata": {},
     "output_type": "execute_result"
    }
   ],
   "source": [
    "jan_profit.count()"
   ]
  },
  {
   "cell_type": "code",
   "execution_count": 656,
   "metadata": {},
   "outputs": [
    {
     "data": {
      "text/plain": [
       "27481054.68292683"
      ]
     },
     "execution_count": 656,
     "metadata": {},
     "output_type": "execute_result"
    }
   ],
   "source": [
    "jan_avg_profit"
   ]
  },
  {
   "cell_type": "code",
   "execution_count": 657,
   "metadata": {},
   "outputs": [],
   "source": [
    "feb_profit = tn_movie_budgets_df[tn_movie_budgets_df['release_date'] == 'Feb']# df with only release date of February\n",
    "feb_avg_profit = feb_profit['Profit'].mean()\n",
    "avg_month_profit.append(feb_avg_profit)"
   ]
  },
  {
   "cell_type": "code",
   "execution_count": 746,
   "metadata": {},
   "outputs": [
    {
     "data": {
      "text/plain": [
       "id                   370\n",
       "release_date         370\n",
       "movie                370\n",
       "production_budget    370\n",
       "domestic_gross       370\n",
       "worldwide_gross      370\n",
       "Profit               370\n",
       "dtype: int64"
      ]
     },
     "execution_count": 746,
     "metadata": {},
     "output_type": "execute_result"
    }
   ],
   "source": [
    "feb_profit.count()"
   ]
  },
  {
   "cell_type": "code",
   "execution_count": 658,
   "metadata": {},
   "outputs": [
    {
     "data": {
      "text/plain": [
       "46604886.145945944"
      ]
     },
     "execution_count": 658,
     "metadata": {},
     "output_type": "execute_result"
    }
   ],
   "source": [
    "feb_avg_profit"
   ]
  },
  {
   "cell_type": "code",
   "execution_count": 659,
   "metadata": {},
   "outputs": [],
   "source": [
    "mar_profit = tn_movie_budgets_df[tn_movie_budgets_df['release_date'] == 'Mar']# df with only release date of March\n",
    "mar_avg_profit = mar_profit['Profit'].mean()\n",
    "avg_month_profit.append(mar_avg_profit)"
   ]
  },
  {
   "cell_type": "code",
   "execution_count": 660,
   "metadata": {},
   "outputs": [
    {
     "data": {
      "text/plain": [
       "53451599.05227273"
      ]
     },
     "execution_count": 660,
     "metadata": {},
     "output_type": "execute_result"
    }
   ],
   "source": [
    "mar_avg_profit"
   ]
  },
  {
   "cell_type": "code",
   "execution_count": 661,
   "metadata": {},
   "outputs": [],
   "source": [
    "apr_profit = tn_movie_budgets_df[tn_movie_budgets_df['release_date'] == 'Apr']# df with only release date of April\n",
    "apr_avg_profit = apr_profit['Profit'].mean()\n",
    "avg_month_profit.append(apr_avg_profit)"
   ]
  },
  {
   "cell_type": "code",
   "execution_count": 662,
   "metadata": {},
   "outputs": [
    {
     "data": {
      "text/plain": [
       "38033596.74364896"
      ]
     },
     "execution_count": 662,
     "metadata": {},
     "output_type": "execute_result"
    }
   ],
   "source": [
    "apr_avg_profit"
   ]
  },
  {
   "cell_type": "code",
   "execution_count": 663,
   "metadata": {},
   "outputs": [],
   "source": [
    "may_profit = tn_movie_budgets_df[tn_movie_budgets_df['release_date'] == 'May']# df with only release date of may\n",
    "may_avg_profit = may_profit['Profit'].mean()\n",
    "avg_month_profit.append(may_avg_profit)"
   ]
  },
  {
   "cell_type": "code",
   "execution_count": 664,
   "metadata": {},
   "outputs": [
    {
     "data": {
      "text/plain": [
       "119363697.24936387"
      ]
     },
     "execution_count": 664,
     "metadata": {},
     "output_type": "execute_result"
    }
   ],
   "source": [
    "may_avg_profit"
   ]
  },
  {
   "cell_type": "code",
   "execution_count": 665,
   "metadata": {},
   "outputs": [],
   "source": [
    "jun_profit = tn_movie_budgets_df[tn_movie_budgets_df['release_date'] == 'Jun']# df with only release date of june\n",
    "jun_avg_profit = jun_profit['Profit'].mean()\n",
    "avg_month_profit.append(jun_avg_profit)"
   ]
  },
  {
   "cell_type": "code",
   "execution_count": 666,
   "metadata": {},
   "outputs": [
    {
     "data": {
      "text/plain": [
       "103891329.72984749"
      ]
     },
     "execution_count": 666,
     "metadata": {},
     "output_type": "execute_result"
    }
   ],
   "source": [
    "jun_avg_profit"
   ]
  },
  {
   "cell_type": "code",
   "execution_count": 667,
   "metadata": {},
   "outputs": [],
   "source": [
    "jul_profit = tn_movie_budgets_df[tn_movie_budgets_df['release_date'] == 'Jul']# df with only release date of july\n",
    "jul_avg_profit = jul_profit['Profit'].mean()\n",
    "avg_month_profit.append(jul_avg_profit)"
   ]
  },
  {
   "cell_type": "code",
   "execution_count": 668,
   "metadata": {},
   "outputs": [
    {
     "data": {
      "text/plain": [
       "102265411.50471698"
      ]
     },
     "execution_count": 668,
     "metadata": {},
     "output_type": "execute_result"
    }
   ],
   "source": [
    "jul_avg_profit"
   ]
  },
  {
   "cell_type": "code",
   "execution_count": 669,
   "metadata": {},
   "outputs": [],
   "source": [
    "aug_profit = tn_movie_budgets_df[tn_movie_budgets_df['release_date'] == 'Aug']# df with only release date of august\n",
    "aug_avg_profit = aug_profit['Profit'].mean()\n",
    "avg_month_profit.append(aug_avg_profit)"
   ]
  },
  {
   "cell_type": "code",
   "execution_count": 670,
   "metadata": {},
   "outputs": [
    {
     "data": {
      "text/plain": [
       "37484949.60042283"
      ]
     },
     "execution_count": 670,
     "metadata": {},
     "output_type": "execute_result"
    }
   ],
   "source": [
    "aug_avg_profit"
   ]
  },
  {
   "cell_type": "code",
   "execution_count": 671,
   "metadata": {},
   "outputs": [],
   "source": [
    "sep_profit = tn_movie_budgets_df[tn_movie_budgets_df['release_date'] == 'Sep']# df with only release date of september\n",
    "sep_avg_profit = sep_profit['Profit'].mean()\n",
    "avg_month_profit.append(sep_avg_profit)"
   ]
  },
  {
   "cell_type": "code",
   "execution_count": 672,
   "metadata": {},
   "outputs": [
    {
     "data": {
      "text/plain": [
       "26675599.240343347"
      ]
     },
     "execution_count": 672,
     "metadata": {},
     "output_type": "execute_result"
    }
   ],
   "source": [
    "sep_avg_profit"
   ]
  },
  {
   "cell_type": "code",
   "execution_count": 673,
   "metadata": {},
   "outputs": [],
   "source": [
    "oct_profit = tn_movie_budgets_df[tn_movie_budgets_df['release_date'] == 'Oct']# df with only release date of october\n",
    "oct_avg_profit = oct_profit['Profit'].mean()\n",
    "avg_month_profit.append(oct_avg_profit)"
   ]
  },
  {
   "cell_type": "code",
   "execution_count": 674,
   "metadata": {},
   "outputs": [
    {
     "data": {
      "text/plain": [
       "30915656.58118081"
      ]
     },
     "execution_count": 674,
     "metadata": {},
     "output_type": "execute_result"
    }
   ],
   "source": [
    "oct_avg_profit"
   ]
  },
  {
   "cell_type": "code",
   "execution_count": 675,
   "metadata": {},
   "outputs": [],
   "source": [
    "nov_profit = tn_movie_budgets_df[tn_movie_budgets_df['release_date'] == 'Nov']# df with only release date of november\n",
    "nov_avg_profit = nov_profit['Profit'].mean()\n",
    "avg_month_profit.append(nov_avg_profit)"
   ]
  },
  {
   "cell_type": "code",
   "execution_count": 676,
   "metadata": {},
   "outputs": [
    {
     "data": {
      "text/plain": [
       "97593712.35193133"
      ]
     },
     "execution_count": 676,
     "metadata": {},
     "output_type": "execute_result"
    }
   ],
   "source": [
    "nov_avg_profit"
   ]
  },
  {
   "cell_type": "code",
   "execution_count": 677,
   "metadata": {},
   "outputs": [],
   "source": [
    "dec_profit = tn_movie_budgets_df[tn_movie_budgets_df['release_date'] == 'Dec']# df with only release date of december\n",
    "dec_avg_profit = dec_profit['Profit'].mean()\n",
    "avg_month_profit.append(dec_avg_profit)"
   ]
  },
  {
   "cell_type": "code",
   "execution_count": 678,
   "metadata": {},
   "outputs": [
    {
     "data": {
      "text/plain": [
       "83768191.87278584"
      ]
     },
     "execution_count": 678,
     "metadata": {},
     "output_type": "execute_result"
    }
   ],
   "source": [
    "dec_avg_profit"
   ]
  },
  {
   "cell_type": "code",
   "execution_count": 679,
   "metadata": {},
   "outputs": [
    {
     "data": {
      "text/plain": [
       "[27481054.68292683,\n",
       " 46604886.145945944,\n",
       " 53451599.05227273,\n",
       " 38033596.74364896,\n",
       " 119363697.24936387,\n",
       " 103891329.72984749,\n",
       " 102265411.50471698,\n",
       " 37484949.60042283,\n",
       " 26675599.240343347,\n",
       " 30915656.58118081,\n",
       " 97593712.35193133,\n",
       " 83768191.87278584]"
      ]
     },
     "execution_count": 679,
     "metadata": {},
     "output_type": "execute_result"
    }
   ],
   "source": [
    "avg_month_profit"
   ]
  },
  {
   "cell_type": "code",
   "execution_count": 691,
   "metadata": {},
   "outputs": [],
   "source": [
    "monthly_profit = pd.DataFrame(list(zip(months, avg_month_profit)))# creating df from lists"
   ]
  },
  {
   "cell_type": "code",
   "execution_count": 692,
   "metadata": {},
   "outputs": [],
   "source": [
    "monthly_profit.columns = ['Month of Release', 'Average Profit']\n",
    "#creating column names"
   ]
  },
  {
   "cell_type": "code",
   "execution_count": 693,
   "metadata": {},
   "outputs": [],
   "source": [
    "monthly_profit['Average Profit'] = average_monthly_profit['Average Profit'].astype('int64')"
   ]
  },
  {
   "cell_type": "code",
   "execution_count": 694,
   "metadata": {},
   "outputs": [
    {
     "data": {
      "text/html": [
       "<div>\n",
       "<style scoped>\n",
       "    .dataframe tbody tr th:only-of-type {\n",
       "        vertical-align: middle;\n",
       "    }\n",
       "\n",
       "    .dataframe tbody tr th {\n",
       "        vertical-align: top;\n",
       "    }\n",
       "\n",
       "    .dataframe thead th {\n",
       "        text-align: right;\n",
       "    }\n",
       "</style>\n",
       "<table border=\"1\" class=\"dataframe\">\n",
       "  <thead>\n",
       "    <tr style=\"text-align: right;\">\n",
       "      <th></th>\n",
       "      <th>Month of Release</th>\n",
       "      <th>Average Profit</th>\n",
       "    </tr>\n",
       "  </thead>\n",
       "  <tbody>\n",
       "    <tr>\n",
       "      <th>0</th>\n",
       "      <td>Jan</td>\n",
       "      <td>27481054</td>\n",
       "    </tr>\n",
       "    <tr>\n",
       "      <th>1</th>\n",
       "      <td>Feb</td>\n",
       "      <td>46604886</td>\n",
       "    </tr>\n",
       "    <tr>\n",
       "      <th>2</th>\n",
       "      <td>Mar</td>\n",
       "      <td>53451599</td>\n",
       "    </tr>\n",
       "    <tr>\n",
       "      <th>3</th>\n",
       "      <td>Apr</td>\n",
       "      <td>38033596</td>\n",
       "    </tr>\n",
       "    <tr>\n",
       "      <th>4</th>\n",
       "      <td>May</td>\n",
       "      <td>119363697</td>\n",
       "    </tr>\n",
       "    <tr>\n",
       "      <th>5</th>\n",
       "      <td>Jun</td>\n",
       "      <td>103891329</td>\n",
       "    </tr>\n",
       "    <tr>\n",
       "      <th>6</th>\n",
       "      <td>Jul</td>\n",
       "      <td>102265411</td>\n",
       "    </tr>\n",
       "    <tr>\n",
       "      <th>7</th>\n",
       "      <td>Aug</td>\n",
       "      <td>37484949</td>\n",
       "    </tr>\n",
       "    <tr>\n",
       "      <th>8</th>\n",
       "      <td>Sept</td>\n",
       "      <td>26675599</td>\n",
       "    </tr>\n",
       "    <tr>\n",
       "      <th>9</th>\n",
       "      <td>Oct</td>\n",
       "      <td>30915656</td>\n",
       "    </tr>\n",
       "    <tr>\n",
       "      <th>10</th>\n",
       "      <td>Nov</td>\n",
       "      <td>97593712</td>\n",
       "    </tr>\n",
       "    <tr>\n",
       "      <th>11</th>\n",
       "      <td>Dec</td>\n",
       "      <td>83768191</td>\n",
       "    </tr>\n",
       "  </tbody>\n",
       "</table>\n",
       "</div>"
      ],
      "text/plain": [
       "   Month of Release  Average Profit\n",
       "0               Jan        27481054\n",
       "1               Feb        46604886\n",
       "2               Mar        53451599\n",
       "3               Apr        38033596\n",
       "4               May       119363697\n",
       "5               Jun       103891329\n",
       "6               Jul       102265411\n",
       "7               Aug        37484949\n",
       "8              Sept        26675599\n",
       "9               Oct        30915656\n",
       "10              Nov        97593712\n",
       "11              Dec        83768191"
      ]
     },
     "execution_count": 694,
     "metadata": {},
     "output_type": "execute_result"
    }
   ],
   "source": [
    "monthly_profit"
   ]
  },
  {
   "cell_type": "code",
   "execution_count": 695,
   "metadata": {},
   "outputs": [
    {
     "data": {
      "text/plain": [
       "Text(0.5, 1.0, 'Which month makes the most money on average?')"
      ]
     },
     "execution_count": 695,
     "metadata": {},
     "output_type": "execute_result"
    },
    {
     "data": {
      "image/png": "[encoded data removed]",
      "text/plain": [
       "<Figure size 432x288 with 1 Axes>"
      ]
     },
     "metadata": {},
     "output_type": "display_data"
    }
   ],
   "source": [
    "sns.barplot(x= 'Month of Release',\n",
    "            y = 'Average Profit',\n",
    "            data = monthly_profit,\n",
    "            color = 'Blue')\n",
    "\n",
    "plt.ylabel('Average profit in billions')\n",
    "plt.xlabel('Month of release')\n",
    "plt.title('Which month makes the most money on average?')"
   ]
  },
  {
   "cell_type": "code",
   "execution_count": 698,
   "metadata": {},
   "outputs": [],
   "source": [
    "# new list with total profits per month"
   ]
  },
  {
   "cell_type": "code",
   "execution_count": 730,
   "metadata": {},
   "outputs": [],
   "source": [
    "total_monlthy_profit = pd.DataFrame(tn_movie_budgets_df.groupby('release_date')['Profit'].sum().reset_index())"
   ]
  },
  {
   "cell_type": "code",
   "execution_count": 731,
   "metadata": {},
   "outputs": [
    {
     "data": {
      "text/html": [
       "<div>\n",
       "<style scoped>\n",
       "    .dataframe tbody tr th:only-of-type {\n",
       "        vertical-align: middle;\n",
       "    }\n",
       "\n",
       "    .dataframe tbody tr th {\n",
       "        vertical-align: top;\n",
       "    }\n",
       "\n",
       "    .dataframe thead th {\n",
       "        text-align: right;\n",
       "    }\n",
       "</style>\n",
       "<table border=\"1\" class=\"dataframe\">\n",
       "  <thead>\n",
       "    <tr style=\"text-align: right;\">\n",
       "      <th></th>\n",
       "      <th>release_date</th>\n",
       "      <th>Profit</th>\n",
       "    </tr>\n",
       "  </thead>\n",
       "  <tbody>\n",
       "    <tr>\n",
       "      <th>0</th>\n",
       "      <td>Apr</td>\n",
       "      <td>16468547390</td>\n",
       "    </tr>\n",
       "    <tr>\n",
       "      <th>1</th>\n",
       "      <td>Aug</td>\n",
       "      <td>17730381161</td>\n",
       "    </tr>\n",
       "    <tr>\n",
       "      <th>2</th>\n",
       "      <td>Dec</td>\n",
       "      <td>52020047153</td>\n",
       "    </tr>\n",
       "    <tr>\n",
       "      <th>3</th>\n",
       "      <td>Feb</td>\n",
       "      <td>17243807874</td>\n",
       "    </tr>\n",
       "    <tr>\n",
       "      <th>4</th>\n",
       "      <td>Jan</td>\n",
       "      <td>9013785936</td>\n",
       "    </tr>\n",
       "    <tr>\n",
       "      <th>5</th>\n",
       "      <td>Jul</td>\n",
       "      <td>43360534478</td>\n",
       "    </tr>\n",
       "    <tr>\n",
       "      <th>6</th>\n",
       "      <td>Jun</td>\n",
       "      <td>47686120346</td>\n",
       "    </tr>\n",
       "    <tr>\n",
       "      <th>7</th>\n",
       "      <td>Mar</td>\n",
       "      <td>23518703583</td>\n",
       "    </tr>\n",
       "    <tr>\n",
       "      <th>8</th>\n",
       "      <td>May</td>\n",
       "      <td>46909933019</td>\n",
       "    </tr>\n",
       "    <tr>\n",
       "      <th>9</th>\n",
       "      <td>Nov</td>\n",
       "      <td>45478669956</td>\n",
       "    </tr>\n",
       "    <tr>\n",
       "      <th>10</th>\n",
       "      <td>Oct</td>\n",
       "      <td>16756285867</td>\n",
       "    </tr>\n",
       "    <tr>\n",
       "      <th>11</th>\n",
       "      <td>Sep</td>\n",
       "      <td>12430829246</td>\n",
       "    </tr>\n",
       "  </tbody>\n",
       "</table>\n",
       "</div>"
      ],
      "text/plain": [
       "   release_date       Profit\n",
       "0           Apr  16468547390\n",
       "1           Aug  17730381161\n",
       "2           Dec  52020047153\n",
       "3           Feb  17243807874\n",
       "4           Jan   9013785936\n",
       "5           Jul  43360534478\n",
       "6           Jun  47686120346\n",
       "7           Mar  23518703583\n",
       "8           May  46909933019\n",
       "9           Nov  45478669956\n",
       "10          Oct  16756285867\n",
       "11          Sep  12430829246"
      ]
     },
     "execution_count": 731,
     "metadata": {},
     "output_type": "execute_result"
    }
   ],
   "source": [
    "total_monlthy_profit"
   ]
  },
  {
   "cell_type": "code",
   "execution_count": 734,
   "metadata": {},
   "outputs": [],
   "source": [
    "extracted_column = total_monlthy_profit['Profit']"
   ]
  },
  {
   "cell_type": "code",
   "execution_count": 737,
   "metadata": {},
   "outputs": [],
   "source": [
    "monthly_profit['Total Profit'] = extracted_column"
   ]
  },
  {
   "cell_type": "code",
   "execution_count": 738,
   "metadata": {},
   "outputs": [
    {
     "data": {
      "text/html": [
       "<div>\n",
       "<style scoped>\n",
       "    .dataframe tbody tr th:only-of-type {\n",
       "        vertical-align: middle;\n",
       "    }\n",
       "\n",
       "    .dataframe tbody tr th {\n",
       "        vertical-align: top;\n",
       "    }\n",
       "\n",
       "    .dataframe thead th {\n",
       "        text-align: right;\n",
       "    }\n",
       "</style>\n",
       "<table border=\"1\" class=\"dataframe\">\n",
       "  <thead>\n",
       "    <tr style=\"text-align: right;\">\n",
       "      <th></th>\n",
       "      <th>Month of Release</th>\n",
       "      <th>Average Profit</th>\n",
       "      <th>Total</th>\n",
       "      <th>Total Profit</th>\n",
       "    </tr>\n",
       "  </thead>\n",
       "  <tbody>\n",
       "    <tr>\n",
       "      <th>0</th>\n",
       "      <td>Jan</td>\n",
       "      <td>27481054</td>\n",
       "      <td>Jan</td>\n",
       "      <td>16468547390</td>\n",
       "    </tr>\n",
       "    <tr>\n",
       "      <th>1</th>\n",
       "      <td>Feb</td>\n",
       "      <td>46604886</td>\n",
       "      <td>Feb</td>\n",
       "      <td>17730381161</td>\n",
       "    </tr>\n",
       "    <tr>\n",
       "      <th>2</th>\n",
       "      <td>Mar</td>\n",
       "      <td>53451599</td>\n",
       "      <td>Mar</td>\n",
       "      <td>52020047153</td>\n",
       "    </tr>\n",
       "    <tr>\n",
       "      <th>3</th>\n",
       "      <td>Apr</td>\n",
       "      <td>38033596</td>\n",
       "      <td>Apr</td>\n",
       "      <td>17243807874</td>\n",
       "    </tr>\n",
       "    <tr>\n",
       "      <th>4</th>\n",
       "      <td>May</td>\n",
       "      <td>119363697</td>\n",
       "      <td>May</td>\n",
       "      <td>9013785936</td>\n",
       "    </tr>\n",
       "    <tr>\n",
       "      <th>5</th>\n",
       "      <td>Jun</td>\n",
       "      <td>103891329</td>\n",
       "      <td>Jun</td>\n",
       "      <td>43360534478</td>\n",
       "    </tr>\n",
       "    <tr>\n",
       "      <th>6</th>\n",
       "      <td>Jul</td>\n",
       "      <td>102265411</td>\n",
       "      <td>Jul</td>\n",
       "      <td>47686120346</td>\n",
       "    </tr>\n",
       "    <tr>\n",
       "      <th>7</th>\n",
       "      <td>Aug</td>\n",
       "      <td>37484949</td>\n",
       "      <td>Aug</td>\n",
       "      <td>23518703583</td>\n",
       "    </tr>\n",
       "    <tr>\n",
       "      <th>8</th>\n",
       "      <td>Sept</td>\n",
       "      <td>26675599</td>\n",
       "      <td>Sept</td>\n",
       "      <td>46909933019</td>\n",
       "    </tr>\n",
       "    <tr>\n",
       "      <th>9</th>\n",
       "      <td>Oct</td>\n",
       "      <td>30915656</td>\n",
       "      <td>Oct</td>\n",
       "      <td>45478669956</td>\n",
       "    </tr>\n",
       "    <tr>\n",
       "      <th>10</th>\n",
       "      <td>Nov</td>\n",
       "      <td>97593712</td>\n",
       "      <td>Nov</td>\n",
       "      <td>16756285867</td>\n",
       "    </tr>\n",
       "    <tr>\n",
       "      <th>11</th>\n",
       "      <td>Dec</td>\n",
       "      <td>83768191</td>\n",
       "      <td>Dec</td>\n",
       "      <td>12430829246</td>\n",
       "    </tr>\n",
       "  </tbody>\n",
       "</table>\n",
       "</div>"
      ],
      "text/plain": [
       "   Month of Release  Average Profit Total  Total Profit\n",
       "0               Jan        27481054   Jan   16468547390\n",
       "1               Feb        46604886   Feb   17730381161\n",
       "2               Mar        53451599   Mar   52020047153\n",
       "3               Apr        38033596   Apr   17243807874\n",
       "4               May       119363697   May    9013785936\n",
       "5               Jun       103891329   Jun   43360534478\n",
       "6               Jul       102265411   Jul   47686120346\n",
       "7               Aug        37484949   Aug   23518703583\n",
       "8              Sept        26675599  Sept   46909933019\n",
       "9               Oct        30915656   Oct   45478669956\n",
       "10              Nov        97593712   Nov   16756285867\n",
       "11              Dec        83768191   Dec   12430829246"
      ]
     },
     "execution_count": 738,
     "metadata": {},
     "output_type": "execute_result"
    }
   ],
   "source": [
    "monthly_profit"
   ]
  },
  {
   "cell_type": "code",
   "execution_count": 744,
   "metadata": {},
   "outputs": [
    {
     "data": {
      "image/png": "[encoded data removed]",
      "text/plain": [
       "<Figure size 432x288 with 1 Axes>"
      ]
     },
     "metadata": {},
     "output_type": "display_data"
    }
   ],
   "source": [
    "sns.barplot(x = 'Month of Release',\n",
    "            y = 'Total Profit',\n",
    "            data = monthly_profit,\n",
    "            color = \"Blue\")\n",
    "\n",
    "plt.xlabel('Month of Release')\n",
    "plt.ylabel('Total Monthly Profit in Billions')\n",
    "plt.title('Choosing a Release Month based on Total Profit Of That Month')\n",
    "\n",
    "plt.ticklabel_format(style='sci', axis='y', scilimits=(9,9))"
   ]
  }
 ],
 "metadata": {
  "kernelspec": {
   "display_name": "Python 3",
   "language": "python",
   "name": "python3"
  },
  "language_info": {
   "codemirror_mode": {
    "name": "ipython",
    "version": 3
   },
   "file_extension": ".py",
   "mimetype": "text/x-python",
   "name": "python",
   "nbconvert_exporter": "python",
   "pygments_lexer": "ipython3",
   "version": "3.8.5"
  }
 },
 "nbformat": 4,
 "nbformat_minor": 2
}
