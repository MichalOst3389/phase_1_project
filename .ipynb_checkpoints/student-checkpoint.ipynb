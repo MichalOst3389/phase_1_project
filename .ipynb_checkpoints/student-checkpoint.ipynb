{
 "cells": [
  {
   "cell_type": "markdown",
   "metadata": {},
   "source": [
    "## Final Project Submission\n",
    "\n",
    "Please fill out:\n",
    "* Student name: \n",
    "* Student pace: self paced / part time / full time\n",
    "* Scheduled project review date/time: \n",
    "* Instructor name: \n",
    "* Blog post URL:\n"
   ]
  },
  {
   "cell_type": "code",
   "execution_count": 2,
   "metadata": {},
   "outputs": [],
   "source": [
    "#importing libraries"
   ]
  },
  {
   "cell_type": "code",
   "execution_count": 3,
   "metadata": {},
   "outputs": [],
   "source": [
    "import pandas as pd\n",
    "import sqlite3 as sql\n",
    "import numpy as np\n",
    "from matplotlib import pyplot as plt\n",
    "import seaborn as sns\n",
    "%matplotlib inline\n",
    "from sklearn.linear_model import LinearRegression\n",
    "from matplotlib.ticker import FormatStrFormatter"
   ]
  },
  {
   "cell_type": "code",
   "execution_count": 4,
   "metadata": {},
   "outputs": [],
   "source": [
    "#importing csv, tsv files"
   ]
  },
  {
   "cell_type": "code",
   "execution_count": 5,
   "metadata": {},
   "outputs": [],
   "source": [
    "bom_movie_gross_df = pd.read_csv(r'C:\\Users\\micha\\coursematerials\\phase_1_project\\UnzippedData\\bom.movie_gross.csv')\n",
    "rt_movie_info_df = pd.read_csv(r'C:\\Users\\micha\\coursematerials\\phase_1_project\\UnzippedData\\rt.movie_info.tsv', sep='\\t')\n",
    "rt_reviews_df = pd.read_csv(r'C:\\Users\\micha\\coursematerials\\phase_1_project\\UnzippedData\\rt.reviews.tsv', sep='\\t', encoding = 'unicode_escape')\n",
    "tmbd_movies_df = pd.read_csv(r'C:\\Users\\micha\\coursematerials\\phase_1_project\\UnzippedData\\tmdb.movies.csv')\n",
    "tn_movie_budgets_df = pd.read_csv(r'C:\\Users\\micha\\coursematerials\\phase_1_project\\UnzippedData\\tn.movie_budgets.csv')"
   ]
  },
  {
   "cell_type": "code",
   "execution_count": null,
   "metadata": {},
   "outputs": [],
   "source": [
    "#calling top 5 "
   ]
  }
 ],
 "metadata": {
  "kernelspec": {
   "display_name": "Python 3",
   "language": "python",
   "name": "python3"
  },
  "language_info": {
   "codemirror_mode": {
    "name": "ipython",
    "version": 3
   },
   "file_extension": ".py",
   "mimetype": "text/x-python",
   "name": "python",
   "nbconvert_exporter": "python",
   "pygments_lexer": "ipython3",
   "version": "3.8.5"
  }
 },
 "nbformat": 4,
 "nbformat_minor": 2
}
